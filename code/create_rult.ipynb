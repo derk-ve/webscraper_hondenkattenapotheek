{
 "cells": [
  {
   "cell_type": "code",
   "execution_count": 3,
   "id": "a72fa2bf",
   "metadata": {},
   "outputs": [],
   "source": [
    "from price_comparer.prive_pivot_builder import PricePivotBuilder\n",
    "import pandas as pd\n",
    "from datetime import datetime"
   ]
  },
  {
   "cell_type": "code",
   "execution_count": 4,
   "id": "a99127a1",
   "metadata": {},
   "outputs": [
    {
     "name": "stdout",
     "output_type": "stream",
     "text": [
      "23_04_2025\n"
     ]
    }
   ],
   "source": [
    "date = datetime.now().strftime(\"%d_%m_%Y\")\n",
    "print(date)\n",
    "date_to_do = \"14_04_2025\""
   ]
  },
  {
   "cell_type": "code",
   "execution_count": 5,
   "id": "4e2464f1",
   "metadata": {},
   "outputs": [],
   "source": [
    "cleaned_df = pd.read_excel(f\"C:/Users/derkv/OneDrive/Documenten/Brightminds/Webscraper/cleaned_data/cleaned_data_{date_to_do}.xlsx\")"
   ]
  },
  {
   "cell_type": "code",
   "execution_count": 6,
   "id": "73bf08af",
   "metadata": {},
   "outputs": [],
   "source": [
    "pvb = PricePivotBuilder(cleaned_df)\n",
    "result = pvb.build()"
   ]
  },
  {
   "cell_type": "code",
   "execution_count": 7,
   "id": "a23d31b6",
   "metadata": {},
   "outputs": [
    {
     "data": {
      "text/html": [
       "<div>\n",
       "<style scoped>\n",
       "    .dataframe tbody tr th:only-of-type {\n",
       "        vertical-align: middle;\n",
       "    }\n",
       "\n",
       "    .dataframe tbody tr th {\n",
       "        vertical-align: top;\n",
       "    }\n",
       "\n",
       "    .dataframe thead th {\n",
       "        text-align: right;\n",
       "    }\n",
       "</style>\n",
       "<table border=\"1\" class=\"dataframe\">\n",
       "  <thead>\n",
       "    <tr style=\"text-align: right;\">\n",
       "      <th></th>\n",
       "      <th>title</th>\n",
       "      <th>product_name</th>\n",
       "      <th>pet</th>\n",
       "      <th>brand</th>\n",
       "      <th>size</th>\n",
       "      <th>quantity_package</th>\n",
       "      <th>quantity_package_unit</th>\n",
       "      <th>quantity_ordered</th>\n",
       "      <th>price</th>\n",
       "      <th>sale_price</th>\n",
       "      <th>delivery_info</th>\n",
       "      <th>available</th>\n",
       "      <th>website</th>\n",
       "      <th>category</th>\n",
       "      <th>page_number</th>\n",
       "      <th>product_number</th>\n",
       "      <th>product_link</th>\n",
       "      <th>category_link</th>\n",
       "      <th>error</th>\n",
       "    </tr>\n",
       "  </thead>\n",
       "  <tbody>\n",
       "    <tr>\n",
       "      <th>236</th>\n",
       "      <td>Seresto Hond</td>\n",
       "      <td>hond | seresto | S (&lt; 8 kg) | nan nan</td>\n",
       "      <td>hond</td>\n",
       "      <td>seresto</td>\n",
       "      <td>S (&lt; 8 kg)</td>\n",
       "      <td>NaN</td>\n",
       "      <td>NaN</td>\n",
       "      <td>NaN</td>\n",
       "      <td>61.65</td>\n",
       "      <td>NaN</td>\n",
       "      <td>NaN</td>\n",
       "      <td>NaN</td>\n",
       "      <td>medpets</td>\n",
       "      <td>NaN</td>\n",
       "      <td>NaN</td>\n",
       "      <td>NaN</td>\n",
       "      <td>https://www.medpets.nl/seresto-hond?_gl=1*111x...</td>\n",
       "      <td>NaN</td>\n",
       "      <td>NaN</td>\n",
       "    </tr>\n",
       "  </tbody>\n",
       "</table>\n",
       "</div>"
      ],
      "text/plain": [
       "            title                           product_name   pet    brand  \\\n",
       "236  Seresto Hond  hond | seresto | S (< 8 kg) | nan nan  hond  seresto   \n",
       "\n",
       "           size  quantity_package quantity_package_unit  quantity_ordered  \\\n",
       "236  S (< 8 kg)               NaN                   NaN               NaN   \n",
       "\n",
       "     price  sale_price delivery_info  available  website  category  \\\n",
       "236  61.65         NaN           NaN        NaN  medpets       NaN   \n",
       "\n",
       "     page_number  product_number  \\\n",
       "236          NaN             NaN   \n",
       "\n",
       "                                          product_link category_link  error  \n",
       "236  https://www.medpets.nl/seresto-hond?_gl=1*111x...           NaN    NaN  "
      ]
     },
     "execution_count": 7,
     "metadata": {},
     "output_type": "execute_result"
    }
   ],
   "source": [
    "missing_price = pvb.check_missing_prices(result)\n",
    "missing_price"
   ]
  },
  {
   "cell_type": "code",
   "execution_count": 8,
   "id": "d2f2b2bd",
   "metadata": {},
   "outputs": [],
   "source": [
    "with pd.ExcelWriter(f\"C:/Users/derkv/OneDrive/Documenten/Brightminds/Webscraper/result_data/result_{date_to_do}.xlsx\", engine='xlsxwriter') as writer:\n",
    "    result.to_excel(writer, sheet_name='Sheet1', index=False)\n",
    "\n",
    "    # Access workbook and worksheet\n",
    "    workbook = writer.book\n",
    "    worksheet = writer.sheets['Sheet1']\n",
    "\n",
    "    # Define number format: 2 decimal places\n",
    "    format_2dec = workbook.add_format({'num_format': '0.00'})\n",
    "\n",
    "    # Apply format to desired columns (e.g., sale_price and price columns)\n",
    "    for idx, col in enumerate(result.columns):\n",
    "        if col.startswith('price') or col.startswith('sale_price'):\n",
    "            worksheet.set_column(idx, idx, None, format_2dec)"
   ]
  },
  {
   "cell_type": "code",
   "execution_count": null,
   "id": "6620dd0f",
   "metadata": {},
   "outputs": [],
   "source": []
  }
 ],
 "metadata": {
  "kernelspec": {
   "display_name": "venv_webscraper",
   "language": "python",
   "name": "python3"
  },
  "language_info": {
   "codemirror_mode": {
    "name": "ipython",
    "version": 3
   },
   "file_extension": ".py",
   "mimetype": "text/x-python",
   "name": "python",
   "nbconvert_exporter": "python",
   "pygments_lexer": "ipython3",
   "version": "3.11.0"
  }
 },
 "nbformat": 4,
 "nbformat_minor": 5
}
