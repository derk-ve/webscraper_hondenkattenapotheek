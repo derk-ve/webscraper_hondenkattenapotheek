{
 "cells": [
  {
   "cell_type": "code",
   "execution_count": null,
   "metadata": {},
   "outputs": [],
   "source": [
    "from cleaning.cleaner_main import DataCleaner\n",
    "import pandas as pd\n",
    "from datetime import datetime"
   ]
  },
  {
   "cell_type": "code",
   "execution_count": 2,
   "metadata": {},
   "outputs": [
    {
     "name": "stdout",
     "output_type": "stream",
     "text": [
      "23_04_2025\n"
     ]
    }
   ],
   "source": [
    "date = datetime.now().strftime(\"%d_%m_%Y\")\n",
    "print(date)\n",
    "date_to_do = \"14_04_2025\""
   ]
  },
  {
   "cell_type": "code",
   "execution_count": 3,
   "metadata": {},
   "outputs": [],
   "source": [
    "# df = pd.read_pickle(f'C:/Users/derkv/OneDrive/Documenten/Brightminds/Webscraper/scraped_data/scraped_results_full_result_{date}.pkl')\n",
    "df = pd.read_pickle(f'C:/Users/derkv/OneDrive/Documenten/Brightminds/Webscraper/scraped_data/scraped_results_full_result_{date_to_do}.pkl')"
   ]
  },
  {
   "cell_type": "code",
   "execution_count": 4,
   "metadata": {},
   "outputs": [],
   "source": [
    "websites = ['dierapotheker', 'petmarkt', 'medpets', 'pharmacy4pets', 'hondenkattenapotheek']"
   ]
  },
  {
   "cell_type": "code",
   "execution_count": 5,
   "metadata": {},
   "outputs": [
    {
     "name": "stdout",
     "output_type": "stream",
     "text": [
      "\n",
      "Doing website specific cleaning for: dierapotheker\n",
      "\n",
      "Doing website specific cleaning for: petmarkt\n",
      "\n",
      "Doing website specific cleaning for: medpets\n",
      "\n",
      "Doing website specific cleaning for: pharmacy4pets\n",
      "\n",
      "Doing website specific cleaning for: hondenkattenapotheek\n"
     ]
    }
   ],
   "source": [
    "cleaned_df = DataCleaner(df, websites).apply_general_cleaning().apply_website_specific_cleaning().add_additional_columns().order_columns().get_cleaned_df()"
   ]
  },
  {
   "cell_type": "code",
   "execution_count": 6,
   "metadata": {},
   "outputs": [],
   "source": [
    "cleaned_df.to_excel(f\"C:/Users/derkv/OneDrive/Documenten/Brightminds/Webscraper/cleaned_data/cleaned_data_{date_to_do}.xlsx\", index = False)"
   ]
  },
  {
   "cell_type": "code",
   "execution_count": null,
   "metadata": {},
   "outputs": [],
   "source": []
  },
  {
   "cell_type": "code",
   "execution_count": null,
   "metadata": {},
   "outputs": [],
   "source": []
  }
 ],
 "metadata": {
  "kernelspec": {
   "display_name": "venv_webscraper",
   "language": "python",
   "name": "python3"
  },
  "language_info": {
   "codemirror_mode": {
    "name": "ipython",
    "version": 3
   },
   "file_extension": ".py",
   "mimetype": "text/x-python",
   "name": "python",
   "nbconvert_exporter": "python",
   "pygments_lexer": "ipython3",
   "version": "3.11.0"
  }
 },
 "nbformat": 4,
 "nbformat_minor": 2
}
