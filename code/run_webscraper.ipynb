{
 "cells": [
  {
   "cell_type": "code",
   "execution_count": 1,
   "metadata": {},
   "outputs": [],
   "source": [
    "from webscraper.webscraper_main import Webscraper\n",
    "from selenium import webdriver"
   ]
  },
  {
   "cell_type": "code",
   "execution_count": 2,
   "metadata": {},
   "outputs": [],
   "source": [
    "final_columns = ['title', 'pet', 'brand', 'size', 'quantity', 'price', 'sale_price', 'delivery_info', 'available',\n",
    "                'website', 'category', 'page_number', 'product_number',\n",
    "                'product_link', 'category_link', 'error']\n",
    "data_path = 'C:/Users/derkv/OneDrive/Documenten/Brightminds/Webscraper/data/'"
   ]
  },
  {
   "cell_type": "code",
   "execution_count": 3,
   "metadata": {},
   "outputs": [],
   "source": [
    "chrome_options = webdriver.ChromeOptions()\n",
    "chrome_options.add_argument('--lang=nl-NL')\n",
    "chrome_options.add_argument('--start-maximized')\n",
    "chrome_options.add_argument('--start-fullscreen')\n",
    "chrome_options.add_argument('--start-incognito')\n",
    "chrome_options.add_argument('--incognito')"
   ]
  },
  {
   "cell_type": "code",
   "execution_count": 4,
   "metadata": {},
   "outputs": [],
   "source": [
    "# Run the scraper\n",
    "scraper = Webscraper(\n",
    "    chrome_options=chrome_options,\n",
    "    final_columns=final_columns,\n",
    "    final_output_path=\"C:/Users/derkv/OneDrive/Documenten/Brightminds/Webscraper/scraped_data/scraped_results\",\n",
    "    temp_output_path=\"C:/Users/derkv/OneDrive/Documenten/Brightminds/Webscraper/scraped_data/temp_results\",\n",
    "    prev_scraped_path=\"C:/Users/derkv/OneDrive/Documenten/Brightminds/Webscraper/scraped_data/scraped_results_full_result_14_04_2025.pkl\"\n",
    ")"
   ]
  },
  {
   "cell_type": "code",
   "execution_count": 5,
   "metadata": {},
   "outputs": [],
   "source": [
    "website_scrape_types = {\n",
    "    'dierapotheker' : 'product',\n",
    "    'hondenkattenapotheek' : 'category',\n",
    "    'pharmacy4pets' : 'product',\n",
    "    'medpets' : 'product',\n",
    "    'petmarkt' : 'product',\n",
    "}"
   ]
  },
  {
   "cell_type": "code",
   "execution_count": 6,
   "metadata": {},
   "outputs": [
    {
     "name": "stderr",
     "output_type": "stream",
     "text": [
      "INFO:root:Scraping: https://www.dierapotheker.nl/milbemax-grote-kat-ontwormingstabletten/2941.1/\n"
     ]
    },
    {
     "name": "stdout",
     "output_type": "stream",
     "text": [
      "\n",
      "\n",
      "SCRAPING WEBSITE: dierapotheker WITH SCRAPING TYPE: product\n",
      "Returning product scraped result\n",
      "\n",
      "Going to scrape product: https://www.dierapotheker.nl/milbemax-grote-kat-ontwormingstabletten/2941.1/...\n",
      "Waiting for page to load...\n",
      "Page has fully loaded.\n",
      "Waiting 2.81 seconds...\n"
     ]
    },
    {
     "name": "stderr",
     "output_type": "stream",
     "text": [
      "INFO:root:Scraping: https://www.dierapotheker.nl/milbemax-grote-kat-ontwormingstabletten/1323/\n"
     ]
    },
    {
     "name": "stdout",
     "output_type": "stream",
     "text": [
      "Info Retrieved:\n",
      "Product 1: {'title': 'Milbemax Grote Kat Ontwormingstabletten', 'brand': 'MILBEMAX', 'price': {'1': '8,95', '2 ': '8,70', ' 3 ': '8,50'}, 'sale_price': <NA>, 'quantity_options': ['2 tabletten', '4 tabletten', '20 tabletten'], 'quantity': '2 tabletten', 'delivery_info': 'Gratis verzending vanaf €59', 'website': 'dierapotheker', 'product_link': 'https://www.dierapotheker.nl/milbemax-grote-kat-ontwormingstabletten/2941.1/', 'pet': <NA>, 'size': <NA>, 'available': <NA>, 'category': <NA>, 'page_number': <NA>, 'product_number': <NA>, 'category_link': <NA>, 'error': <NA>}\n",
      "Returning product scraped result\n",
      "\n",
      "Going to scrape product: https://www.dierapotheker.nl/milbemax-grote-kat-ontwormingstabletten/1323/...\n",
      "Waiting for page to load...\n",
      "Page has fully loaded.\n",
      "Waiting 3.88 seconds...\n"
     ]
    },
    {
     "name": "stderr",
     "output_type": "stream",
     "text": [
      "INFO:root:Scraping: https://www.dierapotheker.nl/milbemax-grote-kat-ontwormingstabletten/2941/\n"
     ]
    },
    {
     "name": "stdout",
     "output_type": "stream",
     "text": [
      "Info Retrieved:\n",
      "Product 1: {'title': 'Milbemax Grote Kat Ontwormingstabletten', 'brand': 'MILBEMAX', 'price': {'1': '15,95', '2 ': '15,45', ' 3 ': '15,15'}, 'sale_price': <NA>, 'quantity_options': ['2 tabletten', '4 tabletten', '20 tabletten'], 'quantity': '4 tabletten', 'delivery_info': 'Gratis verzending vanaf €59', 'website': 'dierapotheker', 'product_link': 'https://www.dierapotheker.nl/milbemax-grote-kat-ontwormingstabletten/1323/', 'pet': <NA>, 'size': <NA>, 'available': <NA>, 'category': <NA>, 'page_number': <NA>, 'product_number': <NA>, 'category_link': <NA>, 'error': <NA>}\n",
      "Returning product scraped result\n",
      "\n",
      "Going to scrape product: https://www.dierapotheker.nl/milbemax-grote-kat-ontwormingstabletten/2941/...\n",
      "Waiting for page to load...\n",
      "Page has fully loaded.\n",
      "Waiting 2.29 seconds...\n"
     ]
    },
    {
     "name": "stderr",
     "output_type": "stream",
     "text": [
      "INFO:root:Scraping: https://www.dierapotheker.nl/milbemax-kleine-kat-ontwormingstabletten/7665M/\n"
     ]
    },
    {
     "name": "stdout",
     "output_type": "stream",
     "text": [
      "Info Retrieved:\n",
      "Product 1: {'title': 'Milbemax Grote Kat Ontwormingstabletten', 'brand': 'MILBEMAX', 'price': {'1': '79,95', '2 ': '77,55', ' 3 ': '75,95'}, 'sale_price': <NA>, 'quantity_options': ['2 tabletten', '4 tabletten', '20 tabletten'], 'quantity': '20 tabletten', 'delivery_info': 'Gratis verzending vanaf €59', 'website': 'dierapotheker', 'product_link': 'https://www.dierapotheker.nl/milbemax-grote-kat-ontwormingstabletten/2941/', 'pet': <NA>, 'size': <NA>, 'available': <NA>, 'category': <NA>, 'page_number': <NA>, 'product_number': <NA>, 'category_link': <NA>, 'error': <NA>}\n",
      "Returning product scraped result\n",
      "\n",
      "Going to scrape product: https://www.dierapotheker.nl/milbemax-kleine-kat-ontwormingstabletten/7665M/...\n",
      "Waiting for page to load...\n",
      "Page has fully loaded.\n",
      "Waiting 2.1 seconds...\n"
     ]
    },
    {
     "name": "stderr",
     "output_type": "stream",
     "text": [
      "INFO:root:Scraping: https://www.dierapotheker.nl/milbemax-kleine-kat-ontwormingstabletten/1324/\n"
     ]
    },
    {
     "name": "stdout",
     "output_type": "stream",
     "text": [
      "Info Retrieved:\n",
      "Product 1: {'title': 'Milbemax Kleine Kat Ontwormingstabletten', 'brand': 'MILBEMAX', 'price': {'1': '5,55', '2 ': '5,40', ' 3 ': '5,25'}, 'sale_price': <NA>, 'quantity_options': ['2 tabletten', '20 tabletten'], 'quantity': '2 tabletten', 'delivery_info': 'Gratis verzending vanaf €59', 'website': 'dierapotheker', 'product_link': 'https://www.dierapotheker.nl/milbemax-kleine-kat-ontwormingstabletten/7665M/', 'pet': <NA>, 'size': <NA>, 'available': <NA>, 'category': <NA>, 'page_number': <NA>, 'product_number': <NA>, 'category_link': <NA>, 'error': <NA>}\n",
      "Returning product scraped result\n",
      "\n",
      "Going to scrape product: https://www.dierapotheker.nl/milbemax-kleine-kat-ontwormingstabletten/1324/...\n",
      "Waiting for page to load...\n",
      "Page has fully loaded.\n",
      "Waiting 3.99 seconds...\n"
     ]
    },
    {
     "name": "stderr",
     "output_type": "stream",
     "text": [
      "INFO:root:Scraping: https://www.dierapotheker.nl/milpro-ontwormingstabletten-kat/6153/\n"
     ]
    },
    {
     "name": "stdout",
     "output_type": "stream",
     "text": [
      "Info Retrieved:\n",
      "Product 1: {'title': 'Milbemax Kleine Kat Ontwormingstabletten', 'brand': 'MILBEMAX', 'price': {'1': '39,95', '2 ': '38,75', ' 3 ': '37,95'}, 'sale_price': <NA>, 'quantity_options': ['2 tabletten', '20 tabletten'], 'quantity': '20 tabletten', 'delivery_info': 'Gratis verzending vanaf €59', 'website': 'dierapotheker', 'product_link': 'https://www.dierapotheker.nl/milbemax-kleine-kat-ontwormingstabletten/1324/', 'pet': <NA>, 'size': <NA>, 'available': <NA>, 'category': <NA>, 'page_number': <NA>, 'product_number': <NA>, 'category_link': <NA>, 'error': <NA>}\n",
      "Returning product scraped result\n",
      "\n",
      "Going to scrape product: https://www.dierapotheker.nl/milpro-ontwormingstabletten-kat/6153/...\n",
      "Waiting for page to load...\n",
      "Page has fully loaded.\n",
      "Waiting 2.76 seconds...\n"
     ]
    },
    {
     "name": "stderr",
     "output_type": "stream",
     "text": [
      "INFO:root:Scraping: https://www.dierapotheker.nl/milpro-ontwormingstabletten-kat/6150/\n"
     ]
    },
    {
     "name": "stdout",
     "output_type": "stream",
     "text": [
      "Info Retrieved:\n",
      "Product 1: {'title': 'Milpro Ontwormingstabletten Kat', 'brand': 'VIRBAC', 'price': {'1': '56,95', '2 ': '55,25', ' 3 ': '54,10'}, 'sale_price': <NA>, 'quantity_options': ['Kleine Kat/Kitten - 24 tabletten', 'Grote Kat - 4 tabletten', 'Grote Kat - 48 tabletten'], 'quantity': 'Kleine Kat/Kitten - 24 tabletten', 'delivery_info': 'Gratis verzending vanaf €59', 'website': 'dierapotheker', 'product_link': 'https://www.dierapotheker.nl/milpro-ontwormingstabletten-kat/6153/', 'pet': <NA>, 'size': <NA>, 'available': <NA>, 'category': <NA>, 'page_number': <NA>, 'product_number': <NA>, 'category_link': <NA>, 'error': <NA>}\n",
      "Returning product scraped result\n",
      "\n",
      "Going to scrape product: https://www.dierapotheker.nl/milpro-ontwormingstabletten-kat/6150/...\n",
      "Waiting for page to load...\n",
      "Page has fully loaded.\n",
      "Waiting 3.38 seconds...\n"
     ]
    },
    {
     "name": "stderr",
     "output_type": "stream",
     "text": [
      "INFO:root:Scraping: https://www.dierapotheker.nl/milpro-ontwormingstabletten-kat/6151/\n"
     ]
    },
    {
     "name": "stdout",
     "output_type": "stream",
     "text": [
      "Info Retrieved:\n",
      "Product 1: {'title': 'Milpro Ontwormingstabletten Kat', 'brand': 'VIRBAC', 'price': {'1': '21,95', '2 ': '21,30', ' 3 ': '20,85'}, 'sale_price': <NA>, 'quantity_options': ['Kleine Kat/Kitten - 24 tabletten', 'Grote Kat - 4 tabletten', 'Grote Kat - 48 tabletten'], 'quantity': 'Grote Kat - 4 tabletten', 'delivery_info': 'Gratis verzending vanaf €59', 'website': 'dierapotheker', 'product_link': 'https://www.dierapotheker.nl/milpro-ontwormingstabletten-kat/6150/', 'pet': <NA>, 'size': <NA>, 'available': <NA>, 'category': <NA>, 'page_number': <NA>, 'product_number': <NA>, 'category_link': <NA>, 'error': <NA>}\n",
      "Returning product scraped result\n",
      "\n",
      "Going to scrape product: https://www.dierapotheker.nl/milpro-ontwormingstabletten-kat/6151/...\n",
      "Waiting for page to load...\n",
      "Page has fully loaded.\n",
      "Waiting 2.37 seconds...\n"
     ]
    },
    {
     "name": "stderr",
     "output_type": "stream",
     "text": [
      "INFO:root:Scraping: https://www.dierapotheker.nl/drontal-cat-ontwormingstablet-kat/6034/\n"
     ]
    },
    {
     "name": "stdout",
     "output_type": "stream",
     "text": [
      "Info Retrieved:\n",
      "Product 1: {'title': 'Milpro Ontwormingstabletten Kat', 'brand': 'VIRBAC', 'price': {'1': '229,95', '2 ': '223,05', ' 3 ': '218,45'}, 'sale_price': <NA>, 'quantity_options': ['Kleine Kat/Kitten - 24 tabletten', 'Grote Kat - 4 tabletten', 'Grote Kat - 48 tabletten'], 'quantity': 'Grote Kat - 48 tabletten', 'delivery_info': 'Gratis verzending vanaf €59', 'website': 'dierapotheker', 'product_link': 'https://www.dierapotheker.nl/milpro-ontwormingstabletten-kat/6151/', 'pet': <NA>, 'size': <NA>, 'available': <NA>, 'category': <NA>, 'page_number': <NA>, 'product_number': <NA>, 'category_link': <NA>, 'error': <NA>}\n",
      "Returning product scraped result\n",
      "\n",
      "Going to scrape product: https://www.dierapotheker.nl/drontal-cat-ontwormingstablet-kat/6034/...\n",
      "Waiting for page to load...\n",
      "Page has fully loaded.\n",
      "Waiting 2.39 seconds...\n"
     ]
    },
    {
     "name": "stderr",
     "output_type": "stream",
     "text": [
      "INFO:root:Scraping: https://www.dierapotheker.nl/drontal-cat-ontwormingstablet-kat/234/\n"
     ]
    },
    {
     "name": "stdout",
     "output_type": "stream",
     "text": [
      "Info Retrieved:\n",
      "Product 1: {'title': 'Drontal Cat Ontwormingstablet Kat', 'brand': 'DRONTAL', 'price': {'1': '9,95', '2 ': '9,65', ' 3 ': '9,45'}, 'sale_price': <NA>, 'quantity_options': ['2 tabletten', '24 tabletten'], 'quantity': '2 tabletten', 'delivery_info': 'Gratis verzending vanaf €59', 'website': 'dierapotheker', 'product_link': 'https://www.dierapotheker.nl/drontal-cat-ontwormingstablet-kat/6034/', 'pet': <NA>, 'size': <NA>, 'available': <NA>, 'category': <NA>, 'page_number': <NA>, 'product_number': <NA>, 'category_link': <NA>, 'error': <NA>}\n",
      "Returning product scraped result\n",
      "\n",
      "Going to scrape product: https://www.dierapotheker.nl/drontal-cat-ontwormingstablet-kat/234/...\n",
      "Waiting for page to load...\n",
      "Page has fully loaded.\n",
      "Waiting 3.09 seconds...\n"
     ]
    },
    {
     "name": "stderr",
     "output_type": "stream",
     "text": [
      "INFO:root:Scraping: https://www.dierapotheker.nl/drontal-large-cat-ontwormingstablet-grote-kat-24-tabletten/235/\n"
     ]
    },
    {
     "name": "stdout",
     "output_type": "stream",
     "text": [
      "Info Retrieved:\n",
      "Product 1: {'title': 'Drontal Cat Ontwormingstablet Kat', 'brand': 'DRONTAL', 'price': {'1': '89,95', '2 ': '87,25', ' 3 ': '85,45'}, 'sale_price': <NA>, 'quantity_options': ['2 tabletten', '24 tabletten'], 'quantity': '24 tabletten', 'delivery_info': 'Gratis verzending vanaf €59', 'website': 'dierapotheker', 'product_link': 'https://www.dierapotheker.nl/drontal-cat-ontwormingstablet-kat/234/', 'pet': <NA>, 'size': <NA>, 'available': <NA>, 'category': <NA>, 'page_number': <NA>, 'product_number': <NA>, 'category_link': <NA>, 'error': <NA>}\n",
      "Returning product scraped result\n",
      "\n",
      "Going to scrape product: https://www.dierapotheker.nl/drontal-large-cat-ontwormingstablet-grote-kat-24-tabletten/235/...\n",
      "Waiting for page to load...\n",
      "Page has fully loaded.\n",
      "Waiting 3.67 seconds...\n"
     ]
    },
    {
     "name": "stderr",
     "output_type": "stream",
     "text": [
      "INFO:root:Scraping: https://www.dierapotheker.nl/vectra-felis-kat-3-pipetten/11513/\n"
     ]
    },
    {
     "name": "stdout",
     "output_type": "stream",
     "text": [
      "Info Retrieved:\n",
      "Product 1: {'title': 'Drontal Large Cat Ontwormingstablet Grote Kat 24 tabletten', 'brand': 'DRONTAL', 'price': {'1': '115,45', '2 ': '112,00', ' 3 ': '109,70'}, 'sale_price': <NA>, 'quantity_options': [], 'quantity': 'Drontal Large Cat Ontwormingstablet Grote Kat 24 tabletten', 'delivery_info': 'Gratis verzending vanaf €59', 'website': 'dierapotheker', 'product_link': 'https://www.dierapotheker.nl/drontal-large-cat-ontwormingstablet-grote-kat-24-tabletten/235/', 'pet': <NA>, 'size': <NA>, 'available': <NA>, 'category': <NA>, 'page_number': <NA>, 'product_number': <NA>, 'category_link': <NA>, 'error': <NA>}\n",
      "Returning product scraped result\n",
      "\n",
      "Going to scrape product: https://www.dierapotheker.nl/vectra-felis-kat-3-pipetten/11513/...\n",
      "Waiting for page to load...\n",
      "Page has fully loaded.\n",
      "Waiting 2.67 seconds...\n"
     ]
    },
    {
     "name": "stderr",
     "output_type": "stream",
     "text": [
      "INFO:root:Scraping: https://www.dierapotheker.nl/seresto-halsband-vlooien-en-teken-kat/3592.1/\n"
     ]
    },
    {
     "name": "stdout",
     "output_type": "stream",
     "text": [
      "Info Retrieved:\n",
      "Product 1: {'title': 'Vectra Felis Kat 3 pipetten', 'brand': 'VECTRA', 'price': {'1': '18,95', '2 ': '18,40', ' 3 ': '18,00'}, 'sale_price': <NA>, 'quantity_options': [], 'quantity': 'Vectra Felis Kat 3 pipetten', 'delivery_info': 'Gratis verzending vanaf €59', 'website': 'dierapotheker', 'product_link': 'https://www.dierapotheker.nl/vectra-felis-kat-3-pipetten/11513/', 'pet': <NA>, 'size': <NA>, 'available': <NA>, 'category': <NA>, 'page_number': <NA>, 'product_number': <NA>, 'category_link': <NA>, 'error': <NA>}\n",
      "Returning product scraped result\n",
      "\n",
      "Going to scrape product: https://www.dierapotheker.nl/seresto-halsband-vlooien-en-teken-kat/3592.1/...\n",
      "Waiting for page to load...\n",
      "Page has fully loaded.\n",
      "Waiting 2.85 seconds...\n"
     ]
    },
    {
     "name": "stderr",
     "output_type": "stream",
     "text": [
      "INFO:root:Scraping: https://www.dierapotheker.nl/seresto-halsband-vlooien-en-teken-kat/3592/\n"
     ]
    },
    {
     "name": "stdout",
     "output_type": "stream",
     "text": [
      "Info Retrieved:\n",
      "Product 1: {'title': 'Seresto Halsband Vlooien en Teken Kat', 'brand': 'SERESTO', 'price': {'1': '59,95', '2 ': '58,15', ' 3 ': '56,95'}, 'sale_price': <NA>, 'quantity_options': ['1-pack (1 halsband)', '2-pack (2 halsbanden)'], 'quantity': '2-pack (2 halsbanden)', 'delivery_info': 'Gratis verzending vanaf €59', 'website': 'dierapotheker', 'product_link': 'https://www.dierapotheker.nl/seresto-halsband-vlooien-en-teken-kat/3592.1/', 'pet': <NA>, 'size': <NA>, 'available': <NA>, 'category': <NA>, 'page_number': <NA>, 'product_number': <NA>, 'category_link': <NA>, 'error': <NA>}\n",
      "Returning product scraped result\n",
      "\n",
      "Going to scrape product: https://www.dierapotheker.nl/seresto-halsband-vlooien-en-teken-kat/3592/...\n",
      "Waiting for page to load...\n",
      "Page has fully loaded.\n",
      "Waiting 3.8 seconds...\n"
     ]
    },
    {
     "name": "stderr",
     "output_type": "stream",
     "text": [
      "INFO:root:Scraping: https://www.dierapotheker.nl/milbemax-grote-hond-ontwormingstabletten/1321/\n"
     ]
    },
    {
     "name": "stdout",
     "output_type": "stream",
     "text": [
      "Info Retrieved:\n",
      "Product 1: {'title': 'Seresto Halsband Vlooien en Teken Kat', 'brand': 'SERESTO', 'price': {'1': '32,95', '2 ': '31,95', ' 3 ': '31,30'}, 'sale_price': <NA>, 'quantity_options': ['1-pack (1 halsband)', '2-pack (2 halsbanden)'], 'quantity': '1-pack (1 halsband)', 'delivery_info': 'Gratis verzending vanaf €59', 'website': 'dierapotheker', 'product_link': 'https://www.dierapotheker.nl/seresto-halsband-vlooien-en-teken-kat/3592/', 'pet': <NA>, 'size': <NA>, 'available': <NA>, 'category': <NA>, 'page_number': <NA>, 'product_number': <NA>, 'category_link': <NA>, 'error': <NA>}\n",
      "Returning product scraped result\n",
      "\n",
      "Going to scrape product: https://www.dierapotheker.nl/milbemax-grote-hond-ontwormingstabletten/1321/...\n",
      "Waiting for page to load...\n",
      "Page has fully loaded.\n",
      "Waiting 2.06 seconds...\n"
     ]
    },
    {
     "name": "stderr",
     "output_type": "stream",
     "text": [
      "INFO:root:Scraping: https://www.dierapotheker.nl/milbemax-grote-hond-ontwormingstabletten/6960.1/\n"
     ]
    },
    {
     "name": "stdout",
     "output_type": "stream",
     "text": [
      "Info Retrieved:\n",
      "Product 1: {'title': 'Milbemax Grote Hond Ontwormingstabletten', 'brand': 'MILBEMAX', 'price': {'1': '16,95', '2 ': '16,45', ' 3 ': '16,10'}, 'sale_price': <NA>, 'quantity_options': ['2 tabletten', '4 tabletten', '50 tabletten'], 'quantity': '4 tabletten', 'delivery_info': 'Gratis verzending vanaf €59', 'website': 'dierapotheker', 'product_link': 'https://www.dierapotheker.nl/milbemax-grote-hond-ontwormingstabletten/1321/', 'pet': <NA>, 'size': <NA>, 'available': <NA>, 'category': <NA>, 'page_number': <NA>, 'product_number': <NA>, 'category_link': <NA>, 'error': <NA>}\n",
      "Returning product scraped result\n",
      "\n",
      "Going to scrape product: https://www.dierapotheker.nl/milbemax-grote-hond-ontwormingstabletten/6960.1/...\n",
      "Waiting for page to load...\n",
      "Page has fully loaded.\n",
      "Waiting 3.02 seconds...\n"
     ]
    },
    {
     "name": "stderr",
     "output_type": "stream",
     "text": [
      "INFO:root:Scraping: https://www.dierapotheker.nl/milbemax-grote-hond-ontwormingstabletten/4128/\n"
     ]
    },
    {
     "name": "stdout",
     "output_type": "stream",
     "text": [
      "Info Retrieved:\n",
      "Product 1: {'title': 'Milbemax Grote Hond Ontwormingstabletten', 'brand': 'MILBEMAX', 'price': {'1': '9,95', '2 ': '9,65', ' 3 ': '9,45'}, 'sale_price': <NA>, 'quantity_options': ['2 tabletten', '4 tabletten', '50 tabletten'], 'quantity': '2 tabletten', 'delivery_info': 'Gratis verzending vanaf €59', 'website': 'dierapotheker', 'product_link': 'https://www.dierapotheker.nl/milbemax-grote-hond-ontwormingstabletten/6960.1/', 'pet': <NA>, 'size': <NA>, 'available': <NA>, 'category': <NA>, 'page_number': <NA>, 'product_number': <NA>, 'category_link': <NA>, 'error': <NA>}\n",
      "Returning product scraped result\n",
      "\n",
      "Going to scrape product: https://www.dierapotheker.nl/milbemax-grote-hond-ontwormingstabletten/4128/...\n",
      "Waiting for page to load...\n",
      "Page has fully loaded.\n",
      "Waiting 3.06 seconds...\n"
     ]
    },
    {
     "name": "stderr",
     "output_type": "stream",
     "text": [
      "INFO:root:Scraping: https://www.dierapotheker.nl/milbemax-kleine-hond-puppy-ontwormingstabletten/6789/\n"
     ]
    },
    {
     "name": "stdout",
     "output_type": "stream",
     "text": [
      "Info Retrieved:\n",
      "Product 1: {'title': 'Milbemax Grote Hond Ontwormingstabletten', 'brand': 'MILBEMAX', 'price': {'1': '189,95', '2 ': '184,25', ' 3 ': '180,45'}, 'sale_price': <NA>, 'quantity_options': ['2 tabletten', '4 tabletten', '50 tabletten'], 'quantity': '50 tabletten', 'delivery_info': 'Gratis verzending vanaf €59', 'website': 'dierapotheker', 'product_link': 'https://www.dierapotheker.nl/milbemax-grote-hond-ontwormingstabletten/4128/', 'pet': <NA>, 'size': <NA>, 'available': <NA>, 'category': <NA>, 'page_number': <NA>, 'product_number': <NA>, 'category_link': <NA>, 'error': <NA>}\n",
      "Returning product scraped result\n",
      "\n",
      "Going to scrape product: https://www.dierapotheker.nl/milbemax-kleine-hond-puppy-ontwormingstabletten/6789/...\n",
      "Waiting for page to load...\n",
      "Page has fully loaded.\n",
      "Waiting 2.96 seconds...\n"
     ]
    },
    {
     "name": "stderr",
     "output_type": "stream",
     "text": [
      "INFO:root:Scraping: https://www.dierapotheker.nl/milbemax-kleine-hond-puppy-ontwormingstabletten/1322.1/\n"
     ]
    },
    {
     "name": "stdout",
     "output_type": "stream",
     "text": [
      "Info Retrieved:\n",
      "Product 1: {'title': 'Milbemax Kleine Hond Puppy Ontwormingstabletten', 'brand': 'MILBEMAX', 'price': {'1': '8,95', '2 ': '8,70', ' 3 ': '8,50'}, 'sale_price': <NA>, 'quantity_options': ['2 tabletten', '4 tabletten', '50 tabletten'], 'quantity': '4 tabletten', 'delivery_info': 'Gratis verzending vanaf €59', 'website': 'dierapotheker', 'product_link': 'https://www.dierapotheker.nl/milbemax-kleine-hond-puppy-ontwormingstabletten/6789/', 'pet': <NA>, 'size': <NA>, 'available': <NA>, 'category': <NA>, 'page_number': <NA>, 'product_number': <NA>, 'category_link': <NA>, 'error': <NA>}\n",
      "Returning product scraped result\n",
      "\n",
      "Going to scrape product: https://www.dierapotheker.nl/milbemax-kleine-hond-puppy-ontwormingstabletten/1322.1/...\n",
      "Waiting for page to load...\n",
      "Page has fully loaded.\n",
      "Waiting 3.53 seconds...\n"
     ]
    },
    {
     "name": "stderr",
     "output_type": "stream",
     "text": [
      "INFO:root:Scraping: https://www.dierapotheker.nl/milbemax-kleine-hond-puppy-ontwormingstabletten/6446/\n"
     ]
    },
    {
     "name": "stdout",
     "output_type": "stream",
     "text": [
      "Info Retrieved:\n",
      "Product 1: {'title': 'Milbemax Kleine Hond Puppy Ontwormingstabletten', 'brand': 'MILBEMAX', 'price': {'1': '5,55', '2 ': '5,40', ' 3 ': '5,25'}, 'sale_price': <NA>, 'quantity_options': ['2 tabletten', '4 tabletten', '50 tabletten'], 'quantity': '2 tabletten', 'delivery_info': 'Gratis verzending vanaf €59', 'website': 'dierapotheker', 'product_link': 'https://www.dierapotheker.nl/milbemax-kleine-hond-puppy-ontwormingstabletten/1322.1/', 'pet': <NA>, 'size': <NA>, 'available': <NA>, 'category': <NA>, 'page_number': <NA>, 'product_number': <NA>, 'category_link': <NA>, 'error': <NA>}\n",
      "Returning product scraped result\n",
      "\n",
      "Going to scrape product: https://www.dierapotheker.nl/milbemax-kleine-hond-puppy-ontwormingstabletten/6446/...\n",
      "Waiting for page to load...\n",
      "Page has fully loaded.\n",
      "Waiting 2.83 seconds...\n"
     ]
    },
    {
     "name": "stderr",
     "output_type": "stream",
     "text": [
      "INFO:root:Scraping: https://www.dierapotheker.nl/milbemax-smakelijke-kauwtablet-grote-hond-ontwormen/2557/\n"
     ]
    },
    {
     "name": "stdout",
     "output_type": "stream",
     "text": [
      "Info Retrieved:\n",
      "Product 1: {'title': 'Milbemax Kleine Hond Puppy Ontwormingstabletten', 'brand': 'MILBEMAX', 'price': {'1': '79,95', '2 ': '77,55', ' 3 ': '75,95'}, 'sale_price': <NA>, 'quantity_options': ['2 tabletten', '4 tabletten', '50 tabletten'], 'quantity': '50 tabletten', 'delivery_info': 'Gratis verzending vanaf €59', 'website': 'dierapotheker', 'product_link': 'https://www.dierapotheker.nl/milbemax-kleine-hond-puppy-ontwormingstabletten/6446/', 'pet': <NA>, 'size': <NA>, 'available': <NA>, 'category': <NA>, 'page_number': <NA>, 'product_number': <NA>, 'category_link': <NA>, 'error': <NA>}\n",
      "Returning product scraped result\n",
      "\n",
      "Going to scrape product: https://www.dierapotheker.nl/milbemax-smakelijke-kauwtablet-grote-hond-ontwormen/2557/...\n",
      "Waiting for page to load...\n",
      "Page has fully loaded.\n",
      "Waiting 2.6 seconds...\n"
     ]
    },
    {
     "name": "stderr",
     "output_type": "stream",
     "text": [
      "INFO:root:Scraping: https://www.dierapotheker.nl/milbemax-smakelijke-kauwtablet-grote-hond-ontwormen/7839/\n"
     ]
    },
    {
     "name": "stdout",
     "output_type": "stream",
     "text": [
      "Info Retrieved:\n",
      "Product 1: {'title': 'Milbemax Smakelijke Kauwtablet Grote Hond Ontwormen', 'brand': 'MILBEMAX', 'price': {'1': '18,96', '2 ': '18,40', ' 3 ': '18,00'}, 'sale_price': <NA>, 'quantity_options': ['4 tabletten', '48 tabletten'], 'quantity': '4 tabletten', 'delivery_info': 'Gratis verzending vanaf €59', 'website': 'dierapotheker', 'product_link': 'https://www.dierapotheker.nl/milbemax-smakelijke-kauwtablet-grote-hond-ontwormen/2557/', 'pet': <NA>, 'size': <NA>, 'available': <NA>, 'category': <NA>, 'page_number': <NA>, 'product_number': <NA>, 'category_link': <NA>, 'error': <NA>}\n",
      "Returning product scraped result\n",
      "\n",
      "Going to scrape product: https://www.dierapotheker.nl/milbemax-smakelijke-kauwtablet-grote-hond-ontwormen/7839/...\n",
      "Waiting for page to load...\n",
      "Page has fully loaded.\n",
      "Waiting 3.18 seconds...\n"
     ]
    },
    {
     "name": "stderr",
     "output_type": "stream",
     "text": [
      "INFO:root:Scraping: https://www.dierapotheker.nl/milbemax-smakelijke-kauwtablet-kleine-hond-pup-ontwormen/2560/\n"
     ]
    },
    {
     "name": "stdout",
     "output_type": "stream",
     "text": [
      "Info Retrieved:\n",
      "Product 1: {'title': 'Milbemax Smakelijke Kauwtablet Grote Hond Ontwormen', 'brand': 'MILBEMAX', 'price': {'1': '201,04', '2 ': '195,00', ' 3 ': '191,00'}, 'sale_price': <NA>, 'quantity_options': ['4 tabletten', '48 tabletten'], 'quantity': '48 tabletten', 'delivery_info': 'Gratis verzending vanaf €59', 'website': 'dierapotheker', 'product_link': 'https://www.dierapotheker.nl/milbemax-smakelijke-kauwtablet-grote-hond-ontwormen/7839/', 'pet': <NA>, 'size': <NA>, 'available': <NA>, 'category': <NA>, 'page_number': <NA>, 'product_number': <NA>, 'category_link': <NA>, 'error': <NA>}\n",
      "Returning product scraped result\n",
      "\n",
      "Going to scrape product: https://www.dierapotheker.nl/milbemax-smakelijke-kauwtablet-kleine-hond-pup-ontwormen/2560/...\n",
      "Waiting for page to load...\n",
      "Page has fully loaded.\n",
      "Waiting 2.76 seconds...\n"
     ]
    },
    {
     "name": "stderr",
     "output_type": "stream",
     "text": [
      "INFO:root:Scraping: https://www.dierapotheker.nl/milbemax-smakelijke-kauwtablet-kleine-hond-pup-ontwormen/7840/\n"
     ]
    },
    {
     "name": "stdout",
     "output_type": "stream",
     "text": [
      "Info Retrieved:\n",
      "Product 1: {'title': 'Milbemax Smakelijke Kauwtablet Kleine Hond Pup Ontwormen', 'brand': 'MILBEMAX', 'price': {'1': '8,95', '2 ': '8,70', ' 3 ': '8,50'}, 'sale_price': <NA>, 'quantity_options': ['4 tabletten', '48 tabletten'], 'quantity': '4 tabletten', 'delivery_info': 'Gratis verzending vanaf €59', 'website': 'dierapotheker', 'product_link': 'https://www.dierapotheker.nl/milbemax-smakelijke-kauwtablet-kleine-hond-pup-ontwormen/2560/', 'pet': <NA>, 'size': <NA>, 'available': <NA>, 'category': <NA>, 'page_number': <NA>, 'product_number': <NA>, 'category_link': <NA>, 'error': <NA>}\n",
      "Returning product scraped result\n",
      "\n",
      "Going to scrape product: https://www.dierapotheker.nl/milbemax-smakelijke-kauwtablet-kleine-hond-pup-ontwormen/7840/...\n",
      "Waiting for page to load...\n",
      "Page has fully loaded.\n",
      "Waiting 3.18 seconds...\n"
     ]
    },
    {
     "name": "stderr",
     "output_type": "stream",
     "text": [
      "INFO:root:Scraping: https://www.dierapotheker.nl/milpro-ontwormingstabletten-hond/5663/\n"
     ]
    },
    {
     "name": "stdout",
     "output_type": "stream",
     "text": [
      "Info Retrieved:\n",
      "Product 1: {'title': 'Milbemax Smakelijke Kauwtablet Kleine Hond Pup Ontwormen', 'brand': 'MILBEMAX', 'price': {'1': '79,95', '2 ': '77,55', ' 3 ': '75,95'}, 'sale_price': <NA>, 'quantity_options': ['4 tabletten', '48 tabletten'], 'quantity': '48 tabletten', 'delivery_info': 'Gratis verzending vanaf €59', 'website': 'dierapotheker', 'product_link': 'https://www.dierapotheker.nl/milbemax-smakelijke-kauwtablet-kleine-hond-pup-ontwormen/7840/', 'pet': <NA>, 'size': <NA>, 'available': <NA>, 'category': <NA>, 'page_number': <NA>, 'product_number': <NA>, 'category_link': <NA>, 'error': <NA>}\n",
      "Returning product scraped result\n",
      "\n",
      "Going to scrape product: https://www.dierapotheker.nl/milpro-ontwormingstabletten-hond/5663/...\n",
      "Waiting for page to load...\n",
      "Page has fully loaded.\n",
      "Waiting 2.08 seconds...\n"
     ]
    },
    {
     "name": "stderr",
     "output_type": "stream",
     "text": [
      "INFO:root:Scraping: https://www.dierapotheker.nl/milpro-ontwormingstabletten-hond/5668/\n"
     ]
    },
    {
     "name": "stdout",
     "output_type": "stream",
     "text": [
      "Info Retrieved:\n",
      "Product 1: {'title': 'Milpro Ontwormingstabletten Hond', 'brand': 'VIRBAC', 'price': {'1': '21,95', '2 ': '21,30', ' 3 ': '20,85'}, 'sale_price': <NA>, 'quantity_options': ['4 stuks - Hond > 5 kg', '24 stuks - Hond 0.5 - 10 kg', '48 stuks - Hond > 5 kg'], 'quantity': '4 stuks - Hond > 5 kg', 'delivery_info': 'Gratis verzending vanaf €59', 'website': 'dierapotheker', 'product_link': 'https://www.dierapotheker.nl/milpro-ontwormingstabletten-hond/5663/', 'pet': <NA>, 'size': <NA>, 'available': <NA>, 'category': <NA>, 'page_number': <NA>, 'product_number': <NA>, 'category_link': <NA>, 'error': <NA>}\n",
      "Returning product scraped result\n",
      "\n",
      "Going to scrape product: https://www.dierapotheker.nl/milpro-ontwormingstabletten-hond/5668/...\n",
      "Waiting for page to load...\n",
      "Page has fully loaded.\n",
      "Waiting 2.86 seconds...\n"
     ]
    },
    {
     "name": "stderr",
     "output_type": "stream",
     "text": [
      "INFO:root:Scraping: https://www.dierapotheker.nl/milpro-ontwormingstabletten-hond/5666/\n"
     ]
    },
    {
     "name": "stdout",
     "output_type": "stream",
     "text": [
      "Info Retrieved:\n",
      "Product 1: {'title': 'Milpro Ontwormingstabletten Hond', 'brand': 'VIRBAC', 'price': {'1': '44,55', '2 ': '43,20', ' 3 ': '42,30'}, 'sale_price': <NA>, 'quantity_options': ['4 stuks - Hond > 5 kg', '24 stuks - Hond 0.5 - 10 kg', '48 stuks - Hond > 5 kg'], 'quantity': '24 stuks - Hond 0.5 - 10 kg', 'delivery_info': 'Gratis verzending vanaf €59', 'website': 'dierapotheker', 'product_link': 'https://www.dierapotheker.nl/milpro-ontwormingstabletten-hond/5668/', 'pet': <NA>, 'size': <NA>, 'available': <NA>, 'category': <NA>, 'page_number': <NA>, 'product_number': <NA>, 'category_link': <NA>, 'error': <NA>}\n",
      "Returning product scraped result\n",
      "\n",
      "Going to scrape product: https://www.dierapotheker.nl/milpro-ontwormingstabletten-hond/5666/...\n",
      "Waiting for page to load...\n",
      "Page has fully loaded.\n",
      "Waiting 3.65 seconds...\n"
     ]
    },
    {
     "name": "stderr",
     "output_type": "stream",
     "text": [
      "INFO:root:Scraping: https://www.dierapotheker.nl/milbactor-ontwormingstablet-hond/6608/\n"
     ]
    },
    {
     "name": "stdout",
     "output_type": "stream",
     "text": [
      "Info Retrieved:\n",
      "Product 1: {'title': 'Milpro Ontwormingstabletten Hond', 'brand': 'VIRBAC', 'price': {'1': '239,95', '2 ': '232,75', ' 3 ': '227,95'}, 'sale_price': <NA>, 'quantity_options': ['4 stuks - Hond > 5 kg', '24 stuks - Hond 0.5 - 10 kg', '48 stuks - Hond > 5 kg'], 'quantity': '48 stuks - Hond > 5 kg', 'delivery_info': 'Gratis verzending vanaf €59', 'website': 'dierapotheker', 'product_link': 'https://www.dierapotheker.nl/milpro-ontwormingstabletten-hond/5666/', 'pet': <NA>, 'size': <NA>, 'available': <NA>, 'category': <NA>, 'page_number': <NA>, 'product_number': <NA>, 'category_link': <NA>, 'error': <NA>}\n",
      "Returning product scraped result\n",
      "\n",
      "Going to scrape product: https://www.dierapotheker.nl/milbactor-ontwormingstablet-hond/6608/...\n",
      "Waiting for page to load...\n",
      "Page has fully loaded.\n",
      "Waiting 2.39 seconds...\n"
     ]
    },
    {
     "name": "stderr",
     "output_type": "stream",
     "text": [
      "INFO:root:Scraping: https://www.dierapotheker.nl/milbactor-ontwormingstablet-hond/6610/\n"
     ]
    },
    {
     "name": "stdout",
     "output_type": "stream",
     "text": [
      "Info Retrieved:\n",
      "Product 1: {'title': 'Milbactor Ontwormingstablet Hond', 'brand': 'MILBACTOR', 'price': {'1': '18,95', '2 ': '18,40', ' 3 ': '18,00'}, 'sale_price': <NA>, 'quantity_options': ['4 tabletten - Middelgrote en grote hond', '48 tabletten - Kleine hond en puppy', '48 tabletten - Middelgrote en grote hond'], 'quantity': '4 tabletten - Middelgrote en grote hond', 'delivery_info': 'Gratis verzending vanaf €59', 'website': 'dierapotheker', 'product_link': 'https://www.dierapotheker.nl/milbactor-ontwormingstablet-hond/6608/', 'pet': <NA>, 'size': <NA>, 'available': <NA>, 'category': <NA>, 'page_number': <NA>, 'product_number': <NA>, 'category_link': <NA>, 'error': <NA>}\n",
      "Returning product scraped result\n",
      "\n",
      "Going to scrape product: https://www.dierapotheker.nl/milbactor-ontwormingstablet-hond/6610/...\n",
      "Waiting for page to load...\n",
      "Page has fully loaded.\n",
      "Waiting 3.0 seconds...\n"
     ]
    },
    {
     "name": "stderr",
     "output_type": "stream",
     "text": [
      "INFO:root:Scraping: https://www.dierapotheker.nl/milbactor-ontwormingstablet-hond/6609/\n"
     ]
    },
    {
     "name": "stdout",
     "output_type": "stream",
     "text": [
      "Info Retrieved:\n",
      "Product 1: {'title': 'Milbactor Ontwormingstablet Hond', 'brand': 'MILBACTOR', 'price': {'1': '82,45', '2 ': '80,00', ' 3 ': '78,35'}, 'sale_price': <NA>, 'quantity_options': ['4 tabletten - Middelgrote en grote hond', '48 tabletten - Kleine hond en puppy', '48 tabletten - Middelgrote en grote hond'], 'quantity': '48 tabletten - Kleine hond en puppy', 'delivery_info': 'Gratis verzending vanaf €59', 'website': 'dierapotheker', 'product_link': 'https://www.dierapotheker.nl/milbactor-ontwormingstablet-hond/6610/', 'pet': <NA>, 'size': <NA>, 'available': <NA>, 'category': <NA>, 'page_number': <NA>, 'product_number': <NA>, 'category_link': <NA>, 'error': <NA>}\n",
      "Returning product scraped result\n",
      "\n",
      "Going to scrape product: https://www.dierapotheker.nl/milbactor-ontwormingstablet-hond/6609/...\n",
      "Waiting for page to load...\n",
      "Page has fully loaded.\n",
      "Waiting 3.1 seconds...\n"
     ]
    },
    {
     "name": "stderr",
     "output_type": "stream",
     "text": [
      "INFO:root:Scraping: https://www.dierapotheker.nl/panacur-kh-ontwormingstabletten-hond-kat/928/\n"
     ]
    },
    {
     "name": "stdout",
     "output_type": "stream",
     "text": [
      "Info Retrieved:\n",
      "Product 1: {'title': 'Milbactor Ontwormingstablet Hond', 'brand': 'MILBACTOR', 'price': {'1': '199,90', '2 ': '193,90', ' 3 ': '189,90'}, 'sale_price': <NA>, 'quantity_options': ['4 tabletten - Middelgrote en grote hond', '48 tabletten - Kleine hond en puppy', '48 tabletten - Middelgrote en grote hond'], 'quantity': '48 tabletten - Middelgrote en grote hond', 'delivery_info': 'Gratis verzending vanaf €59', 'website': 'dierapotheker', 'product_link': 'https://www.dierapotheker.nl/milbactor-ontwormingstablet-hond/6609/', 'pet': <NA>, 'size': <NA>, 'available': <NA>, 'category': <NA>, 'page_number': <NA>, 'product_number': <NA>, 'category_link': <NA>, 'error': <NA>}\n",
      "Returning product scraped result\n",
      "\n",
      "Going to scrape product: https://www.dierapotheker.nl/panacur-kh-ontwormingstabletten-hond-kat/928/...\n",
      "Waiting for page to load...\n",
      "Page has fully loaded.\n",
      "Waiting 2.47 seconds...\n"
     ]
    },
    {
     "name": "stderr",
     "output_type": "stream",
     "text": [
      "INFO:root:Scraping: https://www.dierapotheker.nl/panacur-kh-ontwormingstabletten-hond-kat/926/\n"
     ]
    },
    {
     "name": "stdout",
     "output_type": "stream",
     "text": [
      "Info Retrieved:\n",
      "Product 1: {'title': 'Panacur KH Ontwormingstabletten Hond Kat', 'brand': 'PANACUR', 'price': {'1': '15,65', '2 ': '15,20', ' 3 ': '14,85'}, 'sale_price': <NA>, 'quantity_options': ['250 - 10 tabletten', '500 - 10 tabletten'], 'quantity': '500 - 10 tabletten', 'delivery_info': 'Gratis verzending vanaf €59', 'website': 'dierapotheker', 'product_link': 'https://www.dierapotheker.nl/panacur-kh-ontwormingstabletten-hond-kat/928/', 'pet': <NA>, 'size': <NA>, 'available': <NA>, 'category': <NA>, 'page_number': <NA>, 'product_number': <NA>, 'category_link': <NA>, 'error': <NA>}\n",
      "Returning product scraped result\n",
      "\n",
      "Going to scrape product: https://www.dierapotheker.nl/panacur-kh-ontwormingstabletten-hond-kat/926/...\n",
      "Waiting for page to load...\n",
      "Page has fully loaded.\n",
      "Waiting 2.1 seconds...\n"
     ]
    },
    {
     "name": "stderr",
     "output_type": "stream",
     "text": [
      "INFO:root:Scraping: https://www.dierapotheker.nl/drontal-dog-tasty-flavour-ontwormingstablet-hond/1137/\n"
     ]
    },
    {
     "name": "stdout",
     "output_type": "stream",
     "text": [
      "Info Retrieved:\n",
      "Product 1: {'title': 'Panacur KH Ontwormingstabletten Hond Kat', 'brand': 'PANACUR', 'price': {'1': '10,45', '2 ': '10,15', ' 3 ': '9,95'}, 'sale_price': <NA>, 'quantity_options': ['250 - 10 tabletten', '500 - 10 tabletten'], 'quantity': '250 - 10 tabletten', 'delivery_info': 'Gratis verzending vanaf €59', 'website': 'dierapotheker', 'product_link': 'https://www.dierapotheker.nl/panacur-kh-ontwormingstabletten-hond-kat/926/', 'pet': <NA>, 'size': <NA>, 'available': <NA>, 'category': <NA>, 'page_number': <NA>, 'product_number': <NA>, 'category_link': <NA>, 'error': <NA>}\n",
      "Returning product scraped result\n",
      "\n",
      "Going to scrape product: https://www.dierapotheker.nl/drontal-dog-tasty-flavour-ontwormingstablet-hond/1137/...\n",
      "Waiting for page to load...\n",
      "Page has fully loaded.\n",
      "Waiting 2.4 seconds...\n"
     ]
    },
    {
     "name": "stderr",
     "output_type": "stream",
     "text": [
      "INFO:root:Scraping: https://www.dierapotheker.nl/drontal-dog-tasty-flavour-ontwormingstablet-hond/10749/\n"
     ]
    },
    {
     "name": "stdout",
     "output_type": "stream",
     "text": [
      "Info Retrieved:\n",
      "Product 1: {'title': 'Drontal Dog Tasty Flavour Ontwormingstablet Hond', 'brand': 'DRONTAL', 'price': {'1': '19,95', '2 ': '19,35', ' 3 ': '18,95'}, 'sale_price': <NA>, 'quantity_options': ['2 tabletten', '6 tabletten', '102 tabletten'], 'quantity': '6 tabletten', 'delivery_info': 'Gratis verzending vanaf €59', 'website': 'dierapotheker', 'product_link': 'https://www.dierapotheker.nl/drontal-dog-tasty-flavour-ontwormingstablet-hond/1137/', 'pet': <NA>, 'size': <NA>, 'available': <NA>, 'category': <NA>, 'page_number': <NA>, 'product_number': <NA>, 'category_link': <NA>, 'error': <NA>}\n",
      "Returning product scraped result\n",
      "\n",
      "Going to scrape product: https://www.dierapotheker.nl/drontal-dog-tasty-flavour-ontwormingstablet-hond/10749/...\n",
      "Waiting for page to load...\n",
      "Page has fully loaded.\n",
      "Waiting 2.02 seconds...\n"
     ]
    },
    {
     "name": "stderr",
     "output_type": "stream",
     "text": [
      "INFO:root:Scraping: https://www.dierapotheker.nl/drontal-dog-tasty-flavour-ontwormingstablet-hond/6714/\n"
     ]
    },
    {
     "name": "stdout",
     "output_type": "stream",
     "text": [
      "Info Retrieved:\n",
      "Product 1: {'title': 'Drontal Dog Tasty Flavour Ontwormingstablet Hond', 'brand': 'DRONTAL', 'price': {'1': '11,95', '2 ': '11,60', ' 3 ': '11,35'}, 'sale_price': <NA>, 'quantity_options': ['2 tabletten', '6 tabletten', '102 tabletten'], 'quantity': '2 tabletten', 'delivery_info': 'Gratis verzending vanaf €59', 'website': 'dierapotheker', 'product_link': 'https://www.dierapotheker.nl/drontal-dog-tasty-flavour-ontwormingstablet-hond/10749/', 'pet': <NA>, 'size': <NA>, 'available': <NA>, 'category': <NA>, 'page_number': <NA>, 'product_number': <NA>, 'category_link': <NA>, 'error': <NA>}\n",
      "Returning product scraped result\n",
      "\n",
      "Going to scrape product: https://www.dierapotheker.nl/drontal-dog-tasty-flavour-ontwormingstablet-hond/6714/...\n",
      "Waiting for page to load...\n",
      "Page has fully loaded.\n",
      "Waiting 2.68 seconds...\n"
     ]
    },
    {
     "name": "stderr",
     "output_type": "stream",
     "text": [
      "INFO:root:Scraping: https://www.dierapotheker.nl/drontal-large-dog-flavour-ontwormingstablet-grote-hond/1138/\n"
     ]
    },
    {
     "name": "stdout",
     "output_type": "stream",
     "text": [
      "Info Retrieved:\n",
      "Product 1: {'title': 'Drontal Dog Tasty Flavour Ontwormingstablet Hond', 'brand': 'DRONTAL', 'price': {'1': '299,90', '2 ': '290,90', ' 3 ': '284,90'}, 'sale_price': <NA>, 'quantity_options': ['2 tabletten', '6 tabletten', '102 tabletten'], 'quantity': '102 tabletten', 'delivery_info': 'Gratis verzending vanaf €59', 'website': 'dierapotheker', 'product_link': 'https://www.dierapotheker.nl/drontal-dog-tasty-flavour-ontwormingstablet-hond/6714/', 'pet': <NA>, 'size': <NA>, 'available': <NA>, 'category': <NA>, 'page_number': <NA>, 'product_number': <NA>, 'category_link': <NA>, 'error': <NA>}\n",
      "Returning product scraped result\n",
      "\n",
      "Going to scrape product: https://www.dierapotheker.nl/drontal-large-dog-flavour-ontwormingstablet-grote-hond/1138/...\n",
      "Waiting for page to load...\n",
      "Page has fully loaded.\n",
      "Waiting 3.34 seconds...\n"
     ]
    },
    {
     "name": "stderr",
     "output_type": "stream",
     "text": [
      "INFO:root:Scraping: https://www.dierapotheker.nl/drontal-large-dog-flavour-ontwormingstablet-grote-hond/232/\n"
     ]
    },
    {
     "name": "stdout",
     "output_type": "stream",
     "text": [
      "Info Retrieved:\n",
      "Product 1: {'title': 'Drontal Large Dog Flavour Ontwormingstablet Grote Hond', 'brand': 'DRONTAL', 'price': {'1': '19,95', '2 ': '19,35', ' 3 ': '18,95'}, 'sale_price': <NA>, 'quantity_options': ['2 tabletten', '24 tabletten'], 'quantity': '2 tabletten', 'delivery_info': 'Gratis verzending vanaf €59', 'website': 'dierapotheker', 'product_link': 'https://www.dierapotheker.nl/drontal-large-dog-flavour-ontwormingstablet-grote-hond/1138/', 'pet': <NA>, 'size': <NA>, 'available': <NA>, 'category': <NA>, 'page_number': <NA>, 'product_number': <NA>, 'category_link': <NA>, 'error': <NA>}\n",
      "Returning product scraped result\n",
      "\n",
      "Going to scrape product: https://www.dierapotheker.nl/drontal-large-dog-flavour-ontwormingstablet-grote-hond/232/...\n",
      "Waiting for page to load...\n",
      "Page has fully loaded.\n",
      "Waiting 3.7 seconds...\n"
     ]
    },
    {
     "name": "stderr",
     "output_type": "stream",
     "text": [
      "INFO:root:Scraping: https://www.dierapotheker.nl/vectra-3d-hond/11514/\n"
     ]
    },
    {
     "name": "stdout",
     "output_type": "stream",
     "text": [
      "Info Retrieved:\n",
      "Product 1: {'title': 'Drontal Large Dog Flavour Ontwormingstablet Grote Hond', 'brand': 'DRONTAL', 'price': {'1': '199,90', '2 ': '193,90', ' 3 ': '189,90'}, 'sale_price': <NA>, 'quantity_options': ['2 tabletten', '24 tabletten'], 'quantity': '24 tabletten', 'delivery_info': 'Gratis verzending vanaf €59', 'website': 'dierapotheker', 'product_link': 'https://www.dierapotheker.nl/drontal-large-dog-flavour-ontwormingstablet-grote-hond/232/', 'pet': <NA>, 'size': <NA>, 'available': <NA>, 'category': <NA>, 'page_number': <NA>, 'product_number': <NA>, 'category_link': <NA>, 'error': <NA>}\n",
      "Returning product scraped result\n",
      "\n",
      "Going to scrape product: https://www.dierapotheker.nl/vectra-3d-hond/11514/...\n",
      "Waiting for page to load...\n",
      "Page has fully loaded.\n",
      "Waiting 3.01 seconds...\n"
     ]
    },
    {
     "name": "stderr",
     "output_type": "stream",
     "text": [
      "INFO:root:Scraping: https://www.dierapotheker.nl/vectra-3d-hond/11514.4/\n"
     ]
    },
    {
     "name": "stdout",
     "output_type": "stream",
     "text": [
      "Info Retrieved:\n",
      "Product 1: {'title': 'Vectra 3D Hond', 'brand': 'VECTRA', 'price': {'1': '19,95', '2 ': '19,35', ' 3 ': '18,95'}, 'sale_price': <NA>, 'quantity_options': ['XS 1.5-4 kg 3 pip.', 'S 4-10 kg 3 pip.', 'M 10-25 kg 3 pip.', 'L 25-40 kg 3 pip.', 'XL >40 kg 3 pip.'], 'quantity': 'S 4-10 kg 3 pip.', 'delivery_info': 'Gratis verzending vanaf €59', 'website': 'dierapotheker', 'product_link': 'https://www.dierapotheker.nl/vectra-3d-hond/11514/', 'pet': <NA>, 'size': <NA>, 'available': <NA>, 'category': <NA>, 'page_number': <NA>, 'product_number': <NA>, 'category_link': <NA>, 'error': <NA>}\n",
      "Returning product scraped result\n",
      "\n",
      "Going to scrape product: https://www.dierapotheker.nl/vectra-3d-hond/11514.4/...\n",
      "Waiting for page to load...\n",
      "Page has fully loaded.\n",
      "Waiting 2.5 seconds...\n"
     ]
    },
    {
     "name": "stderr",
     "output_type": "stream",
     "text": [
      "INFO:root:Scraping: https://www.dierapotheker.nl/vectra-3d-hond/11514.1/\n"
     ]
    },
    {
     "name": "stdout",
     "output_type": "stream",
     "text": [
      "Info Retrieved:\n",
      "Product 1: {'title': 'Vectra 3D Hond', 'brand': 'VECTRA', 'price': {'1': '18,95', '2 ': '18,40', ' 3 ': '18,00'}, 'sale_price': <NA>, 'quantity_options': ['XS 1.5-4 kg 3 pip.', 'S 4-10 kg 3 pip.', 'M 10-25 kg 3 pip.', 'L 25-40 kg 3 pip.', 'XL >40 kg 3 pip.'], 'quantity': 'XS 1.5-4 kg 3 pip.', 'delivery_info': 'Gratis verzending vanaf €59', 'website': 'dierapotheker', 'product_link': 'https://www.dierapotheker.nl/vectra-3d-hond/11514.4/', 'pet': <NA>, 'size': <NA>, 'available': <NA>, 'category': <NA>, 'page_number': <NA>, 'product_number': <NA>, 'category_link': <NA>, 'error': <NA>}\n",
      "Returning product scraped result\n",
      "\n",
      "Going to scrape product: https://www.dierapotheker.nl/vectra-3d-hond/11514.1/...\n",
      "Waiting for page to load...\n",
      "Page has fully loaded.\n",
      "Waiting 2.93 seconds...\n"
     ]
    },
    {
     "name": "stderr",
     "output_type": "stream",
     "text": [
      "INFO:root:Scraping: https://www.dierapotheker.nl/vectra-3d-hond/11514.2/\n"
     ]
    },
    {
     "name": "stdout",
     "output_type": "stream",
     "text": [
      "Info Retrieved:\n",
      "Product 1: {'title': 'Vectra 3D Hond', 'brand': 'VECTRA', 'price': {'1': '24,95', '2 ': '24,20', ' 3 ': '23,70'}, 'sale_price': <NA>, 'quantity_options': ['XS 1.5-4 kg 3 pip.', 'S 4-10 kg 3 pip.', 'M 10-25 kg 3 pip.', 'L 25-40 kg 3 pip.', 'XL >40 kg 3 pip.'], 'quantity': 'M 10-25 kg 3 pip.', 'delivery_info': 'Gratis verzending vanaf €59', 'website': 'dierapotheker', 'product_link': 'https://www.dierapotheker.nl/vectra-3d-hond/11514.1/', 'pet': <NA>, 'size': <NA>, 'available': <NA>, 'category': <NA>, 'page_number': <NA>, 'product_number': <NA>, 'category_link': <NA>, 'error': <NA>}\n",
      "Returning product scraped result\n",
      "\n",
      "Going to scrape product: https://www.dierapotheker.nl/vectra-3d-hond/11514.2/...\n",
      "Waiting for page to load...\n",
      "Page has fully loaded.\n",
      "Waiting 3.07 seconds...\n"
     ]
    },
    {
     "name": "stderr",
     "output_type": "stream",
     "text": [
      "INFO:root:Scraping: https://www.dierapotheker.nl/vectra-3d-hond/11514.3/\n"
     ]
    },
    {
     "name": "stdout",
     "output_type": "stream",
     "text": [
      "Info Retrieved:\n",
      "Product 1: {'title': 'Vectra 3D Hond', 'brand': 'VECTRA', 'price': {'1': '24,95', '2 ': '24,20', ' 3 ': '23,70'}, 'sale_price': <NA>, 'quantity_options': ['XS 1.5-4 kg 3 pip.', 'S 4-10 kg 3 pip.', 'M 10-25 kg 3 pip.', 'L 25-40 kg 3 pip.', 'XL >40 kg 3 pip.'], 'quantity': 'L 25-40 kg 3 pip.', 'delivery_info': 'Gratis verzending vanaf €59', 'website': 'dierapotheker', 'product_link': 'https://www.dierapotheker.nl/vectra-3d-hond/11514.2/', 'pet': <NA>, 'size': <NA>, 'available': <NA>, 'category': <NA>, 'page_number': <NA>, 'product_number': <NA>, 'category_link': <NA>, 'error': <NA>}\n",
      "Returning product scraped result\n",
      "\n",
      "Going to scrape product: https://www.dierapotheker.nl/vectra-3d-hond/11514.3/...\n",
      "Waiting for page to load...\n",
      "Page has fully loaded.\n",
      "Waiting 2.62 seconds...\n"
     ]
    },
    {
     "name": "stderr",
     "output_type": "stream",
     "text": [
      "INFO:root:Scraping: https://www.dierapotheker.nl/advantix-spot-on-hond/2349/\n"
     ]
    },
    {
     "name": "stdout",
     "output_type": "stream",
     "text": [
      "Info Retrieved:\n",
      "Product 1: {'title': 'Vectra 3D Hond', 'brand': 'VECTRA', 'price': {'1': '26,95', '2 ': '26,15', ' 3 ': '25,60'}, 'sale_price': <NA>, 'quantity_options': ['XS 1.5-4 kg 3 pip.', 'S 4-10 kg 3 pip.', 'M 10-25 kg 3 pip.', 'L 25-40 kg 3 pip.', 'XL >40 kg 3 pip.'], 'quantity': 'XL >40 kg 3 pip.', 'delivery_info': 'Gratis verzending vanaf €59', 'website': 'dierapotheker', 'product_link': 'https://www.dierapotheker.nl/vectra-3d-hond/11514.3/', 'pet': <NA>, 'size': <NA>, 'available': <NA>, 'category': <NA>, 'page_number': <NA>, 'product_number': <NA>, 'category_link': <NA>, 'error': <NA>}\n",
      "Returning product scraped result\n",
      "\n",
      "Going to scrape product: https://www.dierapotheker.nl/advantix-spot-on-hond/2349/...\n",
      "Waiting for page to load...\n",
      "Page has fully loaded.\n",
      "Waiting 2.96 seconds...\n"
     ]
    },
    {
     "name": "stderr",
     "output_type": "stream",
     "text": [
      "INFO:root:Scraping: https://www.dierapotheker.nl/advantix-spot-on-hond/2351/\n"
     ]
    },
    {
     "name": "stdout",
     "output_type": "stream",
     "text": [
      "Info Retrieved:\n",
      "Product 1: {'title': 'Advantix Spot-on Hond', 'brand': 'ADVANTIX', 'price': {'1': '24,25', '2 ': '23,50', ' 3 ': '23,05'}, 'sale_price': <NA>, 'quantity_options': ['4 pipetten - 4 - 10 kg - 100/500', '4 pipetten - 10 - 25 kg - 250/1250', '4 pipetten - 25 - 40 kg - 400/2000', '4 pipetten - 40 - 60 kg - 600/3000', '4 pipetten - < 4 kg - 40/200', '6 pipetten - 4 - 10 kg - 100/500', '6 pipetten - 10 - 25 kg - 250/1250', '6 pipetten - 25 - 40 kg - 400/2000', '6 pipetten - 40 - 60 kg - 600/3000', '6 pipetten - < 4 kg - 40/200', '24 pipetten - 4 - 10 kg - 100/500', '24 pipetten - 10 - 25 kg - 250/1250', '24 pipetten - 25 - 40 kg - 400/2000'], 'quantity': '4 pipetten - 4 - 10 kg - 100/500', 'delivery_info': 'Gratis verzending vanaf €59', 'website': 'dierapotheker', 'product_link': 'https://www.dierapotheker.nl/advantix-spot-on-hond/2349/', 'pet': <NA>, 'size': <NA>, 'available': <NA>, 'category': <NA>, 'page_number': <NA>, 'product_number': <NA>, 'category_link': <NA>, 'error': <NA>}\n",
      "Returning product scraped result\n",
      "\n",
      "Going to scrape product: https://www.dierapotheker.nl/advantix-spot-on-hond/2351/...\n",
      "Waiting for page to load...\n",
      "Page has fully loaded.\n",
      "Waiting 2.36 seconds...\n"
     ]
    },
    {
     "name": "stderr",
     "output_type": "stream",
     "text": [
      "INFO:root:Scraping: https://www.dierapotheker.nl/advantix-spot-on-hond/2352/\n"
     ]
    },
    {
     "name": "stdout",
     "output_type": "stream",
     "text": [
      "Info Retrieved:\n",
      "Product 1: {'title': 'Advantix Spot-on Hond', 'brand': 'ADVANTIX', 'price': {'1': '27,35', '2 ': '26,55', ' 3 ': '26,00'}, 'sale_price': <NA>, 'quantity_options': ['4 pipetten - 4 - 10 kg - 100/500', '4 pipetten - 10 - 25 kg - 250/1250', '4 pipetten - 25 - 40 kg - 400/2000', '4 pipetten - 40 - 60 kg - 600/3000', '4 pipetten - < 4 kg - 40/200', '6 pipetten - 4 - 10 kg - 100/500', '6 pipetten - 10 - 25 kg - 250/1250', '6 pipetten - 25 - 40 kg - 400/2000', '6 pipetten - 40 - 60 kg - 600/3000', '6 pipetten - < 4 kg - 40/200', '24 pipetten - 4 - 10 kg - 100/500', '24 pipetten - 10 - 25 kg - 250/1250', '24 pipetten - 25 - 40 kg - 400/2000'], 'quantity': '4 pipetten - 10 - 25 kg - 250/1250', 'delivery_info': 'Gratis verzending vanaf €59', 'website': 'dierapotheker', 'product_link': 'https://www.dierapotheker.nl/advantix-spot-on-hond/2351/', 'pet': <NA>, 'size': <NA>, 'available': <NA>, 'category': <NA>, 'page_number': <NA>, 'product_number': <NA>, 'category_link': <NA>, 'error': <NA>}\n",
      "Returning product scraped result\n",
      "\n",
      "Going to scrape product: https://www.dierapotheker.nl/advantix-spot-on-hond/2352/...\n",
      "Waiting for page to load...\n",
      "Page has fully loaded.\n",
      "Waiting 3.82 seconds...\n"
     ]
    },
    {
     "name": "stderr",
     "output_type": "stream",
     "text": [
      "INFO:root:Scraping: https://www.dierapotheker.nl/advantix-spot-on-hond/10128/\n"
     ]
    },
    {
     "name": "stdout",
     "output_type": "stream",
     "text": [
      "Info Retrieved:\n",
      "Product 1: {'title': 'Advantix Spot-on Hond', 'brand': 'ADVANTIX', 'price': {'1': '31,55', '2 ': '30,60', ' 3 ': '29,95'}, 'sale_price': <NA>, 'quantity_options': ['4 pipetten - 4 - 10 kg - 100/500', '4 pipetten - 10 - 25 kg - 250/1250', '4 pipetten - 25 - 40 kg - 400/2000', '4 pipetten - 40 - 60 kg - 600/3000', '4 pipetten - < 4 kg - 40/200', '6 pipetten - 4 - 10 kg - 100/500', '6 pipetten - 10 - 25 kg - 250/1250', '6 pipetten - 25 - 40 kg - 400/2000', '6 pipetten - 40 - 60 kg - 600/3000', '6 pipetten - < 4 kg - 40/200', '24 pipetten - 4 - 10 kg - 100/500', '24 pipetten - 10 - 25 kg - 250/1250', '24 pipetten - 25 - 40 kg - 400/2000'], 'quantity': '4 pipetten - 25 - 40 kg - 400/2000', 'delivery_info': 'Gratis verzending vanaf €59', 'website': 'dierapotheker', 'product_link': 'https://www.dierapotheker.nl/advantix-spot-on-hond/2352/', 'pet': <NA>, 'size': <NA>, 'available': <NA>, 'category': <NA>, 'page_number': <NA>, 'product_number': <NA>, 'category_link': <NA>, 'error': <NA>}\n",
      "Returning product scraped result\n",
      "\n",
      "Going to scrape product: https://www.dierapotheker.nl/advantix-spot-on-hond/10128/...\n",
      "Waiting for page to load...\n",
      "Page has fully loaded.\n",
      "Waiting 2.95 seconds...\n"
     ]
    },
    {
     "name": "stderr",
     "output_type": "stream",
     "text": [
      "INFO:root:Scraping: https://www.dierapotheker.nl/advantix-spot-on-hond/2350/\n"
     ]
    },
    {
     "name": "stdout",
     "output_type": "stream",
     "text": [
      "Info Retrieved:\n",
      "Product 1: {'title': 'Advantix Spot-on Hond', 'brand': 'ADVANTIX', 'price': {'1': '37,55', '2 ': '36,40', ' 3 ': '35,65'}, 'sale_price': <NA>, 'quantity_options': ['4 pipetten - 4 - 10 kg - 100/500', '4 pipetten - 10 - 25 kg - 250/1250', '4 pipetten - 25 - 40 kg - 400/2000', '4 pipetten - 40 - 60 kg - 600/3000', '4 pipetten - < 4 kg - 40/200', '6 pipetten - 4 - 10 kg - 100/500', '6 pipetten - 10 - 25 kg - 250/1250', '6 pipetten - 25 - 40 kg - 400/2000', '6 pipetten - 40 - 60 kg - 600/3000', '6 pipetten - < 4 kg - 40/200', '24 pipetten - 4 - 10 kg - 100/500', '24 pipetten - 10 - 25 kg - 250/1250', '24 pipetten - 25 - 40 kg - 400/2000'], 'quantity': '4 pipetten - 40 - 60 kg - 600/3000', 'delivery_info': 'Gratis verzending vanaf €59', 'website': 'dierapotheker', 'product_link': 'https://www.dierapotheker.nl/advantix-spot-on-hond/10128/', 'pet': <NA>, 'size': <NA>, 'available': <NA>, 'category': <NA>, 'page_number': <NA>, 'product_number': <NA>, 'category_link': <NA>, 'error': <NA>}\n",
      "Returning product scraped result\n",
      "\n",
      "Going to scrape product: https://www.dierapotheker.nl/advantix-spot-on-hond/2350/...\n",
      "Waiting for page to load...\n",
      "Page has fully loaded.\n",
      "Waiting 2.54 seconds...\n"
     ]
    },
    {
     "name": "stderr",
     "output_type": "stream",
     "text": [
      "INFO:root:Scraping: https://www.dierapotheker.nl/advantix-spot-on-hond/3891/\n"
     ]
    },
    {
     "name": "stdout",
     "output_type": "stream",
     "text": [
      "Info Retrieved:\n",
      "Product 1: {'title': 'Advantix Spot-on Hond', 'brand': 'ADVANTIX', 'price': {'1': '23,15', '2 ': '22,45', ' 3 ': '22,00'}, 'sale_price': <NA>, 'quantity_options': ['4 pipetten - 4 - 10 kg - 100/500', '4 pipetten - 10 - 25 kg - 250/1250', '4 pipetten - 25 - 40 kg - 400/2000', '4 pipetten - 40 - 60 kg - 600/3000', '4 pipetten - < 4 kg - 40/200', '6 pipetten - 4 - 10 kg - 100/500', '6 pipetten - 10 - 25 kg - 250/1250', '6 pipetten - 25 - 40 kg - 400/2000', '6 pipetten - 40 - 60 kg - 600/3000', '6 pipetten - < 4 kg - 40/200', '24 pipetten - 4 - 10 kg - 100/500', '24 pipetten - 10 - 25 kg - 250/1250', '24 pipetten - 25 - 40 kg - 400/2000'], 'quantity': '4 pipetten - < 4 kg - 40/200', 'delivery_info': 'Gratis verzending vanaf €59', 'website': 'dierapotheker', 'product_link': 'https://www.dierapotheker.nl/advantix-spot-on-hond/2350/', 'pet': <NA>, 'size': <NA>, 'available': <NA>, 'category': <NA>, 'page_number': <NA>, 'product_number': <NA>, 'category_link': <NA>, 'error': <NA>}\n",
      "Returning product scraped result\n",
      "\n",
      "Going to scrape product: https://www.dierapotheker.nl/advantix-spot-on-hond/3891/...\n",
      "Waiting for page to load...\n",
      "Page has fully loaded.\n",
      "Waiting 2.06 seconds...\n"
     ]
    },
    {
     "name": "stderr",
     "output_type": "stream",
     "text": [
      "INFO:root:Scraping: https://www.dierapotheker.nl/advantix-spot-on-hond/3892/\n"
     ]
    },
    {
     "name": "stdout",
     "output_type": "stream",
     "text": [
      "Info Retrieved:\n",
      "Product 1: {'title': 'Advantix Spot-on Hond', 'brand': 'ADVANTIX', 'price': {'1': '32,55', '2 ': '31,55', ' 3 ': '30,90'}, 'sale_price': <NA>, 'quantity_options': ['4 pipetten - 4 - 10 kg - 100/500', '4 pipetten - 10 - 25 kg - 250/1250', '4 pipetten - 25 - 40 kg - 400/2000', '4 pipetten - 40 - 60 kg - 600/3000', '4 pipetten - < 4 kg - 40/200', '6 pipetten - 4 - 10 kg - 100/500', '6 pipetten - 10 - 25 kg - 250/1250', '6 pipetten - 25 - 40 kg - 400/2000', '6 pipetten - 40 - 60 kg - 600/3000', '6 pipetten - < 4 kg - 40/200', '24 pipetten - 4 - 10 kg - 100/500', '24 pipetten - 10 - 25 kg - 250/1250', '24 pipetten - 25 - 40 kg - 400/2000'], 'quantity': '6 pipetten - 4 - 10 kg - 100/500', 'delivery_info': 'Gratis verzending vanaf €59', 'website': 'dierapotheker', 'product_link': 'https://www.dierapotheker.nl/advantix-spot-on-hond/3891/', 'pet': <NA>, 'size': <NA>, 'available': <NA>, 'category': <NA>, 'page_number': <NA>, 'product_number': <NA>, 'category_link': <NA>, 'error': <NA>}\n",
      "Returning product scraped result\n",
      "\n",
      "Going to scrape product: https://www.dierapotheker.nl/advantix-spot-on-hond/3892/...\n",
      "Waiting for page to load...\n",
      "Page has fully loaded.\n",
      "Waiting 2.49 seconds...\n"
     ]
    },
    {
     "name": "stderr",
     "output_type": "stream",
     "text": [
      "INFO:root:Scraping: https://www.dierapotheker.nl/advantix-spot-on-hond/3893/\n"
     ]
    },
    {
     "name": "stdout",
     "output_type": "stream",
     "text": [
      "Info Retrieved:\n",
      "Product 1: {'title': 'Advantix Spot-on Hond', 'brand': 'ADVANTIX', 'price': {'1': '36,55', '2 ': '35,45', ' 3 ': '34,70'}, 'sale_price': <NA>, 'quantity_options': ['4 pipetten - 4 - 10 kg - 100/500', '4 pipetten - 10 - 25 kg - 250/1250', '4 pipetten - 25 - 40 kg - 400/2000', '4 pipetten - 40 - 60 kg - 600/3000', '4 pipetten - < 4 kg - 40/200', '6 pipetten - 4 - 10 kg - 100/500', '6 pipetten - 10 - 25 kg - 250/1250', '6 pipetten - 25 - 40 kg - 400/2000', '6 pipetten - 40 - 60 kg - 600/3000', '6 pipetten - < 4 kg - 40/200', '24 pipetten - 4 - 10 kg - 100/500', '24 pipetten - 10 - 25 kg - 250/1250', '24 pipetten - 25 - 40 kg - 400/2000'], 'quantity': '6 pipetten - 10 - 25 kg - 250/1250', 'delivery_info': 'Gratis verzending vanaf €59', 'website': 'dierapotheker', 'product_link': 'https://www.dierapotheker.nl/advantix-spot-on-hond/3892/', 'pet': <NA>, 'size': <NA>, 'available': <NA>, 'category': <NA>, 'page_number': <NA>, 'product_number': <NA>, 'category_link': <NA>, 'error': <NA>}\n",
      "Returning product scraped result\n",
      "\n",
      "Going to scrape product: https://www.dierapotheker.nl/advantix-spot-on-hond/3893/...\n",
      "Waiting for page to load...\n",
      "Page has fully loaded.\n",
      "Waiting 2.26 seconds...\n"
     ]
    },
    {
     "name": "stderr",
     "output_type": "stream",
     "text": [
      "INFO:root:Scraping: https://www.dierapotheker.nl/advantix-spot-on-hond/10129/\n"
     ]
    },
    {
     "name": "stdout",
     "output_type": "stream",
     "text": [
      "Info Retrieved:\n",
      "Product 1: {'title': 'Advantix Spot-on Hond', 'brand': 'ADVANTIX', 'price': {'1': '39,55', '2 ': '38,35', ' 3 ': '37,55'}, 'sale_price': <NA>, 'quantity_options': ['4 pipetten - 4 - 10 kg - 100/500', '4 pipetten - 10 - 25 kg - 250/1250', '4 pipetten - 25 - 40 kg - 400/2000', '4 pipetten - 40 - 60 kg - 600/3000', '4 pipetten - < 4 kg - 40/200', '6 pipetten - 4 - 10 kg - 100/500', '6 pipetten - 10 - 25 kg - 250/1250', '6 pipetten - 25 - 40 kg - 400/2000', '6 pipetten - 40 - 60 kg - 600/3000', '6 pipetten - < 4 kg - 40/200', '24 pipetten - 4 - 10 kg - 100/500', '24 pipetten - 10 - 25 kg - 250/1250', '24 pipetten - 25 - 40 kg - 400/2000'], 'quantity': '6 pipetten - 25 - 40 kg - 400/2000', 'delivery_info': 'Gratis verzending vanaf €59', 'website': 'dierapotheker', 'product_link': 'https://www.dierapotheker.nl/advantix-spot-on-hond/3893/', 'pet': <NA>, 'size': <NA>, 'available': <NA>, 'category': <NA>, 'page_number': <NA>, 'product_number': <NA>, 'category_link': <NA>, 'error': <NA>}\n",
      "Returning product scraped result\n",
      "\n",
      "Going to scrape product: https://www.dierapotheker.nl/advantix-spot-on-hond/10129/...\n",
      "Waiting for page to load...\n",
      "Page has fully loaded.\n",
      "Waiting 2.97 seconds...\n"
     ]
    },
    {
     "name": "stderr",
     "output_type": "stream",
     "text": [
      "INFO:root:Scraping: https://www.dierapotheker.nl/advantix-spot-on-hond/3894/\n"
     ]
    },
    {
     "name": "stdout",
     "output_type": "stream",
     "text": [
      "Info Retrieved:\n",
      "Product 1: {'title': 'Advantix Spot-on Hond', 'brand': 'ADVANTIX', 'price': {'1': '46,95', '2 ': '45,55', ' 3 ': '44,60'}, 'sale_price': <NA>, 'quantity_options': ['4 pipetten - 4 - 10 kg - 100/500', '4 pipetten - 10 - 25 kg - 250/1250', '4 pipetten - 25 - 40 kg - 400/2000', '4 pipetten - 40 - 60 kg - 600/3000', '4 pipetten - < 4 kg - 40/200', '6 pipetten - 4 - 10 kg - 100/500', '6 pipetten - 10 - 25 kg - 250/1250', '6 pipetten - 25 - 40 kg - 400/2000', '6 pipetten - 40 - 60 kg - 600/3000', '6 pipetten - < 4 kg - 40/200', '24 pipetten - 4 - 10 kg - 100/500', '24 pipetten - 10 - 25 kg - 250/1250', '24 pipetten - 25 - 40 kg - 400/2000'], 'quantity': '6 pipetten - 40 - 60 kg - 600/3000', 'delivery_info': 'Gratis verzending vanaf €59', 'website': 'dierapotheker', 'product_link': 'https://www.dierapotheker.nl/advantix-spot-on-hond/10129/', 'pet': <NA>, 'size': <NA>, 'available': <NA>, 'category': <NA>, 'page_number': <NA>, 'product_number': <NA>, 'category_link': <NA>, 'error': <NA>}\n",
      "Returning product scraped result\n",
      "\n",
      "Going to scrape product: https://www.dierapotheker.nl/advantix-spot-on-hond/3894/...\n",
      "Waiting for page to load...\n",
      "Page has fully loaded.\n",
      "Waiting 2.66 seconds...\n"
     ]
    },
    {
     "name": "stderr",
     "output_type": "stream",
     "text": [
      "INFO:root:Scraping: https://www.dierapotheker.nl/advantix-spot-on-hond/9546/\n"
     ]
    },
    {
     "name": "stdout",
     "output_type": "stream",
     "text": [
      "Info Retrieved:\n",
      "Product 1: {'title': 'Advantix Spot-on Hond', 'brand': 'ADVANTIX', 'price': {'1': '23,15', '2 ': '22,45', ' 3 ': '22,00'}, 'sale_price': <NA>, 'quantity_options': ['4 pipetten - 4 - 10 kg - 100/500', '4 pipetten - 10 - 25 kg - 250/1250', '4 pipetten - 25 - 40 kg - 400/2000', '4 pipetten - 40 - 60 kg - 600/3000', '4 pipetten - < 4 kg - 40/200', '6 pipetten - 4 - 10 kg - 100/500', '6 pipetten - 10 - 25 kg - 250/1250', '6 pipetten - 25 - 40 kg - 400/2000', '6 pipetten - 40 - 60 kg - 600/3000', '6 pipetten - < 4 kg - 40/200', '24 pipetten - 4 - 10 kg - 100/500', '24 pipetten - 10 - 25 kg - 250/1250', '24 pipetten - 25 - 40 kg - 400/2000'], 'quantity': '6 pipetten - < 4 kg - 40/200', 'delivery_info': 'Gratis verzending vanaf €59', 'website': 'dierapotheker', 'product_link': 'https://www.dierapotheker.nl/advantix-spot-on-hond/3894/', 'pet': <NA>, 'size': <NA>, 'available': <NA>, 'category': <NA>, 'page_number': <NA>, 'product_number': <NA>, 'category_link': <NA>, 'error': <NA>}\n",
      "Returning product scraped result\n",
      "\n",
      "Going to scrape product: https://www.dierapotheker.nl/advantix-spot-on-hond/9546/...\n",
      "Waiting for page to load...\n",
      "Page has fully loaded.\n",
      "Waiting 2.55 seconds...\n"
     ]
    },
    {
     "name": "stderr",
     "output_type": "stream",
     "text": [
      "INFO:root:Scraping: https://www.dierapotheker.nl/advantix-spot-on-hond/9547/\n"
     ]
    },
    {
     "name": "stdout",
     "output_type": "stream",
     "text": [
      "Info Retrieved:\n",
      "Product 1: {'title': 'Advantix Spot-on Hond', 'brand': 'ADVANTIX', 'price': {'1': '139,95', '2 ': '135,75', ' 3 ': '132,95'}, 'sale_price': <NA>, 'quantity_options': ['4 pipetten - 4 - 10 kg - 100/500', '4 pipetten - 10 - 25 kg - 250/1250', '4 pipetten - 25 - 40 kg - 400/2000', '4 pipetten - 40 - 60 kg - 600/3000', '4 pipetten - < 4 kg - 40/200', '6 pipetten - 4 - 10 kg - 100/500', '6 pipetten - 10 - 25 kg - 250/1250', '6 pipetten - 25 - 40 kg - 400/2000', '6 pipetten - 40 - 60 kg - 600/3000', '6 pipetten - < 4 kg - 40/200', '24 pipetten - 4 - 10 kg - 100/500', '24 pipetten - 10 - 25 kg - 250/1250', '24 pipetten - 25 - 40 kg - 400/2000'], 'quantity': '24 pipetten - 4 - 10 kg - 100/500', 'delivery_info': 'Gratis verzending vanaf €59', 'website': 'dierapotheker', 'product_link': 'https://www.dierapotheker.nl/advantix-spot-on-hond/9546/', 'pet': <NA>, 'size': <NA>, 'available': <NA>, 'category': <NA>, 'page_number': <NA>, 'product_number': <NA>, 'category_link': <NA>, 'error': <NA>}\n",
      "Returning product scraped result\n",
      "\n",
      "Going to scrape product: https://www.dierapotheker.nl/advantix-spot-on-hond/9547/...\n",
      "Waiting for page to load...\n",
      "Page has fully loaded.\n",
      "Waiting 3.39 seconds...\n"
     ]
    },
    {
     "name": "stderr",
     "output_type": "stream",
     "text": [
      "INFO:root:Scraping: https://www.dierapotheker.nl/advantix-spot-on-hond/9549/\n"
     ]
    },
    {
     "name": "stdout",
     "output_type": "stream",
     "text": [
      "Info Retrieved:\n",
      "Product 1: {'title': 'Advantix Spot-on Hond', 'brand': 'ADVANTIX', 'price': {'1': '149,95', '2 ': '145,45', ' 3 ': '142,45'}, 'sale_price': <NA>, 'quantity_options': ['4 pipetten - 4 - 10 kg - 100/500', '4 pipetten - 10 - 25 kg - 250/1250', '4 pipetten - 25 - 40 kg - 400/2000', '4 pipetten - 40 - 60 kg - 600/3000', '4 pipetten - < 4 kg - 40/200', '6 pipetten - 4 - 10 kg - 100/500', '6 pipetten - 10 - 25 kg - 250/1250', '6 pipetten - 25 - 40 kg - 400/2000', '6 pipetten - 40 - 60 kg - 600/3000', '6 pipetten - < 4 kg - 40/200', '24 pipetten - 4 - 10 kg - 100/500', '24 pipetten - 10 - 25 kg - 250/1250', '24 pipetten - 25 - 40 kg - 400/2000'], 'quantity': '24 pipetten - 10 - 25 kg - 250/1250', 'delivery_info': 'Gratis verzending vanaf €59', 'website': 'dierapotheker', 'product_link': 'https://www.dierapotheker.nl/advantix-spot-on-hond/9547/', 'pet': <NA>, 'size': <NA>, 'available': <NA>, 'category': <NA>, 'page_number': <NA>, 'product_number': <NA>, 'category_link': <NA>, 'error': <NA>}\n",
      "Returning product scraped result\n",
      "\n",
      "Going to scrape product: https://www.dierapotheker.nl/advantix-spot-on-hond/9549/...\n",
      "Waiting for page to load...\n",
      "Page has fully loaded.\n",
      "Waiting 3.91 seconds...\n"
     ]
    },
    {
     "name": "stderr",
     "output_type": "stream",
     "text": [
      "INFO:root:Scraping: https://www.dierapotheker.nl/seresto-halsband-vlooien-en-teken-hond/3590/\n"
     ]
    },
    {
     "name": "stdout",
     "output_type": "stream",
     "text": [
      "Info Retrieved:\n",
      "Product 1: {'title': 'Advantix Spot-on Hond', 'brand': 'ADVANTIX', 'price': {'1': '149,95', '2 ': '145,45', ' 3 ': '142,45'}, 'sale_price': <NA>, 'quantity_options': ['4 pipetten - 4 - 10 kg - 100/500', '4 pipetten - 10 - 25 kg - 250/1250', '4 pipetten - 25 - 40 kg - 400/2000', '4 pipetten - 40 - 60 kg - 600/3000', '4 pipetten - < 4 kg - 40/200', '6 pipetten - 4 - 10 kg - 100/500', '6 pipetten - 10 - 25 kg - 250/1250', '6 pipetten - 25 - 40 kg - 400/2000', '6 pipetten - 40 - 60 kg - 600/3000', '6 pipetten - < 4 kg - 40/200', '24 pipetten - 4 - 10 kg - 100/500', '24 pipetten - 10 - 25 kg - 250/1250', '24 pipetten - 25 - 40 kg - 400/2000'], 'quantity': '24 pipetten - 25 - 40 kg - 400/2000', 'delivery_info': 'Gratis verzending vanaf €59', 'website': 'dierapotheker', 'product_link': 'https://www.dierapotheker.nl/advantix-spot-on-hond/9549/', 'pet': <NA>, 'size': <NA>, 'available': <NA>, 'category': <NA>, 'page_number': <NA>, 'product_number': <NA>, 'category_link': <NA>, 'error': <NA>}\n",
      "Returning product scraped result\n",
      "\n",
      "Going to scrape product: https://www.dierapotheker.nl/seresto-halsband-vlooien-en-teken-hond/3590/...\n",
      "Waiting for page to load...\n",
      "Page has fully loaded.\n",
      "Waiting 3.3 seconds...\n"
     ]
    },
    {
     "name": "stderr",
     "output_type": "stream",
     "text": [
      "INFO:root:Scraping: https://www.dierapotheker.nl/seresto-halsband-vlooien-en-teken-hond/3590.1/\n"
     ]
    },
    {
     "name": "stdout",
     "output_type": "stream",
     "text": [
      "Info Retrieved:\n",
      "Product 1: {'title': 'Seresto Halsband Vlooien en Teken Hond', 'brand': 'SERESTO', 'price': {'1': '32,95', '2 ': '31,95', ' 3 ': '31,30'}, 'sale_price': <NA>, 'quantity_options': ['lichter dan 8 kg - 1 x 38 cm (1-pack)', 'lichter dan 8 kg - 2 x 38 cm (2-pack)', 'zwaarder dan 8 kg - 1 x 70 cm (1-pack)', 'zwaarder dan 8 kg - 2 x 70 cm (2-pack)'], 'quantity': 'lichter dan 8 kg - 1 x 38 cm (1-pack)', 'delivery_info': 'Gratis verzending vanaf €59', 'website': 'dierapotheker', 'product_link': 'https://www.dierapotheker.nl/seresto-halsband-vlooien-en-teken-hond/3590/', 'pet': <NA>, 'size': <NA>, 'available': <NA>, 'category': <NA>, 'page_number': <NA>, 'product_number': <NA>, 'category_link': <NA>, 'error': <NA>}\n",
      "Returning product scraped result\n",
      "\n",
      "Going to scrape product: https://www.dierapotheker.nl/seresto-halsband-vlooien-en-teken-hond/3590.1/...\n",
      "Waiting for page to load...\n",
      "Page has fully loaded.\n",
      "Waiting 2.84 seconds...\n"
     ]
    },
    {
     "name": "stderr",
     "output_type": "stream",
     "text": [
      "INFO:root:Scraping: https://www.dierapotheker.nl/seresto-halsband-vlooien-en-teken-hond/3591/\n"
     ]
    },
    {
     "name": "stdout",
     "output_type": "stream",
     "text": [
      "Info Retrieved:\n",
      "Product 1: {'title': 'Seresto Halsband Vlooien en Teken Hond', 'brand': 'SERESTO', 'price': {'1': '61,95', '2 ': '60,10', ' 3 ': '58,85'}, 'sale_price': <NA>, 'quantity_options': ['lichter dan 8 kg - 1 x 38 cm (1-pack)', 'lichter dan 8 kg - 2 x 38 cm (2-pack)', 'zwaarder dan 8 kg - 1 x 70 cm (1-pack)', 'zwaarder dan 8 kg - 2 x 70 cm (2-pack)'], 'quantity': 'lichter dan 8 kg - 2 x 38 cm (2-pack)', 'delivery_info': 'Gratis verzending vanaf €59', 'website': 'dierapotheker', 'product_link': 'https://www.dierapotheker.nl/seresto-halsband-vlooien-en-teken-hond/3590.1/', 'pet': <NA>, 'size': <NA>, 'available': <NA>, 'category': <NA>, 'page_number': <NA>, 'product_number': <NA>, 'category_link': <NA>, 'error': <NA>}\n",
      "Returning product scraped result\n",
      "\n",
      "Going to scrape product: https://www.dierapotheker.nl/seresto-halsband-vlooien-en-teken-hond/3591/...\n",
      "Waiting for page to load...\n",
      "Page has fully loaded.\n",
      "Waiting 3.52 seconds...\n"
     ]
    },
    {
     "name": "stderr",
     "output_type": "stream",
     "text": [
      "INFO:root:Scraping: https://www.dierapotheker.nl/seresto-halsband-vlooien-en-teken-hond/3591.1/\n"
     ]
    },
    {
     "name": "stdout",
     "output_type": "stream",
     "text": [
      "Info Retrieved:\n",
      "Product 1: {'title': 'Seresto Halsband Vlooien en Teken Hond', 'brand': 'SERESTO', 'price': {'1': '36,95', '2 ': '35,85', ' 3 ': '35,10'}, 'sale_price': <NA>, 'quantity_options': ['lichter dan 8 kg - 1 x 38 cm (1-pack)', 'lichter dan 8 kg - 2 x 38 cm (2-pack)', 'zwaarder dan 8 kg - 1 x 70 cm (1-pack)', 'zwaarder dan 8 kg - 2 x 70 cm (2-pack)'], 'quantity': 'zwaarder dan 8 kg - 1 x 70 cm (1-pack)', 'delivery_info': 'Gratis verzending vanaf €59', 'website': 'dierapotheker', 'product_link': 'https://www.dierapotheker.nl/seresto-halsband-vlooien-en-teken-hond/3591/', 'pet': <NA>, 'size': <NA>, 'available': <NA>, 'category': <NA>, 'page_number': <NA>, 'product_number': <NA>, 'category_link': <NA>, 'error': <NA>}\n",
      "Returning product scraped result\n",
      "\n",
      "Going to scrape product: https://www.dierapotheker.nl/seresto-halsband-vlooien-en-teken-hond/3591.1/...\n",
      "Waiting for page to load...\n",
      "Page has fully loaded.\n",
      "Waiting 3.95 seconds...\n"
     ]
    },
    {
     "name": "stderr",
     "output_type": "stream",
     "text": [
      "INFO:root:Scraping category: https://www.hondenkattenapotheek.nl/ontworming/ontwormen-kat/milpro/\n"
     ]
    },
    {
     "name": "stdout",
     "output_type": "stream",
     "text": [
      "Info Retrieved:\n",
      "Product 1: {'title': 'Seresto Halsband Vlooien en Teken Hond', 'brand': 'SERESTO', 'price': {'1': '65,95', '2 ': '63,95', ' 3 ': '62,65'}, 'sale_price': <NA>, 'quantity_options': ['lichter dan 8 kg - 1 x 38 cm (1-pack)', 'lichter dan 8 kg - 2 x 38 cm (2-pack)', 'zwaarder dan 8 kg - 1 x 70 cm (1-pack)', 'zwaarder dan 8 kg - 2 x 70 cm (2-pack)'], 'quantity': 'zwaarder dan 8 kg - 2 x 70 cm (2-pack)', 'delivery_info': 'Gratis verzending vanaf €59', 'website': 'dierapotheker', 'product_link': 'https://www.dierapotheker.nl/seresto-halsband-vlooien-en-teken-hond/3591.1/', 'pet': <NA>, 'size': <NA>, 'available': <NA>, 'category': <NA>, 'page_number': <NA>, 'product_number': <NA>, 'category_link': <NA>, 'error': <NA>}\n",
      "\n",
      "\n",
      "SCRAPING WEBSITE: hondenkattenapotheek WITH SCRAPING TYPE: category\n",
      "\n",
      "Going to scrape category: https://www.hondenkattenapotheek.nl/ontworming/ontwormen-kat/milpro/...\n",
      "div[contains(@class, 'product') and contains(@class, box) and contains(@class, 'mobile')]\n",
      "Waiting for page to load...\n",
      "Page has fully loaded.\n"
     ]
    },
    {
     "name": "stderr",
     "output_type": "stream",
     "text": [
      "INFO:root:Scraping page 1 of https://www.hondenkattenapotheek.nl/ontworming/ontwormen-kat/milpro/\n"
     ]
    },
    {
     "name": "stdout",
     "output_type": "stream",
     "text": [
      "Waiting 2.12 seconds...\n",
      "Waiting for page to load...\n",
      "Page has fully loaded.\n",
      "Waiting 3.05 seconds...\n",
      "Going to scrape product 1 on page 1 with unique identifier: None\n",
      "Going to scrape product 2 on page 1 with unique identifier: None\n",
      "Going to scrape product 3 on page 1 with unique identifier: None\n",
      "Going to scrape product 4 on page 1 with unique identifier: None\n",
      "Going to scrape product 5 on page 1 with unique identifier: None\n",
      "Going to scrape product 6 on page 1 with unique identifier: None\n",
      "Going to scrape product 7 on page 1 with unique identifier: None\n"
     ]
    },
    {
     "name": "stderr",
     "output_type": "stream",
     "text": [
      "INFO:root:Scraped page 1 of https://www.hondenkattenapotheek.nl/ontworming/ontwormen-kat/milpro/\n",
      "INFO:root:Could not go to next page: Could not find next button\n",
      "INFO:root:Scraping category: https://www.hondenkattenapotheek.nl/ontworming/ontwormen-kat/milbemax-kat/\n"
     ]
    },
    {
     "name": "stdout",
     "output_type": "stream",
     "text": [
      "Could not find next button\n",
      "\n",
      "Going to scrape category: https://www.hondenkattenapotheek.nl/ontworming/ontwormen-kat/milbemax-kat/...\n",
      "div[contains(@class, 'product') and contains(@class, box) and contains(@class, 'mobile')]\n",
      "Waiting for page to load...\n",
      "Page has fully loaded.\n"
     ]
    },
    {
     "name": "stderr",
     "output_type": "stream",
     "text": [
      "INFO:root:Scraping page 1 of https://www.hondenkattenapotheek.nl/ontworming/ontwormen-kat/milbemax-kat/\n"
     ]
    },
    {
     "name": "stdout",
     "output_type": "stream",
     "text": [
      "Waiting 2.56 seconds...\n",
      "Waiting for page to load...\n",
      "Page has fully loaded.\n",
      "Waiting 3.35 seconds...\n",
      "Going to scrape product 1 on page 1 with unique identifier: None\n",
      "Going to scrape product 2 on page 1 with unique identifier: None\n",
      "Going to scrape product 3 on page 1 with unique identifier: None\n",
      "Going to scrape product 4 on page 1 with unique identifier: None\n",
      "Going to scrape product 5 on page 1 with unique identifier: None\n",
      "Going to scrape product 6 on page 1 with unique identifier: None\n",
      "Going to scrape product 7 on page 1 with unique identifier: None\n"
     ]
    },
    {
     "name": "stderr",
     "output_type": "stream",
     "text": [
      "INFO:root:Scraped page 1 of https://www.hondenkattenapotheek.nl/ontworming/ontwormen-kat/milbemax-kat/\n",
      "INFO:root:Could not go to next page: Could not find next button\n",
      "INFO:root:Scraping category: https://www.hondenkattenapotheek.nl/ontworming/ontwormen-kat/drontal-kat/\n"
     ]
    },
    {
     "name": "stdout",
     "output_type": "stream",
     "text": [
      "Going to scrape product 8 on page 1 with unique identifier: None\n",
      "Could not find next button\n",
      "\n",
      "Going to scrape category: https://www.hondenkattenapotheek.nl/ontworming/ontwormen-kat/drontal-kat/...\n",
      "div[contains(@class, 'product') and contains(@class, box) and contains(@class, 'mobile')]\n",
      "Waiting for page to load...\n",
      "Page has fully loaded.\n"
     ]
    },
    {
     "name": "stderr",
     "output_type": "stream",
     "text": [
      "INFO:root:Scraping page 1 of https://www.hondenkattenapotheek.nl/ontworming/ontwormen-kat/drontal-kat/\n"
     ]
    },
    {
     "name": "stdout",
     "output_type": "stream",
     "text": [
      "Waiting 2.5 seconds...\n",
      "Waiting for page to load...\n",
      "Page has fully loaded.\n",
      "Waiting 3.5 seconds...\n",
      "Going to scrape product 1 on page 1 with unique identifier: None\n",
      "Going to scrape product 2 on page 1 with unique identifier: None\n",
      "Going to scrape product 3 on page 1 with unique identifier: None\n",
      "Going to scrape product 4 on page 1 with unique identifier: None\n",
      "Going to scrape product 5 on page 1 with unique identifier: None\n",
      "Going to scrape product 6 on page 1 with unique identifier: None\n",
      "Going to scrape product 7 on page 1 with unique identifier: None\n",
      "Going to scrape product 8 on page 1 with unique identifier: None\n",
      "Going to scrape product 9 on page 1 with unique identifier: None\n",
      "Going to scrape product 10 on page 1 with unique identifier: None\n",
      "Going to scrape product 11 on page 1 with unique identifier: None\n"
     ]
    },
    {
     "name": "stderr",
     "output_type": "stream",
     "text": [
      "INFO:root:Scraped page 1 of https://www.hondenkattenapotheek.nl/ontworming/ontwormen-kat/drontal-kat/\n",
      "INFO:root:Could not go to next page: Could not find next button\n",
      "INFO:root:Scraping category: https://www.hondenkattenapotheek.nl/ontworming/ontwormen-kat/milbeguardduokat/\n"
     ]
    },
    {
     "name": "stdout",
     "output_type": "stream",
     "text": [
      "Could not find next button\n",
      "\n",
      "Going to scrape category: https://www.hondenkattenapotheek.nl/ontworming/ontwormen-kat/milbeguardduokat/...\n",
      "div[contains(@class, 'product') and contains(@class, box) and contains(@class, 'mobile')]\n",
      "Waiting for page to load...\n",
      "Page has fully loaded.\n"
     ]
    },
    {
     "name": "stderr",
     "output_type": "stream",
     "text": [
      "INFO:root:Scraping page 1 of https://www.hondenkattenapotheek.nl/ontworming/ontwormen-kat/milbeguardduokat/\n"
     ]
    },
    {
     "name": "stdout",
     "output_type": "stream",
     "text": [
      "Waiting 3.59 seconds...\n",
      "Waiting for page to load...\n",
      "Page has fully loaded.\n",
      "Waiting 3.34 seconds...\n",
      "Going to scrape product 1 on page 1 with unique identifier: None\n",
      "Going to scrape product 2 on page 1 with unique identifier: None\n",
      "Going to scrape product 3 on page 1 with unique identifier: None\n",
      "Going to scrape product 4 on page 1 with unique identifier: None\n",
      "Going to scrape product 5 on page 1 with unique identifier: None\n",
      "Going to scrape product 6 on page 1 with unique identifier: None\n",
      "Going to scrape product 7 on page 1 with unique identifier: None\n"
     ]
    },
    {
     "name": "stderr",
     "output_type": "stream",
     "text": [
      "INFO:root:Scraped page 1 of https://www.hondenkattenapotheek.nl/ontworming/ontwormen-kat/milbeguardduokat/\n",
      "INFO:root:Could not go to next page: Could not find next button\n",
      "INFO:root:Scraping category: https://www.hondenkattenapotheek.nl/ontworming/ontwormen-hond/milpro-hond/\n"
     ]
    },
    {
     "name": "stdout",
     "output_type": "stream",
     "text": [
      "Going to scrape product 8 on page 1 with unique identifier: None\n",
      "Going to scrape product 9 on page 1 with unique identifier: None\n",
      "Going to scrape product 10 on page 1 with unique identifier: None\n",
      "Could not find next button\n",
      "\n",
      "Going to scrape category: https://www.hondenkattenapotheek.nl/ontworming/ontwormen-hond/milpro-hond/...\n",
      "div[contains(@class, 'product') and contains(@class, box) and contains(@class, 'mobile')]\n",
      "Waiting for page to load...\n",
      "Page has fully loaded.\n"
     ]
    },
    {
     "name": "stderr",
     "output_type": "stream",
     "text": [
      "INFO:root:Scraping page 1 of https://www.hondenkattenapotheek.nl/ontworming/ontwormen-hond/milpro-hond/\n"
     ]
    },
    {
     "name": "stdout",
     "output_type": "stream",
     "text": [
      "Waiting 2.1 seconds...\n",
      "Waiting for page to load...\n",
      "Page has fully loaded.\n",
      "Waiting 2.02 seconds...\n",
      "Going to scrape product 1 on page 1 with unique identifier: None\n",
      "Going to scrape product 2 on page 1 with unique identifier: None\n",
      "Going to scrape product 3 on page 1 with unique identifier: None\n",
      "Going to scrape product 4 on page 1 with unique identifier: None\n",
      "Going to scrape product 5 on page 1 with unique identifier: None\n",
      "Going to scrape product 6 on page 1 with unique identifier: None\n"
     ]
    },
    {
     "name": "stderr",
     "output_type": "stream",
     "text": [
      "INFO:root:Scraped page 1 of https://www.hondenkattenapotheek.nl/ontworming/ontwormen-hond/milpro-hond/\n",
      "INFO:root:Could not go to next page: Could not find next button\n",
      "INFO:root:Scraping category: https://www.hondenkattenapotheek.nl/advantix-hond/\n"
     ]
    },
    {
     "name": "stdout",
     "output_type": "stream",
     "text": [
      "Going to scrape product 7 on page 1 with unique identifier: None\n",
      "Going to scrape product 8 on page 1 with unique identifier: None\n",
      "Could not find next button\n",
      "\n",
      "Going to scrape category: https://www.hondenkattenapotheek.nl/advantix-hond/...\n",
      "div[contains(@class, 'product') and contains(@class, box) and contains(@class, 'mobile')]\n",
      "Waiting for page to load...\n",
      "Page has fully loaded.\n"
     ]
    },
    {
     "name": "stderr",
     "output_type": "stream",
     "text": [
      "INFO:root:Scraping page 1 of https://www.hondenkattenapotheek.nl/advantix-hond/\n"
     ]
    },
    {
     "name": "stdout",
     "output_type": "stream",
     "text": [
      "Waiting 2.26 seconds...\n",
      "Waiting for page to load...\n",
      "Page has fully loaded.\n",
      "Waiting 2.76 seconds...\n",
      "Going to scrape product 1 on page 1 with unique identifier: None\n",
      "Going to scrape product 2 on page 1 with unique identifier: None\n",
      "Going to scrape product 3 on page 1 with unique identifier: None\n",
      "Going to scrape product 4 on page 1 with unique identifier: None\n",
      "Going to scrape product 5 on page 1 with unique identifier: None\n",
      "Going to scrape product 6 on page 1 with unique identifier: None\n",
      "Going to scrape product 7 on page 1 with unique identifier: None\n",
      "Going to scrape product 8 on page 1 with unique identifier: None\n",
      "Going to scrape product 9 on page 1 with unique identifier: None\n",
      "Going to scrape product 10 on page 1 with unique identifier: None\n",
      "Going to scrape product 11 on page 1 with unique identifier: None\n"
     ]
    },
    {
     "name": "stderr",
     "output_type": "stream",
     "text": [
      "INFO:root:Scraped page 1 of https://www.hondenkattenapotheek.nl/advantix-hond/\n",
      "INFO:root:Could not go to next page: Could not find next button\n",
      "INFO:root:Scraping category: https://www.hondenkattenapotheek.nl/ontworming/ontwormen-hond/milbemax/\n"
     ]
    },
    {
     "name": "stdout",
     "output_type": "stream",
     "text": [
      "Going to scrape product 12 on page 1 with unique identifier: None\n",
      "Going to scrape product 13 on page 1 with unique identifier: None\n",
      "Could not find next button\n",
      "\n",
      "Going to scrape category: https://www.hondenkattenapotheek.nl/ontworming/ontwormen-hond/milbemax/...\n",
      "div[contains(@class, 'product') and contains(@class, box) and contains(@class, 'mobile')]\n",
      "Waiting for page to load...\n",
      "Page has fully loaded.\n"
     ]
    },
    {
     "name": "stderr",
     "output_type": "stream",
     "text": [
      "INFO:root:Scraping page 1 of https://www.hondenkattenapotheek.nl/ontworming/ontwormen-hond/milbemax/\n"
     ]
    },
    {
     "name": "stdout",
     "output_type": "stream",
     "text": [
      "Waiting 2.98 seconds...\n",
      "Waiting for page to load...\n",
      "Page has fully loaded.\n",
      "Waiting 3.76 seconds...\n",
      "Going to scrape product 1 on page 1 with unique identifier: None\n",
      "Going to scrape product 2 on page 1 with unique identifier: None\n",
      "Going to scrape product 3 on page 1 with unique identifier: None\n",
      "Going to scrape product 4 on page 1 with unique identifier: None\n",
      "Going to scrape product 5 on page 1 with unique identifier: None\n",
      "Going to scrape product 6 on page 1 with unique identifier: None\n",
      "Going to scrape product 7 on page 1 with unique identifier: None\n",
      "Going to scrape product 8 on page 1 with unique identifier: None\n",
      "Going to scrape product 9 on page 1 with unique identifier: None\n",
      "Going to scrape product 10 on page 1 with unique identifier: None\n",
      "Going to scrape product 11 on page 1 with unique identifier: None\n"
     ]
    },
    {
     "name": "stderr",
     "output_type": "stream",
     "text": [
      "INFO:root:Scraped page 1 of https://www.hondenkattenapotheek.nl/ontworming/ontwormen-hond/milbemax/\n",
      "INFO:root:Could not go to next page: Could not find next button\n",
      "INFO:root:Scraping category: https://www.hondenkattenapotheek.nl/ontworming/ontwormen-hond/milbactor-hond/\n"
     ]
    },
    {
     "name": "stdout",
     "output_type": "stream",
     "text": [
      "Going to scrape product 12 on page 1 with unique identifier: None\n",
      "Going to scrape product 13 on page 1 with unique identifier: None\n",
      "Could not find next button\n",
      "\n",
      "Going to scrape category: https://www.hondenkattenapotheek.nl/ontworming/ontwormen-hond/milbactor-hond/...\n",
      "div[contains(@class, 'product') and contains(@class, box) and contains(@class, 'mobile')]\n",
      "Waiting for page to load...\n",
      "Page has fully loaded.\n"
     ]
    },
    {
     "name": "stderr",
     "output_type": "stream",
     "text": [
      "INFO:root:Scraping page 1 of https://www.hondenkattenapotheek.nl/ontworming/ontwormen-hond/milbactor-hond/\n"
     ]
    },
    {
     "name": "stdout",
     "output_type": "stream",
     "text": [
      "Waiting 2.83 seconds...\n",
      "Waiting for page to load...\n",
      "Page has fully loaded.\n",
      "Waiting 2.18 seconds...\n",
      "Going to scrape product 1 on page 1 with unique identifier: None\n",
      "Going to scrape product 2 on page 1 with unique identifier: None\n",
      "Going to scrape product 3 on page 1 with unique identifier: None\n",
      "Going to scrape product 4 on page 1 with unique identifier: None\n",
      "Going to scrape product 5 on page 1 with unique identifier: None\n",
      "Going to scrape product 6 on page 1 with unique identifier: None\n",
      "Going to scrape product 7 on page 1 with unique identifier: None\n",
      "Going to scrape product 8 on page 1 with unique identifier: None\n",
      "Going to scrape product 9 on page 1 with unique identifier: None\n",
      "Going to scrape product 10 on page 1 with unique identifier: None\n",
      "Going to scrape product 11 on page 1 with unique identifier: None\n",
      "Going to scrape product 12 on page 1 with unique identifier: None\n",
      "Going to scrape product 13 on page 1 with unique identifier: None\n",
      "Going to scrape product 14 on page 1 with unique identifier: None\n",
      "Going to scrape product 15 on page 1 with unique identifier: None\n",
      "Going to scrape product 16 on page 1 with unique identifier: None\n",
      "Going to scrape product 17 on page 1 with unique identifier: None\n"
     ]
    },
    {
     "name": "stderr",
     "output_type": "stream",
     "text": [
      "INFO:root:Scraped page 1 of https://www.hondenkattenapotheek.nl/ontworming/ontwormen-hond/milbactor-hond/\n",
      "INFO:root:Could not go to next page: Could not find next button\n",
      "INFO:root:Scraping category: https://www.hondenkattenapotheek.nl/ontworming/ontwormen-hond/panacur/\n"
     ]
    },
    {
     "name": "stdout",
     "output_type": "stream",
     "text": [
      "Could not find next button\n",
      "\n",
      "Going to scrape category: https://www.hondenkattenapotheek.nl/ontworming/ontwormen-hond/panacur/...\n",
      "div[contains(@class, 'product') and contains(@class, box) and contains(@class, 'mobile')]\n",
      "Waiting for page to load...\n",
      "Page has fully loaded.\n"
     ]
    },
    {
     "name": "stderr",
     "output_type": "stream",
     "text": [
      "INFO:root:Scraping page 1 of https://www.hondenkattenapotheek.nl/ontworming/ontwormen-hond/panacur/\n"
     ]
    },
    {
     "name": "stdout",
     "output_type": "stream",
     "text": [
      "Waiting 3.29 seconds...\n",
      "Waiting for page to load...\n",
      "Page has fully loaded.\n",
      "Waiting 2.68 seconds...\n",
      "Going to scrape product 1 on page 1 with unique identifier: None\n",
      "Going to scrape product 2 on page 1 with unique identifier: None\n",
      "Going to scrape product 3 on page 1 with unique identifier: None\n"
     ]
    },
    {
     "name": "stderr",
     "output_type": "stream",
     "text": [
      "INFO:root:Scraped page 1 of https://www.hondenkattenapotheek.nl/ontworming/ontwormen-hond/panacur/\n",
      "INFO:root:Could not go to next page: Could not find next button\n",
      "INFO:root:Scraping category: https://www.hondenkattenapotheek.nl/ontworming/ontwormen-hond/drontal/\n"
     ]
    },
    {
     "name": "stdout",
     "output_type": "stream",
     "text": [
      "Going to scrape product 4 on page 1 with unique identifier: None\n",
      "Could not find next button\n",
      "\n",
      "Going to scrape category: https://www.hondenkattenapotheek.nl/ontworming/ontwormen-hond/drontal/...\n",
      "div[contains(@class, 'product') and contains(@class, box) and contains(@class, 'mobile')]\n",
      "Waiting for page to load...\n",
      "Page has fully loaded.\n"
     ]
    },
    {
     "name": "stderr",
     "output_type": "stream",
     "text": [
      "INFO:root:Scraping page 1 of https://www.hondenkattenapotheek.nl/ontworming/ontwormen-hond/drontal/\n"
     ]
    },
    {
     "name": "stdout",
     "output_type": "stream",
     "text": [
      "Waiting 3.94 seconds...\n",
      "Waiting for page to load...\n",
      "Page has fully loaded.\n",
      "Waiting 2.19 seconds...\n",
      "Going to scrape product 1 on page 1 with unique identifier: None\n",
      "Going to scrape product 2 on page 1 with unique identifier: None\n",
      "Going to scrape product 3 on page 1 with unique identifier: None\n",
      "Going to scrape product 4 on page 1 with unique identifier: None\n",
      "Going to scrape product 5 on page 1 with unique identifier: None\n",
      "Going to scrape product 6 on page 1 with unique identifier: None\n",
      "Going to scrape product 7 on page 1 with unique identifier: None\n"
     ]
    },
    {
     "name": "stderr",
     "output_type": "stream",
     "text": [
      "INFO:root:Scraped page 1 of https://www.hondenkattenapotheek.nl/ontworming/ontwormen-hond/drontal/\n",
      "INFO:root:Could not go to next page: Could not find next button\n",
      "INFO:root:Scraping category: https://www.hondenkattenapotheek.nl/vlooien-teken/hond-vlooien-en-tekenmiddelen/vectra-3d/\n"
     ]
    },
    {
     "name": "stdout",
     "output_type": "stream",
     "text": [
      "Going to scrape product 8 on page 1 with unique identifier: None\n",
      "Going to scrape product 9 on page 1 with unique identifier: None\n",
      "Could not find next button\n",
      "\n",
      "Going to scrape category: https://www.hondenkattenapotheek.nl/vlooien-teken/hond-vlooien-en-tekenmiddelen/vectra-3d/...\n",
      "div[contains(@class, 'product') and contains(@class, box) and contains(@class, 'mobile')]\n",
      "Waiting for page to load...\n",
      "Page has fully loaded.\n"
     ]
    },
    {
     "name": "stderr",
     "output_type": "stream",
     "text": [
      "INFO:root:Scraping page 1 of https://www.hondenkattenapotheek.nl/vlooien-teken/hond-vlooien-en-tekenmiddelen/vectra-3d/\n"
     ]
    },
    {
     "name": "stdout",
     "output_type": "stream",
     "text": [
      "Waiting 2.65 seconds...\n",
      "Waiting for page to load...\n",
      "Page has fully loaded.\n",
      "Waiting 2.91 seconds...\n",
      "Going to scrape product 1 on page 1 with unique identifier: None\n",
      "Going to scrape product 2 on page 1 with unique identifier: None\n",
      "Going to scrape product 3 on page 1 with unique identifier: None\n",
      "Going to scrape product 4 on page 1 with unique identifier: None\n",
      "Going to scrape product 5 on page 1 with unique identifier: None\n",
      "Going to scrape product 6 on page 1 with unique identifier: None\n",
      "Going to scrape product 7 on page 1 with unique identifier: None\n"
     ]
    },
    {
     "name": "stderr",
     "output_type": "stream",
     "text": [
      "INFO:root:Scraped page 1 of https://www.hondenkattenapotheek.nl/vlooien-teken/hond-vlooien-en-tekenmiddelen/vectra-3d/\n",
      "INFO:root:Could not go to next page: Could not find next button\n",
      "INFO:root:Scraping category: https://www.hondenkattenapotheek.nl/advanced_search_result.php?form_name=advanced_search&search_in_description=0&Beschrijving=0&Artikelnaam=true&Ean=1&Sku=1&Artikelnummer=1&Tag=0&inc_subcat=1&keywords=seresto+hond\n"
     ]
    },
    {
     "name": "stdout",
     "output_type": "stream",
     "text": [
      "Could not find next button\n",
      "\n",
      "Going to scrape category: https://www.hondenkattenapotheek.nl/advanced_search_result.php?form_name=advanced_search&search_in_description=0&Beschrijving=0&Artikelnaam=true&Ean=1&Sku=1&Artikelnummer=1&Tag=0&inc_subcat=1&keywords=seresto+hond...\n",
      "div[contains(@class, 'product') and contains(@class, box) and contains(@class, 'mobile')]\n",
      "Waiting for page to load...\n",
      "Page has fully loaded.\n"
     ]
    },
    {
     "name": "stderr",
     "output_type": "stream",
     "text": [
      "INFO:root:Scraping page 1 of https://www.hondenkattenapotheek.nl/advanced_search_result.php?form_name=advanced_search&search_in_description=0&Beschrijving=0&Artikelnaam=true&Ean=1&Sku=1&Artikelnummer=1&Tag=0&inc_subcat=1&keywords=seresto+hond\n"
     ]
    },
    {
     "name": "stdout",
     "output_type": "stream",
     "text": [
      "Waiting 3.32 seconds...\n",
      "Waiting for page to load...\n",
      "Page has fully loaded.\n",
      "Waiting 2.59 seconds...\n",
      "Going to scrape product 1 on page 1 with unique identifier: None\n",
      "Going to scrape product 2 on page 1 with unique identifier: None\n",
      "Going to scrape product 3 on page 1 with unique identifier: None\n"
     ]
    },
    {
     "name": "stderr",
     "output_type": "stream",
     "text": [
      "INFO:root:Scraped page 1 of https://www.hondenkattenapotheek.nl/advanced_search_result.php?form_name=advanced_search&search_in_description=0&Beschrijving=0&Artikelnaam=true&Ean=1&Sku=1&Artikelnummer=1&Tag=0&inc_subcat=1&keywords=seresto+hond\n",
      "INFO:root:Could not go to next page: Could not find next button\n",
      "INFO:root:Scraping: https://www.pharmacy4pets.nl/milbemax-hond\n"
     ]
    },
    {
     "name": "stdout",
     "output_type": "stream",
     "text": [
      "Going to scrape product 4 on page 1 with unique identifier: None\n",
      "Could not find next button\n",
      "\n",
      "\n",
      "SCRAPING WEBSITE: pharmacy4pets WITH SCRAPING TYPE: product\n",
      "Returning product scraped result\n",
      "\n",
      "Going to scrape product: https://www.pharmacy4pets.nl/milbemax-hond...\n",
      "Waiting for page to load...\n",
      "Page has fully loaded.\n",
      "Waiting 2.02 seconds...\n"
     ]
    },
    {
     "name": "stderr",
     "output_type": "stream",
     "text": [
      "INFO:root:Scraping: https://www.pharmacy4pets.nl/milbactor-hond?sqr=milbactor\n"
     ]
    },
    {
     "name": "stdout",
     "output_type": "stream",
     "text": [
      "Info Retrieved:\n",
      "Product 1: {'size': 'Milbemax hond M', 'quantity': '2 tabletten', 'price': '9,98', 'title': 'Milbemax hond', 'brand': 'Milbemax', 'website': 'pharmacy4pets', 'product_link': 'https://www.pharmacy4pets.nl/milbemax-hond', 'pet': <NA>, 'sale_price': <NA>, 'delivery_info': <NA>, 'available': <NA>, 'category': <NA>, 'page_number': <NA>, 'product_number': <NA>, 'category_link': <NA>, 'error': <NA>}\n",
      "Product 2: {'size': 'Milbemax hond S', 'quantity': '2 tabletten', 'price': '5,12', 'title': 'Milbemax hond', 'brand': 'Milbemax', 'website': 'pharmacy4pets', 'product_link': 'https://www.pharmacy4pets.nl/milbemax-hond', 'pet': <NA>, 'sale_price': <NA>, 'delivery_info': <NA>, 'available': <NA>, 'category': <NA>, 'page_number': <NA>, 'product_number': <NA>, 'category_link': <NA>, 'error': <NA>}\n",
      "Product 3: {'size': 'Milbemax hond S', 'quantity': '50 tabletten', 'price': '98,46', 'title': 'Milbemax hond', 'brand': 'Milbemax', 'website': 'pharmacy4pets', 'product_link': 'https://www.pharmacy4pets.nl/milbemax-hond', 'pet': <NA>, 'sale_price': <NA>, 'delivery_info': <NA>, 'available': <NA>, 'category': <NA>, 'page_number': <NA>, 'product_number': <NA>, 'category_link': <NA>, 'error': <NA>}\n",
      "Product 4: {'size': 'Milbemax hond M', 'quantity': '50 tabletten', 'price': '245,32', 'title': 'Milbemax hond', 'brand': 'Milbemax', 'website': 'pharmacy4pets', 'product_link': 'https://www.pharmacy4pets.nl/milbemax-hond', 'pet': <NA>, 'sale_price': <NA>, 'delivery_info': <NA>, 'available': <NA>, 'category': <NA>, 'page_number': <NA>, 'product_number': <NA>, 'category_link': <NA>, 'error': <NA>}\n",
      "Product 5: {'size': 'Milbemax hond M', 'quantity': '4 tabletten', 'price': '19,59', 'title': 'Milbemax hond', 'brand': 'Milbemax', 'website': 'pharmacy4pets', 'product_link': 'https://www.pharmacy4pets.nl/milbemax-hond', 'pet': <NA>, 'sale_price': <NA>, 'delivery_info': <NA>, 'available': <NA>, 'category': <NA>, 'page_number': <NA>, 'product_number': <NA>, 'category_link': <NA>, 'error': <NA>}\n",
      "Product 6: {'size': 'Milbemax hond S', 'quantity': '4 tabletten', 'price': '7,99', 'title': 'Milbemax hond', 'brand': 'Milbemax', 'website': 'pharmacy4pets', 'product_link': 'https://www.pharmacy4pets.nl/milbemax-hond', 'pet': <NA>, 'sale_price': <NA>, 'delivery_info': <NA>, 'available': <NA>, 'category': <NA>, 'page_number': <NA>, 'product_number': <NA>, 'category_link': <NA>, 'error': <NA>}\n",
      "Returning product scraped result\n",
      "\n",
      "Going to scrape product: https://www.pharmacy4pets.nl/milbactor-hond?sqr=milbactor...\n",
      "Waiting for page to load...\n",
      "Page has fully loaded.\n",
      "Waiting 3.77 seconds...\n"
     ]
    },
    {
     "name": "stderr",
     "output_type": "stream",
     "text": [
      "INFO:root:Scraping: https://www.pharmacy4pets.nl/milpro-hond\n"
     ]
    },
    {
     "name": "stdout",
     "output_type": "stream",
     "text": [
      "Info Retrieved:\n",
      "Product 1: {'size': 'Milbeguard Duo grote hond >5 kg', 'quantity': '4 tabletten', 'price': '31,75', 'title': 'Milbactor hond (Milbeguard Duo)', 'brand': 'Milbactor', 'website': 'pharmacy4pets', 'product_link': 'https://www.pharmacy4pets.nl/milbactor-hond?sqr=milbactor', 'pet': <NA>, 'sale_price': <NA>, 'delivery_info': <NA>, 'available': <NA>, 'category': <NA>, 'page_number': <NA>, 'product_number': <NA>, 'category_link': <NA>, 'error': <NA>}\n",
      "Product 2: {'size': 'Milbeguard Duo hond >2,5 kg', 'quantity': '4 tabletten', 'price': '19,03', 'title': 'Milbactor hond (Milbeguard Duo)', 'brand': 'Milbactor', 'website': 'pharmacy4pets', 'product_link': 'https://www.pharmacy4pets.nl/milbactor-hond?sqr=milbactor', 'pet': <NA>, 'sale_price': <NA>, 'delivery_info': <NA>, 'available': <NA>, 'category': <NA>, 'page_number': <NA>, 'product_number': <NA>, 'category_link': <NA>, 'error': <NA>}\n",
      "Product 3: {'size': 'Milbeguard Duo kleine hond en pup >0,5 kg', 'quantity': '4 tabletten', 'price': '7,23', 'title': 'Milbactor hond (Milbeguard Duo)', 'brand': 'Milbactor', 'website': 'pharmacy4pets', 'product_link': 'https://www.pharmacy4pets.nl/milbactor-hond?sqr=milbactor', 'pet': <NA>, 'sale_price': <NA>, 'delivery_info': <NA>, 'available': <NA>, 'category': <NA>, 'page_number': <NA>, 'product_number': <NA>, 'category_link': <NA>, 'error': <NA>}\n",
      "Returning product scraped result\n",
      "\n",
      "Going to scrape product: https://www.pharmacy4pets.nl/milpro-hond...\n",
      "Waiting for page to load...\n",
      "Page has fully loaded.\n",
      "Waiting 2.18 seconds...\n"
     ]
    },
    {
     "name": "stderr",
     "output_type": "stream",
     "text": [
      "INFO:root:Scraping: https://www.pharmacy4pets.nl/panacur?sqr=panacur\n"
     ]
    },
    {
     "name": "stdout",
     "output_type": "stream",
     "text": [
      "Info Retrieved:\n",
      "Product 1: {'size': 'Milpro kleine hond en pup 0,5-10 kg', 'quantity': '4 tabletten', 'price': '6,86', 'title': 'Milpro hond', 'brand': 'Milpro', 'website': 'pharmacy4pets', 'product_link': 'https://www.pharmacy4pets.nl/milpro-hond', 'pet': <NA>, 'sale_price': <NA>, 'delivery_info': <NA>, 'available': <NA>, 'category': <NA>, 'page_number': <NA>, 'product_number': <NA>, 'category_link': <NA>, 'error': <NA>}\n",
      "Product 2: {'size': 'Milpro hond ≥5 kg', 'quantity': '4 tabletten', 'price': '17,85', 'title': 'Milpro hond', 'brand': 'Milpro', 'website': 'pharmacy4pets', 'product_link': 'https://www.pharmacy4pets.nl/milpro-hond', 'pet': <NA>, 'sale_price': <NA>, 'delivery_info': <NA>, 'available': <NA>, 'category': <NA>, 'page_number': <NA>, 'product_number': <NA>, 'category_link': <NA>, 'error': <NA>}\n",
      "Product 3: {'size': 'Milpro kleine hond en pup 0,5-10 kg', 'quantity': '24 tabletten', 'price': '39,34', 'title': 'Milpro hond', 'brand': 'Milpro', 'website': 'pharmacy4pets', 'product_link': 'https://www.pharmacy4pets.nl/milpro-hond', 'pet': <NA>, 'sale_price': <NA>, 'delivery_info': <NA>, 'available': <NA>, 'category': <NA>, 'page_number': <NA>, 'product_number': <NA>, 'category_link': <NA>, 'error': <NA>}\n",
      "Product 4: {'size': 'Milpro hond ≥5 kg', 'quantity': '48 tabletten', 'price': '203,30', 'title': 'Milpro hond', 'brand': 'Milpro', 'website': 'pharmacy4pets', 'product_link': 'https://www.pharmacy4pets.nl/milpro-hond', 'pet': <NA>, 'sale_price': <NA>, 'delivery_info': <NA>, 'available': <NA>, 'category': <NA>, 'page_number': <NA>, 'product_number': <NA>, 'category_link': <NA>, 'error': <NA>}\n",
      "Returning product scraped result\n",
      "\n",
      "Going to scrape product: https://www.pharmacy4pets.nl/panacur?sqr=panacur...\n",
      "Waiting for page to load...\n",
      "Page has fully loaded.\n",
      "Waiting 3.95 seconds...\n"
     ]
    },
    {
     "name": "stderr",
     "output_type": "stream",
     "text": [
      "INFO:root:Scraping: https://www.pharmacy4pets.nl/drontal-dog-tasty?sqr=drontal\n"
     ]
    },
    {
     "name": "stdout",
     "output_type": "stream",
     "text": [
      "Info Retrieved:\n",
      "Product 1: {'size': 'Panacur 500 mg 10 tabletten', 'quantity': 'Panacur 500 mg 10 tabletten', 'price': '14,37', 'title': 'Panacur hond en kat', 'brand': 'Panacur', 'website': 'pharmacy4pets', 'product_link': 'https://www.pharmacy4pets.nl/panacur?sqr=panacur', 'pet': <NA>, 'sale_price': <NA>, 'delivery_info': <NA>, 'available': <NA>, 'category': <NA>, 'page_number': <NA>, 'product_number': <NA>, 'category_link': <NA>, 'error': <NA>}\n",
      "Product 2: {'size': 'Panacur ontwormpasta 4,8 gram', 'quantity': 'Panacur ontwormpasta 4,8 gram', 'price': '11,28', 'title': 'Panacur hond en kat', 'brand': 'Panacur', 'website': 'pharmacy4pets', 'product_link': 'https://www.pharmacy4pets.nl/panacur?sqr=panacur', 'pet': <NA>, 'sale_price': <NA>, 'delivery_info': <NA>, 'available': <NA>, 'category': <NA>, 'page_number': <NA>, 'product_number': <NA>, 'category_link': <NA>, 'error': <NA>}\n",
      "Product 3: {'size': 'Panacur 250 mg 10 tabletten', 'quantity': 'Panacur 250 mg 10 tabletten', 'price': '9,22', 'title': 'Panacur hond en kat', 'brand': 'Panacur', 'website': 'pharmacy4pets', 'product_link': 'https://www.pharmacy4pets.nl/panacur?sqr=panacur', 'pet': <NA>, 'sale_price': <NA>, 'delivery_info': <NA>, 'available': <NA>, 'category': <NA>, 'page_number': <NA>, 'product_number': <NA>, 'category_link': <NA>, 'error': <NA>}\n",
      "Returning product scraped result\n",
      "\n",
      "Going to scrape product: https://www.pharmacy4pets.nl/drontal-dog-tasty?sqr=drontal...\n",
      "Waiting for page to load...\n",
      "Page has fully loaded.\n",
      "Waiting 2.39 seconds...\n"
     ]
    },
    {
     "name": "stderr",
     "output_type": "stream",
     "text": [
      "INFO:root:Scraping: https://www.pharmacy4pets.nl/vectra-3d-hond?sqr=vectra\n"
     ]
    },
    {
     "name": "stdout",
     "output_type": "stream",
     "text": [
      "Info Retrieved:\n",
      "Product 1: {'size': 'Drontal Large Dog Tasty', 'quantity': '24 tabletten', 'price': '270,52', 'title': 'Drontal hond', 'brand': 'Drontal', 'website': 'pharmacy4pets', 'product_link': 'https://www.pharmacy4pets.nl/drontal-dog-tasty?sqr=drontal', 'pet': <NA>, 'sale_price': <NA>, 'delivery_info': <NA>, 'available': <NA>, 'category': <NA>, 'page_number': <NA>, 'product_number': <NA>, 'category_link': <NA>, 'error': <NA>}\n",
      "Product 2: {'size': 'Drontal Dog Tasty 6 tabletten', 'quantity': 'Drontal Dog Tasty 6 tabletten', 'price': '21,75', 'title': 'Drontal hond', 'brand': 'Drontal', 'website': 'pharmacy4pets', 'product_link': 'https://www.pharmacy4pets.nl/drontal-dog-tasty?sqr=drontal', 'pet': <NA>, 'sale_price': <NA>, 'delivery_info': <NA>, 'available': <NA>, 'category': <NA>, 'page_number': <NA>, 'product_number': <NA>, 'category_link': <NA>, 'error': <NA>}\n",
      "Product 3: {'size': 'Drontal Dog Tasty 2 tabletten', 'quantity': 'Drontal Dog Tasty 2 tabletten', 'price': '8,75', 'title': 'Drontal hond', 'brand': 'Drontal', 'website': 'pharmacy4pets', 'product_link': 'https://www.pharmacy4pets.nl/drontal-dog-tasty?sqr=drontal', 'pet': <NA>, 'sale_price': <NA>, 'delivery_info': <NA>, 'available': <NA>, 'category': <NA>, 'page_number': <NA>, 'product_number': <NA>, 'category_link': <NA>, 'error': <NA>}\n",
      "Product 4: {'size': 'Drontal Large Dog Tasty 2 tabletten', 'quantity': 'Drontal Large Dog Tasty 2 tabletten', 'price': '21,75', 'title': 'Drontal hond', 'brand': 'Drontal', 'website': 'pharmacy4pets', 'product_link': 'https://www.pharmacy4pets.nl/drontal-dog-tasty?sqr=drontal', 'pet': <NA>, 'sale_price': <NA>, 'delivery_info': <NA>, 'available': <NA>, 'category': <NA>, 'page_number': <NA>, 'product_number': <NA>, 'category_link': <NA>, 'error': <NA>}\n",
      "Returning product scraped result\n",
      "\n",
      "Going to scrape product: https://www.pharmacy4pets.nl/vectra-3d-hond?sqr=vectra...\n",
      "Waiting for page to load...\n",
      "Page has fully loaded.\n",
      "Waiting 2.35 seconds...\n"
     ]
    },
    {
     "name": "stderr",
     "output_type": "stream",
     "text": [
      "INFO:root:Scraping: https://www.pharmacy4pets.nl/advantix?sqr=advantix\n"
     ]
    },
    {
     "name": "stdout",
     "output_type": "stream",
     "text": [
      "Info Retrieved:\n",
      "Product 1: {'size': 'Vectra 3D hond S 4-10 kg 3 pipetten', 'quantity': 'Vectra 3D hond S 4-10 kg 3 pipetten', 'price': '26,94', 'title': 'Vectra 3D hond', 'brand': 'Vectra', 'website': 'pharmacy4pets', 'product_link': 'https://www.pharmacy4pets.nl/vectra-3d-hond?sqr=vectra', 'pet': <NA>, 'sale_price': <NA>, 'delivery_info': <NA>, 'available': <NA>, 'category': <NA>, 'page_number': <NA>, 'product_number': <NA>, 'category_link': <NA>, 'error': <NA>}\n",
      "Product 2: {'size': 'Vectra 3D hond XS 1,5- 4 kg 3 pipetten', 'quantity': 'Vectra 3D hond XS 1,5- 4 kg 3 pipetten', 'price': '24,95', 'title': 'Vectra 3D hond', 'brand': 'Vectra', 'website': 'pharmacy4pets', 'product_link': 'https://www.pharmacy4pets.nl/vectra-3d-hond?sqr=vectra', 'pet': <NA>, 'sale_price': <NA>, 'delivery_info': <NA>, 'available': <NA>, 'category': <NA>, 'page_number': <NA>, 'product_number': <NA>, 'category_link': <NA>, 'error': <NA>}\n",
      "Product 3: {'size': 'Vectra 3D hond L 25-40 kg 3 pipetten', 'quantity': 'Vectra 3D hond L 25-40 kg 3 pipetten', 'price': '31,95', 'title': 'Vectra 3D hond', 'brand': 'Vectra', 'website': 'pharmacy4pets', 'product_link': 'https://www.pharmacy4pets.nl/vectra-3d-hond?sqr=vectra', 'pet': <NA>, 'sale_price': <NA>, 'delivery_info': <NA>, 'available': <NA>, 'category': <NA>, 'page_number': <NA>, 'product_number': <NA>, 'category_link': <NA>, 'error': <NA>}\n",
      "Product 4: {'size': 'Vectra 3D hond XL >40 kg 3 pipetten', 'quantity': 'Vectra 3D hond XL >40 kg 3 pipetten', 'price': '35,95', 'title': 'Vectra 3D hond', 'brand': 'Vectra', 'website': 'pharmacy4pets', 'product_link': 'https://www.pharmacy4pets.nl/vectra-3d-hond?sqr=vectra', 'pet': <NA>, 'sale_price': <NA>, 'delivery_info': <NA>, 'available': <NA>, 'category': <NA>, 'page_number': <NA>, 'product_number': <NA>, 'category_link': <NA>, 'error': <NA>}\n",
      "Product 5: {'size': 'Vectra 3D hond M 10-25 kg 3 pipetten', 'quantity': 'Vectra 3D hond M 10-25 kg 3 pipetten', 'price': '28,95', 'title': 'Vectra 3D hond', 'brand': 'Vectra', 'website': 'pharmacy4pets', 'product_link': 'https://www.pharmacy4pets.nl/vectra-3d-hond?sqr=vectra', 'pet': <NA>, 'sale_price': <NA>, 'delivery_info': <NA>, 'available': <NA>, 'category': <NA>, 'page_number': <NA>, 'product_number': <NA>, 'category_link': <NA>, 'error': <NA>}\n",
      "Returning product scraped result\n",
      "\n",
      "Going to scrape product: https://www.pharmacy4pets.nl/advantix?sqr=advantix...\n",
      "Waiting for page to load...\n",
      "Page has fully loaded.\n",
      "Waiting 2.33 seconds...\n"
     ]
    },
    {
     "name": "stderr",
     "output_type": "stream",
     "text": [
      "INFO:root:Scraping: https://www.pharmacy4pets.nl/seresto-hond?sqr=sere\n"
     ]
    },
    {
     "name": "stdout",
     "output_type": "stream",
     "text": [
      "Info Retrieved:\n",
      "Product 1: {'size': 'Advantix 250/1250 hond 10-25 kg 4 pipetten', 'quantity': 'Advantix 250/1250 hond 10-25 kg 4 pipetten', 'price': '27,25', 'title': 'Advantix hond', 'brand': 'Advantix', 'website': 'pharmacy4pets', 'product_link': 'https://www.pharmacy4pets.nl/advantix?sqr=advantix', 'pet': <NA>, 'sale_price': <NA>, 'delivery_info': <NA>, 'available': <NA>, 'category': <NA>, 'page_number': <NA>, 'product_number': <NA>, 'category_link': <NA>, 'error': <NA>}\n",
      "Product 2: {'size': 'Advantix 40/200 hond 1,5-4 kg 4 pipetten', 'quantity': 'Advantix 40/200 hond 1,5-4 kg 4 pipetten', 'price': '24,53', 'title': 'Advantix hond', 'brand': 'Advantix', 'website': 'pharmacy4pets', 'product_link': 'https://www.pharmacy4pets.nl/advantix?sqr=advantix', 'pet': <NA>, 'sale_price': <NA>, 'delivery_info': <NA>, 'available': <NA>, 'category': <NA>, 'page_number': <NA>, 'product_number': <NA>, 'category_link': <NA>, 'error': <NA>}\n",
      "Product 3: {'size': 'Advantix 600/3000 hond >40kg 4 pipetten', 'quantity': 'Advantix 600/3000 hond >40kg 4 pipetten', 'price': '39,24', 'title': 'Advantix hond', 'brand': 'Advantix', 'website': 'pharmacy4pets', 'product_link': 'https://www.pharmacy4pets.nl/advantix?sqr=advantix', 'pet': <NA>, 'sale_price': <NA>, 'delivery_info': <NA>, 'available': <NA>, 'category': <NA>, 'page_number': <NA>, 'product_number': <NA>, 'category_link': <NA>, 'error': <NA>}\n",
      "Product 4: {'size': 'Advantix 100/500 hond 4-10 kg 4 pipetten', 'quantity': 'Advantix 100/500 hond 4-10 kg 4 pipetten', 'price': '25,62', 'title': 'Advantix hond', 'brand': 'Advantix', 'website': 'pharmacy4pets', 'product_link': 'https://www.pharmacy4pets.nl/advantix?sqr=advantix', 'pet': <NA>, 'sale_price': <NA>, 'delivery_info': <NA>, 'available': <NA>, 'category': <NA>, 'page_number': <NA>, 'product_number': <NA>, 'category_link': <NA>, 'error': <NA>}\n",
      "Product 5: {'size': 'Advantix 400/2000 hond 25-40 kg 6 pipetten', 'quantity': 'Advantix 400/2000 hond 25-40 kg 6 pipetten', 'price': '48,07', 'title': 'Advantix hond', 'brand': 'Advantix', 'website': 'pharmacy4pets', 'product_link': 'https://www.pharmacy4pets.nl/advantix?sqr=advantix', 'pet': <NA>, 'sale_price': <NA>, 'delivery_info': <NA>, 'available': <NA>, 'category': <NA>, 'page_number': <NA>, 'product_number': <NA>, 'category_link': <NA>, 'error': <NA>}\n",
      "Product 6: {'size': 'Advantix 600/3000 hond >40kg 6 pipetten', 'quantity': 'Advantix 600/3000 hond >40kg 6 pipetten', 'price': '52,32', 'title': 'Advantix hond', 'brand': 'Advantix', 'website': 'pharmacy4pets', 'product_link': 'https://www.pharmacy4pets.nl/advantix?sqr=advantix', 'pet': <NA>, 'sale_price': <NA>, 'delivery_info': <NA>, 'available': <NA>, 'category': <NA>, 'page_number': <NA>, 'product_number': <NA>, 'category_link': <NA>, 'error': <NA>}\n",
      "Product 7: {'size': 'Advantix 40/200 hond 1,5-4 kg 6 pipetten', 'quantity': 'Advantix 40/200 hond 1,5-4 kg 6 pipetten', 'price': '36,52', 'title': 'Advantix hond', 'brand': 'Advantix', 'website': 'pharmacy4pets', 'product_link': 'https://www.pharmacy4pets.nl/advantix?sqr=advantix', 'pet': <NA>, 'sale_price': <NA>, 'delivery_info': <NA>, 'available': <NA>, 'category': <NA>, 'page_number': <NA>, 'product_number': <NA>, 'category_link': <NA>, 'error': <NA>}\n",
      "Product 8: {'size': 'Advantix 250/1250 hond 10-25 kg 6 pipetten', 'quantity': 'Advantix 250/1250 hond 10-25 kg 6 pipetten', 'price': '40,66', 'title': 'Advantix hond', 'brand': 'Advantix', 'website': 'pharmacy4pets', 'product_link': 'https://www.pharmacy4pets.nl/advantix?sqr=advantix', 'pet': <NA>, 'sale_price': <NA>, 'delivery_info': <NA>, 'available': <NA>, 'category': <NA>, 'page_number': <NA>, 'product_number': <NA>, 'category_link': <NA>, 'error': <NA>}\n",
      "Product 9: {'size': 'Advantix 100/500 hond 4-10 kg 6 pipetten', 'quantity': 'Advantix 100/500 hond 4-10 kg 6 pipetten', 'price': '38,15', 'title': 'Advantix hond', 'brand': 'Advantix', 'website': 'pharmacy4pets', 'product_link': 'https://www.pharmacy4pets.nl/advantix?sqr=advantix', 'pet': <NA>, 'sale_price': <NA>, 'delivery_info': <NA>, 'available': <NA>, 'category': <NA>, 'page_number': <NA>, 'product_number': <NA>, 'category_link': <NA>, 'error': <NA>}\n",
      "Product 10: {'size': 'Advantix 400/2000 hond 25-40 kg 4 pipetten', 'quantity': 'Advantix 400/2000 hond 25-40 kg 4 pipetten', 'price': '32,16', 'title': 'Advantix hond', 'brand': 'Advantix', 'website': 'pharmacy4pets', 'product_link': 'https://www.pharmacy4pets.nl/advantix?sqr=advantix', 'pet': <NA>, 'sale_price': <NA>, 'delivery_info': <NA>, 'available': <NA>, 'category': <NA>, 'page_number': <NA>, 'product_number': <NA>, 'category_link': <NA>, 'error': <NA>}\n",
      "Returning product scraped result\n",
      "\n",
      "Going to scrape product: https://www.pharmacy4pets.nl/seresto-hond?sqr=sere...\n",
      "Waiting for page to load...\n",
      "Page has fully loaded.\n",
      "Waiting 3.22 seconds...\n"
     ]
    },
    {
     "name": "stderr",
     "output_type": "stream",
     "text": [
      "INFO:root:Scraping: https://www.medpets.nl/milbemax-hond?_gl=1*1l6o5ho*_up*MQ..*_gs*MQ..&gclid=CjwKCAiAiOa9BhBqEiwABCdG8-2fKK3ApA5WYYqLZAuUvyEH0GA_EdFRpF5nAf_VGcNhmObqnOuo2BoCVecQAvD_BwE\n"
     ]
    },
    {
     "name": "stdout",
     "output_type": "stream",
     "text": [
      "Info Retrieved:\n",
      "Product 1: {'size': 'Seresto halsband grote hond (meer dan 8 kg)', 'quantity': '2 stuks', 'price': '88,80', 'title': 'Seresto hond', 'brand': 'Seresto', 'website': 'pharmacy4pets', 'product_link': 'https://www.pharmacy4pets.nl/seresto-hond?sqr=sere', 'pet': <NA>, 'sale_price': <NA>, 'delivery_info': <NA>, 'available': <NA>, 'category': <NA>, 'page_number': <NA>, 'product_number': <NA>, 'category_link': <NA>, 'error': <NA>}\n",
      "Product 2: {'size': 'Seresto halsband kleine hond (minder dan 8 kg)', 'quantity': '38 cm', 'price': '40,14', 'title': 'Seresto hond', 'brand': 'Seresto', 'website': 'pharmacy4pets', 'product_link': 'https://www.pharmacy4pets.nl/seresto-hond?sqr=sere', 'pet': <NA>, 'sale_price': <NA>, 'delivery_info': <NA>, 'available': <NA>, 'category': <NA>, 'page_number': <NA>, 'product_number': <NA>, 'category_link': <NA>, 'error': <NA>}\n",
      "Product 3: {'size': 'Seresto halsband kleine hond (minder dan 8 kg)', 'quantity': '2 stuks', 'price': '75,79', 'title': 'Seresto hond', 'brand': 'Seresto', 'website': 'pharmacy4pets', 'product_link': 'https://www.pharmacy4pets.nl/seresto-hond?sqr=sere', 'pet': <NA>, 'sale_price': <NA>, 'delivery_info': <NA>, 'available': <NA>, 'category': <NA>, 'page_number': <NA>, 'product_number': <NA>, 'category_link': <NA>, 'error': <NA>}\n",
      "Product 4: {'size': 'Seresto halsband grote hond (meer dan 8 kg)', 'quantity': '70 cm', 'price': '41,42', 'title': 'Seresto hond', 'brand': 'Seresto', 'website': 'pharmacy4pets', 'product_link': 'https://www.pharmacy4pets.nl/seresto-hond?sqr=sere', 'pet': <NA>, 'sale_price': <NA>, 'delivery_info': <NA>, 'available': <NA>, 'category': <NA>, 'page_number': <NA>, 'product_number': <NA>, 'category_link': <NA>, 'error': <NA>}\n",
      "\n",
      "\n",
      "SCRAPING WEBSITE: medpets WITH SCRAPING TYPE: product\n",
      "Returning product scraped result\n",
      "\n",
      "Going to scrape product: https://www.medpets.nl/milbemax-hond?_gl=1*1l6o5ho*_up*MQ..*_gs*MQ..&gclid=CjwKCAiAiOa9BhBqEiwABCdG8-2fKK3ApA5WYYqLZAuUvyEH0GA_EdFRpF5nAf_VGcNhmObqnOuo2BoCVecQAvD_BwE...\n",
      "Waiting for page to load...\n",
      "Page has fully loaded.\n"
     ]
    },
    {
     "name": "stderr",
     "output_type": "stream",
     "text": [
      "INFO:root:Scraping: https://www.medpets.nl/milbactor-hond?_gl=1*143w7ku*_up*MQ..*_gs*MQ..&gclid=CjwKCAiAiOa9BhBqEiwABCdG8-2fKK3ApA5WYYqLZAuUvyEH0GA_EdFRpF5nAf_VGcNhmObqnOuo2BoCVecQAvD_BwE\n"
     ]
    },
    {
     "name": "stdout",
     "output_type": "stream",
     "text": [
      "Waiting 2.98 seconds...\n",
      "Info Retrieved:\n",
      "Product 1: {'title': 'Milbemax Hond', 'brand': 'Milbemax', 'size': 'kleine hond', 'quantity': '2 tabletten', 'price': 6.25, 'sale_price': <NA>, 'website': 'medpets', 'product_link': 'https://www.medpets.nl/milbemax-hond?_gl=1*1l6o5ho*_up*MQ..*_gs*MQ..&gclid=CjwKCAiAiOa9BhBqEiwABCdG8-2fKK3ApA5WYYqLZAuUvyEH0GA_EdFRpF5nAf_VGcNhmObqnOuo2BoCVecQAvD_BwE', 'pet': <NA>, 'delivery_info': <NA>, 'available': <NA>, 'category': <NA>, 'page_number': <NA>, 'product_number': <NA>, 'category_link': <NA>, 'error': <NA>}\n",
      "Product 2: {'title': 'Milbemax Hond', 'brand': 'Milbemax', 'size': 'grote hond', 'quantity': '2 tabletten', 'price': 11.25, 'sale_price': <NA>, 'website': 'medpets', 'product_link': 'https://www.medpets.nl/milbemax-hond?_gl=1*1l6o5ho*_up*MQ..*_gs*MQ..&gclid=CjwKCAiAiOa9BhBqEiwABCdG8-2fKK3ApA5WYYqLZAuUvyEH0GA_EdFRpF5nAf_VGcNhmObqnOuo2BoCVecQAvD_BwE', 'pet': <NA>, 'delivery_info': <NA>, 'available': <NA>, 'category': <NA>, 'page_number': <NA>, 'product_number': <NA>, 'category_link': <NA>, 'error': <NA>}\n",
      "Product 3: {'title': 'Milbemax Hond', 'brand': 'Milbemax', 'size': 'grote hond', 'quantity': '4 tabletten ', 'price': 19.5, 'sale_price': <NA>, 'website': 'medpets', 'product_link': 'https://www.medpets.nl/milbemax-hond?_gl=1*1l6o5ho*_up*MQ..*_gs*MQ..&gclid=CjwKCAiAiOa9BhBqEiwABCdG8-2fKK3ApA5WYYqLZAuUvyEH0GA_EdFRpF5nAf_VGcNhmObqnOuo2BoCVecQAvD_BwE', 'pet': <NA>, 'delivery_info': <NA>, 'available': <NA>, 'category': <NA>, 'page_number': <NA>, 'product_number': <NA>, 'category_link': <NA>, 'error': <NA>}\n",
      "Product 4: {'title': 'Milbemax Hond', 'brand': 'Milbemax', 'size': 'grote hond', 'quantity': '50 tabletten', 'price': 210.45, 'sale_price': <NA>, 'website': 'medpets', 'product_link': 'https://www.medpets.nl/milbemax-hond?_gl=1*1l6o5ho*_up*MQ..*_gs*MQ..&gclid=CjwKCAiAiOa9BhBqEiwABCdG8-2fKK3ApA5WYYqLZAuUvyEH0GA_EdFRpF5nAf_VGcNhmObqnOuo2BoCVecQAvD_BwE', 'pet': <NA>, 'delivery_info': <NA>, 'available': <NA>, 'category': <NA>, 'page_number': <NA>, 'product_number': <NA>, 'category_link': <NA>, 'error': <NA>}\n",
      "Product 5: {'title': 'Milbemax Hond', 'brand': 'Milbemax', 'size': ' kleine hond', 'quantity': '50 tabletten', 'price': 94.95, 'sale_price': <NA>, 'website': 'medpets', 'product_link': 'https://www.medpets.nl/milbemax-hond?_gl=1*1l6o5ho*_up*MQ..*_gs*MQ..&gclid=CjwKCAiAiOa9BhBqEiwABCdG8-2fKK3ApA5WYYqLZAuUvyEH0GA_EdFRpF5nAf_VGcNhmObqnOuo2BoCVecQAvD_BwE', 'pet': <NA>, 'delivery_info': <NA>, 'available': <NA>, 'category': <NA>, 'page_number': <NA>, 'product_number': <NA>, 'category_link': <NA>, 'error': <NA>}\n",
      "Product 6: {'title': 'Milbemax Hond', 'brand': 'Milbemax', 'size': 'kleine hond', 'quantity': '8 tabletten', 'price': 17.25, 'sale_price': <NA>, 'website': 'medpets', 'product_link': 'https://www.medpets.nl/milbemax-hond?_gl=1*1l6o5ho*_up*MQ..*_gs*MQ..&gclid=CjwKCAiAiOa9BhBqEiwABCdG8-2fKK3ApA5WYYqLZAuUvyEH0GA_EdFRpF5nAf_VGcNhmObqnOuo2BoCVecQAvD_BwE', 'pet': <NA>, 'delivery_info': <NA>, 'available': <NA>, 'category': <NA>, 'page_number': <NA>, 'product_number': <NA>, 'category_link': <NA>, 'error': <NA>}\n",
      "Product 7: {'title': 'Milbemax Hond', 'brand': 'Milbemax', 'size': 'kleine hond', 'quantity': '16 tabletten', 'price': 33.9, 'sale_price': <NA>, 'website': 'medpets', 'product_link': 'https://www.medpets.nl/milbemax-hond?_gl=1*1l6o5ho*_up*MQ..*_gs*MQ..&gclid=CjwKCAiAiOa9BhBqEiwABCdG8-2fKK3ApA5WYYqLZAuUvyEH0GA_EdFRpF5nAf_VGcNhmObqnOuo2BoCVecQAvD_BwE', 'pet': <NA>, 'delivery_info': <NA>, 'available': <NA>, 'category': <NA>, 'page_number': <NA>, 'product_number': <NA>, 'category_link': <NA>, 'error': <NA>}\n",
      "Product 8: {'title': 'Milbemax Hond', 'brand': 'Milbemax', 'size': 'kleine hond', 'quantity': '20 tabletten', 'price': 39.9, 'sale_price': <NA>, 'website': 'medpets', 'product_link': 'https://www.medpets.nl/milbemax-hond?_gl=1*1l6o5ho*_up*MQ..*_gs*MQ..&gclid=CjwKCAiAiOa9BhBqEiwABCdG8-2fKK3ApA5WYYqLZAuUvyEH0GA_EdFRpF5nAf_VGcNhmObqnOuo2BoCVecQAvD_BwE', 'pet': <NA>, 'delivery_info': <NA>, 'available': <NA>, 'category': <NA>, 'page_number': <NA>, 'product_number': <NA>, 'category_link': <NA>, 'error': <NA>}\n",
      "Product 9: {'title': 'Milbemax Hond', 'brand': 'Milbemax', 'size': 'grote hond', 'quantity': '8 tabletten ', 'price': 34.7, 'sale_price': <NA>, 'website': 'medpets', 'product_link': 'https://www.medpets.nl/milbemax-hond?_gl=1*1l6o5ho*_up*MQ..*_gs*MQ..&gclid=CjwKCAiAiOa9BhBqEiwABCdG8-2fKK3ApA5WYYqLZAuUvyEH0GA_EdFRpF5nAf_VGcNhmObqnOuo2BoCVecQAvD_BwE', 'pet': <NA>, 'delivery_info': <NA>, 'available': <NA>, 'category': <NA>, 'page_number': <NA>, 'product_number': <NA>, 'category_link': <NA>, 'error': <NA>}\n",
      "Product 10: {'title': 'Milbemax Hond', 'brand': 'Milbemax', 'size': 'grote hond', 'quantity': '16 tabletten ', 'price': 71.95, 'sale_price': <NA>, 'website': 'medpets', 'product_link': 'https://www.medpets.nl/milbemax-hond?_gl=1*1l6o5ho*_up*MQ..*_gs*MQ..&gclid=CjwKCAiAiOa9BhBqEiwABCdG8-2fKK3ApA5WYYqLZAuUvyEH0GA_EdFRpF5nAf_VGcNhmObqnOuo2BoCVecQAvD_BwE', 'pet': <NA>, 'delivery_info': <NA>, 'available': <NA>, 'category': <NA>, 'page_number': <NA>, 'product_number': <NA>, 'category_link': <NA>, 'error': <NA>}\n",
      "Product 11: {'title': 'Milbemax Hond', 'brand': 'Milbemax', 'size': 'grote hond', 'quantity': '20 tabletten ', 'price': 92.95, 'sale_price': <NA>, 'website': 'medpets', 'product_link': 'https://www.medpets.nl/milbemax-hond?_gl=1*1l6o5ho*_up*MQ..*_gs*MQ..&gclid=CjwKCAiAiOa9BhBqEiwABCdG8-2fKK3ApA5WYYqLZAuUvyEH0GA_EdFRpF5nAf_VGcNhmObqnOuo2BoCVecQAvD_BwE', 'pet': <NA>, 'delivery_info': <NA>, 'available': <NA>, 'category': <NA>, 'page_number': <NA>, 'product_number': <NA>, 'category_link': <NA>, 'error': <NA>}\n",
      "Product 12: {'title': 'Milbemax Hond', 'brand': 'Milbemax', 'size': 'grote hond', 'quantity': '40 tabletten', 'price': 199.95, 'sale_price': <NA>, 'website': 'medpets', 'product_link': 'https://www.medpets.nl/milbemax-hond?_gl=1*1l6o5ho*_up*MQ..*_gs*MQ..&gclid=CjwKCAiAiOa9BhBqEiwABCdG8-2fKK3ApA5WYYqLZAuUvyEH0GA_EdFRpF5nAf_VGcNhmObqnOuo2BoCVecQAvD_BwE', 'pet': <NA>, 'delivery_info': <NA>, 'available': <NA>, 'category': <NA>, 'page_number': <NA>, 'product_number': <NA>, 'category_link': <NA>, 'error': <NA>}\n",
      "Product 13: {'title': 'Milbemax Hond', 'brand': 'Milbemax', 'size': 'kleine hond', 'quantity': '4 tabletten', 'price': 8.95, 'sale_price': <NA>, 'website': 'medpets', 'product_link': 'https://www.medpets.nl/milbemax-hond?_gl=1*1l6o5ho*_up*MQ..*_gs*MQ..&gclid=CjwKCAiAiOa9BhBqEiwABCdG8-2fKK3ApA5WYYqLZAuUvyEH0GA_EdFRpF5nAf_VGcNhmObqnOuo2BoCVecQAvD_BwE', 'pet': <NA>, 'delivery_info': <NA>, 'available': <NA>, 'category': <NA>, 'page_number': <NA>, 'product_number': <NA>, 'category_link': <NA>, 'error': <NA>}\n",
      "Returning product scraped result\n",
      "\n",
      "Going to scrape product: https://www.medpets.nl/milbactor-hond?_gl=1*143w7ku*_up*MQ..*_gs*MQ..&gclid=CjwKCAiAiOa9BhBqEiwABCdG8-2fKK3ApA5WYYqLZAuUvyEH0GA_EdFRpF5nAf_VGcNhmObqnOuo2BoCVecQAvD_BwE...\n",
      "Waiting for page to load...\n",
      "Page has fully loaded.\n"
     ]
    },
    {
     "name": "stderr",
     "output_type": "stream",
     "text": [
      "INFO:root:Scraping: https://www.medpets.nl/milpro-hond?_gl=1*1mkcvps*_up*MQ..*_gs*MQ..&gclid=CjwKCAiAiOa9BhBqEiwABCdG8-2fKK3ApA5WYYqLZAuUvyEH0GA_EdFRpF5nAf_VGcNhmObqnOuo2BoCVecQAvD_BwE\n"
     ]
    },
    {
     "name": "stdout",
     "output_type": "stream",
     "text": [
      "Waiting 2.46 seconds...\n",
      "Info Retrieved:\n",
      "Returning product scraped result\n",
      "\n",
      "Going to scrape product: https://www.medpets.nl/milpro-hond?_gl=1*1mkcvps*_up*MQ..*_gs*MQ..&gclid=CjwKCAiAiOa9BhBqEiwABCdG8-2fKK3ApA5WYYqLZAuUvyEH0GA_EdFRpF5nAf_VGcNhmObqnOuo2BoCVecQAvD_BwE...\n",
      "Waiting for page to load...\n",
      "Page has fully loaded.\n"
     ]
    },
    {
     "name": "stderr",
     "output_type": "stream",
     "text": [
      "INFO:root:Scraping: https://www.medpets.nl/panacur-tabletten-hond-kat?_gl=1*1dc2bs*_up*MQ..*_gs*MQ..&gclid=CjwKCAiAiOa9BhBqEiwABCdG8-2fKK3ApA5WYYqLZAuUvyEH0GA_EdFRpF5nAf_VGcNhmObqnOuo2BoCVecQAvD_BwE\n"
     ]
    },
    {
     "name": "stdout",
     "output_type": "stream",
     "text": [
      "Waiting 3.74 seconds...\n",
      "Info Retrieved:\n",
      "Product 1: {'title': 'Milpro Hond', 'brand': 'Milpro Kleine Hond 24 tabl.', 'price': 41.95, 'sale_price': <NA>, 'website': 'medpets', 'product_link': 'https://www.medpets.nl/milpro-hond?_gl=1*1mkcvps*_up*MQ..*_gs*MQ..&gclid=CjwKCAiAiOa9BhBqEiwABCdG8-2fKK3ApA5WYYqLZAuUvyEH0GA_EdFRpF5nAf_VGcNhmObqnOuo2BoCVecQAvD_BwE', 'pet': <NA>, 'size': <NA>, 'quantity': <NA>, 'delivery_info': <NA>, 'available': <NA>, 'category': <NA>, 'page_number': <NA>, 'product_number': <NA>, 'category_link': <NA>, 'error': <NA>}\n",
      "Product 2: {'title': 'Milpro Hond', 'brand': 'Milpro Grote Hond 4 tabletten', 'price': 22.2, 'sale_price': <NA>, 'website': 'medpets', 'product_link': 'https://www.medpets.nl/milpro-hond?_gl=1*1mkcvps*_up*MQ..*_gs*MQ..&gclid=CjwKCAiAiOa9BhBqEiwABCdG8-2fKK3ApA5WYYqLZAuUvyEH0GA_EdFRpF5nAf_VGcNhmObqnOuo2BoCVecQAvD_BwE', 'pet': <NA>, 'size': <NA>, 'quantity': <NA>, 'delivery_info': <NA>, 'available': <NA>, 'category': <NA>, 'page_number': <NA>, 'product_number': <NA>, 'category_link': <NA>, 'error': <NA>}\n",
      "Returning product scraped result\n",
      "\n",
      "Going to scrape product: https://www.medpets.nl/panacur-tabletten-hond-kat?_gl=1*1dc2bs*_up*MQ..*_gs*MQ..&gclid=CjwKCAiAiOa9BhBqEiwABCdG8-2fKK3ApA5WYYqLZAuUvyEH0GA_EdFRpF5nAf_VGcNhmObqnOuo2BoCVecQAvD_BwE...\n",
      "Waiting for page to load...\n",
      "Page has fully loaded.\n"
     ]
    },
    {
     "name": "stderr",
     "output_type": "stream",
     "text": [
      "INFO:root:Scraping: https://www.medpets.nl/drontal-dog-tasty?_gl=1*1dc2bs*_up*MQ..*_gs*MQ..&gclid=CjwKCAiAiOa9BhBqEiwABCdG8-2fKK3ApA5WYYqLZAuUvyEH0GA_EdFRpF5nAf_VGcNhmObqnOuo2BoCVecQAvD_BwE\n"
     ]
    },
    {
     "name": "stdout",
     "output_type": "stream",
     "text": [
      "Waiting 3.83 seconds...\n",
      "Info Retrieved:\n",
      "Product 1: {'title': 'Panacur - Hond & Kat', 'brand': 'Panacur KH 500', 'quantity': '10 tabletten', 'price': 14.8, 'sale_price': <NA>, 'website': 'medpets', 'product_link': 'https://www.medpets.nl/panacur-tabletten-hond-kat?_gl=1*1dc2bs*_up*MQ..*_gs*MQ..&gclid=CjwKCAiAiOa9BhBqEiwABCdG8-2fKK3ApA5WYYqLZAuUvyEH0GA_EdFRpF5nAf_VGcNhmObqnOuo2BoCVecQAvD_BwE', 'pet': <NA>, 'size': <NA>, 'delivery_info': <NA>, 'available': <NA>, 'category': <NA>, 'page_number': <NA>, 'product_number': <NA>, 'category_link': <NA>, 'error': <NA>}\n",
      "Product 2: {'title': 'Panacur - Hond & Kat', 'brand': 'Panacur PetPaste', 'quantity': '2x 1 injector', 'price': 25.95, 'sale_price': <NA>, 'website': 'medpets', 'product_link': 'https://www.medpets.nl/panacur-tabletten-hond-kat?_gl=1*1dc2bs*_up*MQ..*_gs*MQ..&gclid=CjwKCAiAiOa9BhBqEiwABCdG8-2fKK3ApA5WYYqLZAuUvyEH0GA_EdFRpF5nAf_VGcNhmObqnOuo2BoCVecQAvD_BwE', 'pet': <NA>, 'size': <NA>, 'delivery_info': <NA>, 'available': <NA>, 'category': <NA>, 'page_number': <NA>, 'product_number': <NA>, 'category_link': <NA>, 'error': <NA>}\n",
      "Product 3: {'title': 'Panacur - Hond & Kat', 'brand': 'Panacur PetPaste', 'quantity': '3 x 1 injector', 'price': 38.95, 'sale_price': <NA>, 'website': 'medpets', 'product_link': 'https://www.medpets.nl/panacur-tabletten-hond-kat?_gl=1*1dc2bs*_up*MQ..*_gs*MQ..&gclid=CjwKCAiAiOa9BhBqEiwABCdG8-2fKK3ApA5WYYqLZAuUvyEH0GA_EdFRpF5nAf_VGcNhmObqnOuo2BoCVecQAvD_BwE', 'pet': <NA>, 'size': <NA>, 'delivery_info': <NA>, 'available': <NA>, 'category': <NA>, 'page_number': <NA>, 'product_number': <NA>, 'category_link': <NA>, 'error': <NA>}\n",
      "Product 4: {'title': 'Panacur - Hond & Kat', 'brand': 'Panacur KH 250', 'quantity': '10 tabletten', 'price': 8.95, 'sale_price': <NA>, 'website': 'medpets', 'product_link': 'https://www.medpets.nl/panacur-tabletten-hond-kat?_gl=1*1dc2bs*_up*MQ..*_gs*MQ..&gclid=CjwKCAiAiOa9BhBqEiwABCdG8-2fKK3ApA5WYYqLZAuUvyEH0GA_EdFRpF5nAf_VGcNhmObqnOuo2BoCVecQAvD_BwE', 'pet': <NA>, 'size': <NA>, 'delivery_info': <NA>, 'available': <NA>, 'category': <NA>, 'page_number': <NA>, 'product_number': <NA>, 'category_link': <NA>, 'error': <NA>}\n",
      "Product 5: {'title': 'Panacur - Hond & Kat', 'brand': 'Panacur PetPaste', 'quantity': '1 injector', 'price': 13.5, 'sale_price': <NA>, 'website': 'medpets', 'product_link': 'https://www.medpets.nl/panacur-tabletten-hond-kat?_gl=1*1dc2bs*_up*MQ..*_gs*MQ..&gclid=CjwKCAiAiOa9BhBqEiwABCdG8-2fKK3ApA5WYYqLZAuUvyEH0GA_EdFRpF5nAf_VGcNhmObqnOuo2BoCVecQAvD_BwE', 'pet': <NA>, 'size': <NA>, 'delivery_info': <NA>, 'available': <NA>, 'category': <NA>, 'page_number': <NA>, 'product_number': <NA>, 'category_link': <NA>, 'error': <NA>}\n",
      "Returning product scraped result\n",
      "\n",
      "Going to scrape product: https://www.medpets.nl/drontal-dog-tasty?_gl=1*1dc2bs*_up*MQ..*_gs*MQ..&gclid=CjwKCAiAiOa9BhBqEiwABCdG8-2fKK3ApA5WYYqLZAuUvyEH0GA_EdFRpF5nAf_VGcNhmObqnOuo2BoCVecQAvD_BwE...\n",
      "Waiting for page to load...\n",
      "Page has fully loaded.\n"
     ]
    },
    {
     "name": "stderr",
     "output_type": "stream",
     "text": [
      "INFO:root:Scraping: https://www.medpets.nl/vectra-3d-dog?_gl=1*u7mzlk*_up*MQ..*_gs*MQ..&gclid=CjwKCAiAiOa9BhBqEiwABCdG8-2fKK3ApA5WYYqLZAuUvyEH0GA_EdFRpF5nAf_VGcNhmObqnOuo2BoCVecQAvD_BwE\n"
     ]
    },
    {
     "name": "stdout",
     "output_type": "stream",
     "text": [
      "Waiting 2.41 seconds...\n",
      "Info Retrieved:\n",
      "Product 1: {'title': 'Drontal Dog Tasty', 'brand': 'Drontal Large Dog Tasty 8 tabletten', 'price': 92.55, 'sale_price': <NA>, 'website': 'medpets', 'product_link': 'https://www.medpets.nl/drontal-dog-tasty?_gl=1*1dc2bs*_up*MQ..*_gs*MQ..&gclid=CjwKCAiAiOa9BhBqEiwABCdG8-2fKK3ApA5WYYqLZAuUvyEH0GA_EdFRpF5nAf_VGcNhmObqnOuo2BoCVecQAvD_BwE', 'pet': <NA>, 'size': <NA>, 'quantity': <NA>, 'delivery_info': <NA>, 'available': <NA>, 'category': <NA>, 'page_number': <NA>, 'product_number': <NA>, 'category_link': <NA>, 'error': <NA>}\n",
      "Product 2: {'title': 'Drontal Dog Tasty', 'brand': 'Drontal Dog Tasty 2 tabletten', 'price': 12.95, 'sale_price': <NA>, 'website': 'medpets', 'product_link': 'https://www.medpets.nl/drontal-dog-tasty?_gl=1*1dc2bs*_up*MQ..*_gs*MQ..&gclid=CjwKCAiAiOa9BhBqEiwABCdG8-2fKK3ApA5WYYqLZAuUvyEH0GA_EdFRpF5nAf_VGcNhmObqnOuo2BoCVecQAvD_BwE', 'pet': <NA>, 'size': <NA>, 'quantity': <NA>, 'delivery_info': <NA>, 'available': <NA>, 'category': <NA>, 'page_number': <NA>, 'product_number': <NA>, 'category_link': <NA>, 'error': <NA>}\n",
      "Product 3: {'title': 'Drontal Dog Tasty', 'brand': 'Drontal Dog Tasty 6 tabletten', 'price': 28.75, 'sale_price': <NA>, 'website': 'medpets', 'product_link': 'https://www.medpets.nl/drontal-dog-tasty?_gl=1*1dc2bs*_up*MQ..*_gs*MQ..&gclid=CjwKCAiAiOa9BhBqEiwABCdG8-2fKK3ApA5WYYqLZAuUvyEH0GA_EdFRpF5nAf_VGcNhmObqnOuo2BoCVecQAvD_BwE', 'pet': <NA>, 'size': <NA>, 'quantity': <NA>, 'delivery_info': <NA>, 'available': <NA>, 'category': <NA>, 'page_number': <NA>, 'product_number': <NA>, 'category_link': <NA>, 'error': <NA>}\n",
      "Product 4: {'title': 'Drontal Dog Tasty', 'brand': 'Drontal Large Dog Tasty 2 tabletten', 'price': 26.7, 'sale_price': <NA>, 'website': 'medpets', 'product_link': 'https://www.medpets.nl/drontal-dog-tasty?_gl=1*1dc2bs*_up*MQ..*_gs*MQ..&gclid=CjwKCAiAiOa9BhBqEiwABCdG8-2fKK3ApA5WYYqLZAuUvyEH0GA_EdFRpF5nAf_VGcNhmObqnOuo2BoCVecQAvD_BwE', 'pet': <NA>, 'size': <NA>, 'quantity': <NA>, 'delivery_info': <NA>, 'available': <NA>, 'category': <NA>, 'page_number': <NA>, 'product_number': <NA>, 'category_link': <NA>, 'error': <NA>}\n",
      "Returning product scraped result\n",
      "\n",
      "Going to scrape product: https://www.medpets.nl/vectra-3d-dog?_gl=1*u7mzlk*_up*MQ..*_gs*MQ..&gclid=CjwKCAiAiOa9BhBqEiwABCdG8-2fKK3ApA5WYYqLZAuUvyEH0GA_EdFRpF5nAf_VGcNhmObqnOuo2BoCVecQAvD_BwE...\n",
      "Waiting for page to load...\n",
      "Page has fully loaded.\n"
     ]
    },
    {
     "name": "stderr",
     "output_type": "stream",
     "text": [
      "INFO:root:Scraping: https://www.medpets.nl/advantix?_gl=1*1lmpgk1*_up*MQ..*_gs*MQ..&gclid=CjwKCAiAiOa9BhBqEiwABCdG8-2fKK3ApA5WYYqLZAuUvyEH0GA_EdFRpF5nAf_VGcNhmObqnOuo2BoCVecQAvD_BwE\n"
     ]
    },
    {
     "name": "stdout",
     "output_type": "stream",
     "text": [
      "Waiting 3.7 seconds...\n",
      "Info Retrieved:\n",
      "Product 1: {'title': 'Vectra 3D Dog', 'brand': 'Vectra 3D Dog XS', 'size': '1,5 tot 4 kg', 'quantity': '3 pipetten', 'price': 22.75, 'sale_price': <NA>, 'website': 'medpets', 'product_link': 'https://www.medpets.nl/vectra-3d-dog?_gl=1*u7mzlk*_up*MQ..*_gs*MQ..&gclid=CjwKCAiAiOa9BhBqEiwABCdG8-2fKK3ApA5WYYqLZAuUvyEH0GA_EdFRpF5nAf_VGcNhmObqnOuo2BoCVecQAvD_BwE', 'pet': <NA>, 'delivery_info': <NA>, 'available': <NA>, 'category': <NA>, 'page_number': <NA>, 'product_number': <NA>, 'category_link': <NA>, 'error': <NA>}\n",
      "Product 2: {'title': 'Vectra 3D Dog', 'brand': 'Vectra 3D Dog S', 'size': '4 tot 10 kg', 'quantity': '3 pipetten', 'price': 22.25, 'sale_price': <NA>, 'website': 'medpets', 'product_link': 'https://www.medpets.nl/vectra-3d-dog?_gl=1*u7mzlk*_up*MQ..*_gs*MQ..&gclid=CjwKCAiAiOa9BhBqEiwABCdG8-2fKK3ApA5WYYqLZAuUvyEH0GA_EdFRpF5nAf_VGcNhmObqnOuo2BoCVecQAvD_BwE', 'pet': <NA>, 'delivery_info': <NA>, 'available': <NA>, 'category': <NA>, 'page_number': <NA>, 'product_number': <NA>, 'category_link': <NA>, 'error': <NA>}\n",
      "Product 3: {'title': 'Vectra 3D Dog', 'brand': 'Vectra 3D Dog M', 'size': '10 tot 25 kg', 'quantity': '3 pipetten', 'price': 25.6, 'sale_price': <NA>, 'website': 'medpets', 'product_link': 'https://www.medpets.nl/vectra-3d-dog?_gl=1*u7mzlk*_up*MQ..*_gs*MQ..&gclid=CjwKCAiAiOa9BhBqEiwABCdG8-2fKK3ApA5WYYqLZAuUvyEH0GA_EdFRpF5nAf_VGcNhmObqnOuo2BoCVecQAvD_BwE', 'pet': <NA>, 'delivery_info': <NA>, 'available': <NA>, 'category': <NA>, 'page_number': <NA>, 'product_number': <NA>, 'category_link': <NA>, 'error': <NA>}\n",
      "Product 4: {'title': 'Vectra 3D Dog', 'brand': 'Vectra 3D Dog L', 'size': '25 tot 40 kg', 'quantity': '3 pipetten', 'price': 27.8, 'sale_price': <NA>, 'website': 'medpets', 'product_link': 'https://www.medpets.nl/vectra-3d-dog?_gl=1*u7mzlk*_up*MQ..*_gs*MQ..&gclid=CjwKCAiAiOa9BhBqEiwABCdG8-2fKK3ApA5WYYqLZAuUvyEH0GA_EdFRpF5nAf_VGcNhmObqnOuo2BoCVecQAvD_BwE', 'pet': <NA>, 'delivery_info': <NA>, 'available': <NA>, 'category': <NA>, 'page_number': <NA>, 'product_number': <NA>, 'category_link': <NA>, 'error': <NA>}\n",
      "Product 5: {'title': 'Vectra 3D Dog', 'brand': 'Vectra 3D Dog XL', 'size': 'vanaf 40 kg', 'quantity': '3 pipetten', 'price': 30.75, 'sale_price': <NA>, 'website': 'medpets', 'product_link': 'https://www.medpets.nl/vectra-3d-dog?_gl=1*u7mzlk*_up*MQ..*_gs*MQ..&gclid=CjwKCAiAiOa9BhBqEiwABCdG8-2fKK3ApA5WYYqLZAuUvyEH0GA_EdFRpF5nAf_VGcNhmObqnOuo2BoCVecQAvD_BwE', 'pet': <NA>, 'delivery_info': <NA>, 'available': <NA>, 'category': <NA>, 'page_number': <NA>, 'product_number': <NA>, 'category_link': <NA>, 'error': <NA>}\n",
      "Returning product scraped result\n",
      "\n",
      "Going to scrape product: https://www.medpets.nl/advantix?_gl=1*1lmpgk1*_up*MQ..*_gs*MQ..&gclid=CjwKCAiAiOa9BhBqEiwABCdG8-2fKK3ApA5WYYqLZAuUvyEH0GA_EdFRpF5nAf_VGcNhmObqnOuo2BoCVecQAvD_BwE...\n",
      "Waiting for page to load...\n",
      "Page has fully loaded.\n"
     ]
    },
    {
     "name": "stderr",
     "output_type": "stream",
     "text": [
      "INFO:root:Scraping: https://www.medpets.nl/seresto-hond?_gl=1*111x5y2*_up*MQ..*_gs*MQ..&gclid=CjwKCAiAiOa9BhBqEiwABCdG8-2fKK3ApA5WYYqLZAuUvyEH0GA_EdFRpF5nAf_VGcNhmObqnOuo2BoCVecQAvD_BwE\n"
     ]
    },
    {
     "name": "stdout",
     "output_type": "stream",
     "text": [
      "Waiting 2.95 seconds...\n",
      "Info Retrieved:\n",
      "Product 1: {'title': 'Advantix', 'brand': 'Advantix 600/3000', 'size': '40 tot 60 kg', 'quantity': '4 pipetten', 'price': 36.05, 'sale_price': <NA>, 'website': 'medpets', 'product_link': 'https://www.medpets.nl/advantix?_gl=1*1lmpgk1*_up*MQ..*_gs*MQ..&gclid=CjwKCAiAiOa9BhBqEiwABCdG8-2fKK3ApA5WYYqLZAuUvyEH0GA_EdFRpF5nAf_VGcNhmObqnOuo2BoCVecQAvD_BwE', 'pet': <NA>, 'delivery_info': <NA>, 'available': <NA>, 'category': <NA>, 'page_number': <NA>, 'product_number': <NA>, 'category_link': <NA>, 'error': <NA>}\n",
      "Product 2: {'title': 'Advantix', 'brand': 'Advantix 600/3000', 'size': '40 tot 60 kg', 'quantity': '6 pipetten', 'price': 43.95, 'sale_price': <NA>, 'website': 'medpets', 'product_link': 'https://www.medpets.nl/advantix?_gl=1*1lmpgk1*_up*MQ..*_gs*MQ..&gclid=CjwKCAiAiOa9BhBqEiwABCdG8-2fKK3ApA5WYYqLZAuUvyEH0GA_EdFRpF5nAf_VGcNhmObqnOuo2BoCVecQAvD_BwE', 'pet': <NA>, 'delivery_info': <NA>, 'available': <NA>, 'category': <NA>, 'page_number': <NA>, 'product_number': <NA>, 'category_link': <NA>, 'error': <NA>}\n",
      "Product 3: {'title': 'Advantix', 'brand': 'Advantix 100/500', 'size': '4 tot 10 kg', 'quantity': '4 pipetten', 'price': 24.55, 'sale_price': <NA>, 'website': 'medpets', 'product_link': 'https://www.medpets.nl/advantix?_gl=1*1lmpgk1*_up*MQ..*_gs*MQ..&gclid=CjwKCAiAiOa9BhBqEiwABCdG8-2fKK3ApA5WYYqLZAuUvyEH0GA_EdFRpF5nAf_VGcNhmObqnOuo2BoCVecQAvD_BwE', 'pet': <NA>, 'delivery_info': <NA>, 'available': <NA>, 'category': <NA>, 'page_number': <NA>, 'product_number': <NA>, 'category_link': <NA>, 'error': <NA>}\n",
      "Product 4: {'title': 'Advantix', 'brand': 'Advantix 40/200', 'size': '1,5 tot 4 kg', 'quantity': '4 pipetten', 'price': 22.95, 'sale_price': <NA>, 'website': 'medpets', 'product_link': 'https://www.medpets.nl/advantix?_gl=1*1lmpgk1*_up*MQ..*_gs*MQ..&gclid=CjwKCAiAiOa9BhBqEiwABCdG8-2fKK3ApA5WYYqLZAuUvyEH0GA_EdFRpF5nAf_VGcNhmObqnOuo2BoCVecQAvD_BwE', 'pet': <NA>, 'delivery_info': <NA>, 'available': <NA>, 'category': <NA>, 'page_number': <NA>, 'product_number': <NA>, 'category_link': <NA>, 'error': <NA>}\n",
      "Product 5: {'title': 'Advantix', 'brand': 'Advantix 250/1250', 'size': '10 tot 25 kg', 'quantity': '4 pipetten', 'price': 25.95, 'sale_price': <NA>, 'website': 'medpets', 'product_link': 'https://www.medpets.nl/advantix?_gl=1*1lmpgk1*_up*MQ..*_gs*MQ..&gclid=CjwKCAiAiOa9BhBqEiwABCdG8-2fKK3ApA5WYYqLZAuUvyEH0GA_EdFRpF5nAf_VGcNhmObqnOuo2BoCVecQAvD_BwE', 'pet': <NA>, 'delivery_info': <NA>, 'available': <NA>, 'category': <NA>, 'page_number': <NA>, 'product_number': <NA>, 'category_link': <NA>, 'error': <NA>}\n",
      "Product 6: {'title': 'Advantix', 'brand': 'Advantix 400/2000', 'size': '25 tot 40 kg', 'quantity': '4 pipetten', 'price': 29.5, 'sale_price': <NA>, 'website': 'medpets', 'product_link': 'https://www.medpets.nl/advantix?_gl=1*1lmpgk1*_up*MQ..*_gs*MQ..&gclid=CjwKCAiAiOa9BhBqEiwABCdG8-2fKK3ApA5WYYqLZAuUvyEH0GA_EdFRpF5nAf_VGcNhmObqnOuo2BoCVecQAvD_BwE', 'pet': <NA>, 'delivery_info': <NA>, 'available': <NA>, 'category': <NA>, 'page_number': <NA>, 'product_number': <NA>, 'category_link': <NA>, 'error': <NA>}\n",
      "Product 7: {'title': 'Advantix', 'brand': 'Advantix 100/500', 'size': '4 tot 10 kg', 'quantity': '6 pipetten', 'price': 32.5, 'sale_price': <NA>, 'website': 'medpets', 'product_link': 'https://www.medpets.nl/advantix?_gl=1*1lmpgk1*_up*MQ..*_gs*MQ..&gclid=CjwKCAiAiOa9BhBqEiwABCdG8-2fKK3ApA5WYYqLZAuUvyEH0GA_EdFRpF5nAf_VGcNhmObqnOuo2BoCVecQAvD_BwE', 'pet': <NA>, 'delivery_info': <NA>, 'available': <NA>, 'category': <NA>, 'page_number': <NA>, 'product_number': <NA>, 'category_link': <NA>, 'error': <NA>}\n",
      "Product 8: {'title': 'Advantix', 'brand': 'Advantix 40/200', 'size': '1,5 tot 4 kg', 'quantity': '6 pipetten', 'price': 32.5, 'sale_price': <NA>, 'website': 'medpets', 'product_link': 'https://www.medpets.nl/advantix?_gl=1*1lmpgk1*_up*MQ..*_gs*MQ..&gclid=CjwKCAiAiOa9BhBqEiwABCdG8-2fKK3ApA5WYYqLZAuUvyEH0GA_EdFRpF5nAf_VGcNhmObqnOuo2BoCVecQAvD_BwE', 'pet': <NA>, 'delivery_info': <NA>, 'available': <NA>, 'category': <NA>, 'page_number': <NA>, 'product_number': <NA>, 'category_link': <NA>, 'error': <NA>}\n",
      "Product 9: {'title': 'Advantix', 'brand': 'Advantix 250/1250', 'size': '10 tot 25 kg', 'quantity': '6 pipetten', 'price': 35.95, 'sale_price': <NA>, 'website': 'medpets', 'product_link': 'https://www.medpets.nl/advantix?_gl=1*1lmpgk1*_up*MQ..*_gs*MQ..&gclid=CjwKCAiAiOa9BhBqEiwABCdG8-2fKK3ApA5WYYqLZAuUvyEH0GA_EdFRpF5nAf_VGcNhmObqnOuo2BoCVecQAvD_BwE', 'pet': <NA>, 'delivery_info': <NA>, 'available': <NA>, 'category': <NA>, 'page_number': <NA>, 'product_number': <NA>, 'category_link': <NA>, 'error': <NA>}\n",
      "Product 10: {'title': 'Advantix', 'brand': 'Advantix 400/2000', 'size': '25 tot 40 kg', 'quantity': '6 pipetten', 'price': 41.55, 'sale_price': <NA>, 'website': 'medpets', 'product_link': 'https://www.medpets.nl/advantix?_gl=1*1lmpgk1*_up*MQ..*_gs*MQ..&gclid=CjwKCAiAiOa9BhBqEiwABCdG8-2fKK3ApA5WYYqLZAuUvyEH0GA_EdFRpF5nAf_VGcNhmObqnOuo2BoCVecQAvD_BwE', 'pet': <NA>, 'delivery_info': <NA>, 'available': <NA>, 'category': <NA>, 'page_number': <NA>, 'product_number': <NA>, 'category_link': <NA>, 'error': <NA>}\n",
      "Returning product scraped result\n",
      "\n",
      "Going to scrape product: https://www.medpets.nl/seresto-hond?_gl=1*111x5y2*_up*MQ..*_gs*MQ..&gclid=CjwKCAiAiOa9BhBqEiwABCdG8-2fKK3ApA5WYYqLZAuUvyEH0GA_EdFRpF5nAf_VGcNhmObqnOuo2BoCVecQAvD_BwE...\n",
      "Waiting for page to load...\n",
      "Page has fully loaded.\n"
     ]
    },
    {
     "name": "stderr",
     "output_type": "stream",
     "text": [
      "INFO:root:Scraping: https://www.petmarkt.nl/milbemax-grote-hond-2-tabletten\n"
     ]
    },
    {
     "name": "stdout",
     "output_type": "stream",
     "text": [
      "Waiting 3.56 seconds...\n",
      "Info Retrieved:\n",
      "Product 1: {'title': 'Seresto Hond', 'brand': 'Seresto hond < 8kg', 'quantity': '38 cm', 'price': 33.95, 'sale_price': <NA>, 'website': 'medpets', 'product_link': 'https://www.medpets.nl/seresto-hond?_gl=1*111x5y2*_up*MQ..*_gs*MQ..&gclid=CjwKCAiAiOa9BhBqEiwABCdG8-2fKK3ApA5WYYqLZAuUvyEH0GA_EdFRpF5nAf_VGcNhmObqnOuo2BoCVecQAvD_BwE', 'pet': <NA>, 'size': <NA>, 'delivery_info': <NA>, 'available': <NA>, 'category': <NA>, 'page_number': <NA>, 'product_number': <NA>, 'category_link': <NA>, 'error': <NA>}\n",
      "Product 2: {'title': 'Seresto Hond', 'brand': 'Seresto hond > 8kg', 'quantity': '70 cm', 'price': 38.95, 'sale_price': <NA>, 'website': 'medpets', 'product_link': 'https://www.medpets.nl/seresto-hond?_gl=1*111x5y2*_up*MQ..*_gs*MQ..&gclid=CjwKCAiAiOa9BhBqEiwABCdG8-2fKK3ApA5WYYqLZAuUvyEH0GA_EdFRpF5nAf_VGcNhmObqnOuo2BoCVecQAvD_BwE', 'pet': <NA>, 'size': <NA>, 'delivery_info': <NA>, 'available': <NA>, 'category': <NA>, 'page_number': <NA>, 'product_number': <NA>, 'category_link': <NA>, 'error': <NA>}\n",
      "Product 3: {'title': 'Seresto Hond', 'brand': 'Seresto hond < 8kg', 'quantity': '38 cm- 2-Pack', 'price': 61.65, 'sale_price': <NA>, 'website': 'medpets', 'product_link': 'https://www.medpets.nl/seresto-hond?_gl=1*111x5y2*_up*MQ..*_gs*MQ..&gclid=CjwKCAiAiOa9BhBqEiwABCdG8-2fKK3ApA5WYYqLZAuUvyEH0GA_EdFRpF5nAf_VGcNhmObqnOuo2BoCVecQAvD_BwE', 'pet': <NA>, 'size': <NA>, 'delivery_info': <NA>, 'available': <NA>, 'category': <NA>, 'page_number': <NA>, 'product_number': <NA>, 'category_link': <NA>, 'error': <NA>}\n",
      "Product 4: {'title': 'Seresto Hond', 'brand': 'Seresto hond > 8kg', 'size': '70 cm', 'quantity': '2-Pack', 'price': 72.95, 'sale_price': <NA>, 'website': 'medpets', 'product_link': 'https://www.medpets.nl/seresto-hond?_gl=1*111x5y2*_up*MQ..*_gs*MQ..&gclid=CjwKCAiAiOa9BhBqEiwABCdG8-2fKK3ApA5WYYqLZAuUvyEH0GA_EdFRpF5nAf_VGcNhmObqnOuo2BoCVecQAvD_BwE', 'pet': <NA>, 'delivery_info': <NA>, 'available': <NA>, 'category': <NA>, 'page_number': <NA>, 'product_number': <NA>, 'category_link': <NA>, 'error': <NA>}\n",
      "\n",
      "\n",
      "SCRAPING WEBSITE: petmarkt WITH SCRAPING TYPE: product\n",
      "Returning product scraped result\n",
      "\n",
      "Going to scrape product: https://www.petmarkt.nl/milbemax-grote-hond-2-tabletten...\n",
      "Waiting for page to load...\n",
      "Page has fully loaded.\n",
      "Waiting 3.66 seconds...\n"
     ]
    },
    {
     "name": "stderr",
     "output_type": "stream",
     "text": [
      "INFO:root:Scraping: https://www.petmarkt.nl/milbemax-grote-hond-4-tabletten\n"
     ]
    },
    {
     "name": "stdout",
     "output_type": "stream",
     "text": [
      "Info Retrieved:\n",
      "Product 1: {'title': 'Milbemax Grote Hond - 2 tabletten', 'brand': 'Milbemax', 'price': '10.82', 'size': '5 - 25 kg', 'quantity': '2 tabletten', 'delivery_info': 'Gratis verzending vanaf € 49', 'available': True, 'website': 'petmarkt', 'product_link': 'https://www.petmarkt.nl/milbemax-grote-hond-2-tabletten', 'pet': <NA>, 'sale_price': <NA>, 'category': <NA>, 'page_number': <NA>, 'product_number': <NA>, 'category_link': <NA>, 'error': <NA>}\n",
      "Returning product scraped result\n",
      "\n",
      "Going to scrape product: https://www.petmarkt.nl/milbemax-grote-hond-4-tabletten...\n",
      "Waiting for page to load...\n",
      "Page has fully loaded.\n",
      "Waiting 2.39 seconds...\n"
     ]
    },
    {
     "name": "stderr",
     "output_type": "stream",
     "text": [
      "INFO:root:Scraping: https://www.petmarkt.nl/milbemax-kleine-hond-2-tabletten\n"
     ]
    },
    {
     "name": "stdout",
     "output_type": "stream",
     "text": [
      "Info Retrieved:\n",
      "Product 1: {'title': 'Milbemax Grote Hond - 4 tabletten', 'brand': 'Milbemax', 'price': '21.64', 'size': '5 - 25 kg', 'quantity': '4 tabletten', 'delivery_info': 'Gratis verzending vanaf € 49', 'available': True, 'website': 'petmarkt', 'product_link': 'https://www.petmarkt.nl/milbemax-grote-hond-4-tabletten', 'pet': <NA>, 'sale_price': <NA>, 'category': <NA>, 'page_number': <NA>, 'product_number': <NA>, 'category_link': <NA>, 'error': <NA>}\n",
      "Returning product scraped result\n",
      "\n",
      "Going to scrape product: https://www.petmarkt.nl/milbemax-kleine-hond-2-tabletten...\n",
      "Waiting for page to load...\n",
      "Page has fully loaded.\n",
      "Waiting 3.46 seconds...\n"
     ]
    },
    {
     "name": "stderr",
     "output_type": "stream",
     "text": [
      "INFO:root:Scraping: https://www.petmarkt.nl/milbemax-kleine-hond-4-tabletten\n"
     ]
    },
    {
     "name": "stdout",
     "output_type": "stream",
     "text": [
      "Info Retrieved:\n",
      "Product 1: {'title': 'Milbemax Kleine Hond - 2 tabletten', 'brand': 'Milbemax', 'price': '4.43', 'size': '0 - 5 kg', 'quantity': '2 tabletten', 'delivery_info': 'Gratis verzending vanaf € 49', 'available': True, 'website': 'petmarkt', 'product_link': 'https://www.petmarkt.nl/milbemax-kleine-hond-2-tabletten', 'pet': <NA>, 'sale_price': <NA>, 'category': <NA>, 'page_number': <NA>, 'product_number': <NA>, 'category_link': <NA>, 'error': <NA>}\n",
      "Returning product scraped result\n",
      "\n",
      "Going to scrape product: https://www.petmarkt.nl/milbemax-kleine-hond-4-tabletten...\n",
      "Waiting for page to load...\n",
      "Page has fully loaded.\n",
      "Waiting 2.11 seconds...\n"
     ]
    },
    {
     "name": "stderr",
     "output_type": "stream",
     "text": [
      "INFO:root:Scraping: https://www.petmarkt.nl/milbemax-kauwtablet-grote-hond\n"
     ]
    },
    {
     "name": "stdout",
     "output_type": "stream",
     "text": [
      "Info Retrieved:\n",
      "Product 1: {'title': 'Milbemax Kleine Hond - 4 tabletten', 'brand': 'Milbemax', 'price': '8.38', 'size': '0 - 5 kg', 'quantity': '4 tabletten', 'delivery_info': 'Gratis verzending vanaf € 49', 'available': True, 'website': 'petmarkt', 'product_link': 'https://www.petmarkt.nl/milbemax-kleine-hond-4-tabletten', 'pet': <NA>, 'sale_price': <NA>, 'category': <NA>, 'page_number': <NA>, 'product_number': <NA>, 'category_link': <NA>, 'error': <NA>}\n",
      "Returning product scraped result\n",
      "\n",
      "Going to scrape product: https://www.petmarkt.nl/milbemax-kauwtablet-grote-hond...\n",
      "Waiting for page to load...\n",
      "Page has fully loaded.\n",
      "Waiting 2.78 seconds...\n"
     ]
    },
    {
     "name": "stderr",
     "output_type": "stream",
     "text": [
      "INFO:root:Scraping: https://www.petmarkt.nl/milbemax-kauwtablet-kleine-hond\n"
     ]
    },
    {
     "name": "stdout",
     "output_type": "stream",
     "text": [
      "Info Retrieved:\n",
      "Product 1: {'title': 'Milbemax Kauwtablet Grote Hond - 4 tabletten', 'brand': 'Milbemax', 'price': '23.24', 'size': '5 - 25 kg', 'quantity': <NA>, 'delivery_info': 'Gratis verzending vanaf € 49', 'available': True, 'website': 'petmarkt', 'product_link': 'https://www.petmarkt.nl/milbemax-kauwtablet-grote-hond', 'pet': <NA>, 'sale_price': <NA>, 'category': <NA>, 'page_number': <NA>, 'product_number': <NA>, 'category_link': <NA>, 'error': <NA>}\n",
      "Returning product scraped result\n",
      "\n",
      "Going to scrape product: https://www.petmarkt.nl/milbemax-kauwtablet-kleine-hond...\n",
      "Waiting for page to load...\n",
      "Page has fully loaded.\n",
      "Waiting 2.4 seconds...\n"
     ]
    },
    {
     "name": "stderr",
     "output_type": "stream",
     "text": [
      "INFO:root:Scraping: https://www.petmarkt.nl/panacur\n"
     ]
    },
    {
     "name": "stdout",
     "output_type": "stream",
     "text": [
      "Info Retrieved:\n",
      "Product 1: {'title': 'Milbemax Kauwtablet Kleine Hond - 4 tabletten', 'brand': 'Milbemax', 'price': '8.97', 'size': '0 - 5 kg', 'quantity': <NA>, 'delivery_info': 'Gratis verzending vanaf € 49', 'available': True, 'website': 'petmarkt', 'product_link': 'https://www.petmarkt.nl/milbemax-kauwtablet-kleine-hond', 'pet': <NA>, 'sale_price': <NA>, 'category': <NA>, 'page_number': <NA>, 'product_number': <NA>, 'category_link': <NA>, 'error': <NA>}\n",
      "Returning product scraped result\n",
      "\n",
      "Going to scrape product: https://www.petmarkt.nl/panacur...\n",
      "Waiting for page to load...\n",
      "Page has fully loaded.\n",
      "Waiting 2.54 seconds...\n"
     ]
    },
    {
     "name": "stderr",
     "output_type": "stream",
     "text": [
      "INFO:root:Scraping: https://www.petmarkt.nl/panacur-kh-500\n"
     ]
    },
    {
     "name": "stdout",
     "output_type": "stream",
     "text": [
      "Info Retrieved:\n",
      "Product 1: {'title': 'Panacur KH 250', 'brand': 'Panacur', 'price': '8.44', 'size': <NA>, 'quantity': '250 mg', 'delivery_info': 'Gratis verzending vanaf € 49', 'available': True, 'website': 'petmarkt', 'product_link': 'https://www.petmarkt.nl/panacur', 'pet': <NA>, 'sale_price': <NA>, 'category': <NA>, 'page_number': <NA>, 'product_number': <NA>, 'category_link': <NA>, 'error': <NA>}\n",
      "Returning product scraped result\n",
      "\n",
      "Going to scrape product: https://www.petmarkt.nl/panacur-kh-500...\n",
      "Waiting for page to load...\n",
      "Page has fully loaded.\n",
      "Waiting 2.45 seconds...\n"
     ]
    },
    {
     "name": "stderr",
     "output_type": "stream",
     "text": [
      "INFO:root:Scraping: https://www.petmarkt.nl/drontal-dog-tasty-0-tot-10-kg-1-x-2-tabletten-ontworming-hond\n"
     ]
    },
    {
     "name": "stdout",
     "output_type": "stream",
     "text": [
      "Info Retrieved:\n",
      "Product 1: {'title': 'Panacur KH 500', 'brand': 'Panacur', 'price': '12.86', 'size': <NA>, 'quantity': '500 mg', 'delivery_info': 'Gratis verzending vanaf € 49', 'available': True, 'website': 'petmarkt', 'product_link': 'https://www.petmarkt.nl/panacur-kh-500', 'pet': <NA>, 'sale_price': <NA>, 'category': <NA>, 'page_number': <NA>, 'product_number': <NA>, 'category_link': <NA>, 'error': <NA>}\n",
      "Returning product scraped result\n",
      "\n",
      "Going to scrape product: https://www.petmarkt.nl/drontal-dog-tasty-0-tot-10-kg-1-x-2-tabletten-ontworming-hond...\n",
      "Waiting for page to load...\n",
      "Page has fully loaded.\n",
      "Waiting 2.03 seconds...\n"
     ]
    },
    {
     "name": "stderr",
     "output_type": "stream",
     "text": [
      "INFO:root:Scraping: https://www.petmarkt.nl/drontal-large-dog-tasty-10-tot-35-kg-1-x-2-tabletten-ontworming-grote-hond\n"
     ]
    },
    {
     "name": "stdout",
     "output_type": "stream",
     "text": [
      "Info Retrieved:\n",
      "Product 1: {'title': 'Drontal Dog Tasty 0 tot 10 kg 1 x 2 tabletten (Ontworming Hond)', 'brand': 'Drontal', 'price': '10.52', 'size': '0 - 10 kg', 'quantity': <NA>, 'delivery_info': 'Gratis verzending vanaf € 49', 'available': True, 'website': 'petmarkt', 'product_link': 'https://www.petmarkt.nl/drontal-dog-tasty-0-tot-10-kg-1-x-2-tabletten-ontworming-hond', 'pet': <NA>, 'sale_price': <NA>, 'category': <NA>, 'page_number': <NA>, 'product_number': <NA>, 'category_link': <NA>, 'error': <NA>}\n",
      "Returning product scraped result\n",
      "\n",
      "Going to scrape product: https://www.petmarkt.nl/drontal-large-dog-tasty-10-tot-35-kg-1-x-2-tabletten-ontworming-grote-hond...\n",
      "Waiting for page to load...\n",
      "Page has fully loaded.\n",
      "Waiting 3.01 seconds...\n"
     ]
    },
    {
     "name": "stderr",
     "output_type": "stream",
     "text": [
      "INFO:root:Scraping: https://www.petmarkt.nl/advantix-hond-0-4kg-6pipetten\n"
     ]
    },
    {
     "name": "stdout",
     "output_type": "stream",
     "text": [
      "Info Retrieved:\n",
      "Product 1: {'title': 'Drontal Large Dog Tasty 10 tot 35 Kg 1 x 2 Tabletten (Ontworming Grote Hond)', 'brand': 'Drontal', 'price': '25.62', 'size': '10 - 35 kg', 'quantity': <NA>, 'delivery_info': 'Gratis verzending vanaf € 49', 'available': True, 'website': 'petmarkt', 'product_link': 'https://www.petmarkt.nl/drontal-large-dog-tasty-10-tot-35-kg-1-x-2-tabletten-ontworming-grote-hond', 'pet': <NA>, 'sale_price': <NA>, 'category': <NA>, 'page_number': <NA>, 'product_number': <NA>, 'category_link': <NA>, 'error': <NA>}\n",
      "Returning product scraped result\n",
      "\n",
      "Going to scrape product: https://www.petmarkt.nl/advantix-hond-0-4kg-6pipetten...\n",
      "Waiting for page to load...\n",
      "Page has fully loaded.\n",
      "Waiting 3.13 seconds...\n"
     ]
    },
    {
     "name": "stderr",
     "output_type": "stream",
     "text": [
      "INFO:root:Scraping: https://www.petmarkt.nl/advantix-hond-0-4kg-4pipetten\n"
     ]
    },
    {
     "name": "stdout",
     "output_type": "stream",
     "text": [
      "Info Retrieved:\n",
      "Product 1: {'title': 'Advantix Hond - 0-4 kg - 6pipetten', 'brand': 'Advantix', 'price': '31.42', 'size': '0 - 4 kg', 'quantity': '6 pipetten', 'delivery_info': 'Gratis verzending vanaf € 49', 'available': True, 'website': 'petmarkt', 'product_link': 'https://www.petmarkt.nl/advantix-hond-0-4kg-6pipetten', 'pet': <NA>, 'sale_price': <NA>, 'category': <NA>, 'page_number': <NA>, 'product_number': <NA>, 'category_link': <NA>, 'error': <NA>}\n",
      "Returning product scraped result\n",
      "\n",
      "Going to scrape product: https://www.petmarkt.nl/advantix-hond-0-4kg-4pipetten...\n",
      "Waiting for page to load...\n",
      "Page has fully loaded.\n",
      "Waiting 2.55 seconds...\n"
     ]
    },
    {
     "name": "stderr",
     "output_type": "stream",
     "text": [
      "INFO:root:Scraping: https://www.petmarkt.nl/advantix-hond-4-10kg-6pipetten\n"
     ]
    },
    {
     "name": "stdout",
     "output_type": "stream",
     "text": [
      "Info Retrieved:\n",
      "Product 1: {'title': 'Advantix Hond - 0-4 kg - 4 pipetten', 'brand': 'Advantix', 'price': '23.25', 'size': '0 - 4 kg', 'quantity': '4 pipetten', 'delivery_info': 'Gratis verzending vanaf € 49', 'available': True, 'website': 'petmarkt', 'product_link': 'https://www.petmarkt.nl/advantix-hond-0-4kg-4pipetten', 'pet': <NA>, 'sale_price': <NA>, 'category': <NA>, 'page_number': <NA>, 'product_number': <NA>, 'category_link': <NA>, 'error': <NA>}\n",
      "Returning product scraped result\n",
      "\n",
      "Going to scrape product: https://www.petmarkt.nl/advantix-hond-4-10kg-6pipetten...\n",
      "Waiting for page to load...\n",
      "Page has fully loaded.\n",
      "Waiting 2.51 seconds...\n"
     ]
    },
    {
     "name": "stderr",
     "output_type": "stream",
     "text": [
      "INFO:root:Scraping: https://www.petmarkt.nl/advantix-hond-4-10kg-4pipetten\n"
     ]
    },
    {
     "name": "stdout",
     "output_type": "stream",
     "text": [
      "Info Retrieved:\n",
      "Product 1: {'title': 'Advantix Hond - 4-10kg - 6 pipetten', 'brand': 'Advantix', 'price': '32.70', 'size': '4 - 10 kg', 'quantity': '6 pipetten', 'delivery_info': 'Gratis verzending vanaf € 49', 'available': False, 'website': 'petmarkt', 'product_link': 'https://www.petmarkt.nl/advantix-hond-4-10kg-6pipetten', 'pet': <NA>, 'sale_price': <NA>, 'category': <NA>, 'page_number': <NA>, 'product_number': <NA>, 'category_link': <NA>, 'error': <NA>}\n",
      "Returning product scraped result\n",
      "\n",
      "Going to scrape product: https://www.petmarkt.nl/advantix-hond-4-10kg-4pipetten...\n",
      "Waiting for page to load...\n",
      "Page has fully loaded.\n",
      "Waiting 2.19 seconds...\n"
     ]
    },
    {
     "name": "stderr",
     "output_type": "stream",
     "text": [
      "INFO:root:Scraping: https://www.petmarkt.nl/advantix-hond-10-25kg-6pipetten\n"
     ]
    },
    {
     "name": "stdout",
     "output_type": "stream",
     "text": [
      "Info Retrieved:\n",
      "Product 1: {'title': 'Advantix Hond - 4-10kg - 4 pipetten', 'brand': 'Advantix', 'price': '24.22', 'size': '4 - 10 kg', 'quantity': '4 pipetten', 'delivery_info': 'Gratis verzending vanaf € 49', 'available': True, 'website': 'petmarkt', 'product_link': 'https://www.petmarkt.nl/advantix-hond-4-10kg-4pipetten', 'pet': <NA>, 'sale_price': <NA>, 'category': <NA>, 'page_number': <NA>, 'product_number': <NA>, 'category_link': <NA>, 'error': <NA>}\n",
      "Returning product scraped result\n",
      "\n",
      "Going to scrape product: https://www.petmarkt.nl/advantix-hond-10-25kg-6pipetten...\n",
      "Waiting for page to load...\n",
      "Page has fully loaded.\n",
      "Waiting 3.77 seconds...\n"
     ]
    },
    {
     "name": "stderr",
     "output_type": "stream",
     "text": [
      "INFO:root:Scraping: https://www.petmarkt.nl/advantix-hond-10-25kg-4pipetten\n"
     ]
    },
    {
     "name": "stdout",
     "output_type": "stream",
     "text": [
      "Info Retrieved:\n",
      "Product 1: {'title': 'Advantix Hond - 10-25kg - 6 pipetten', 'brand': 'Advantix', 'price': '35.25', 'size': '10 - 25 kg', 'quantity': '6 pipetten', 'delivery_info': 'Gratis verzending vanaf € 49', 'available': True, 'website': 'petmarkt', 'product_link': 'https://www.petmarkt.nl/advantix-hond-10-25kg-6pipetten', 'pet': <NA>, 'sale_price': <NA>, 'category': <NA>, 'page_number': <NA>, 'product_number': <NA>, 'category_link': <NA>, 'error': <NA>}\n",
      "Returning product scraped result\n",
      "\n",
      "Going to scrape product: https://www.petmarkt.nl/advantix-hond-10-25kg-4pipetten...\n",
      "Waiting for page to load...\n",
      "Page has fully loaded.\n",
      "Waiting 3.23 seconds...\n"
     ]
    },
    {
     "name": "stderr",
     "output_type": "stream",
     "text": [
      "INFO:root:Scraping: https://www.petmarkt.nl/advantix-hond-25-40kg-6pipetten\n"
     ]
    },
    {
     "name": "stdout",
     "output_type": "stream",
     "text": [
      "Info Retrieved:\n",
      "Product 1: {'title': 'Advantix Hond - 10-25kg - 4 pipetten', 'brand': 'Advantix', 'price': '26.01', 'size': '10 - 25 kg', 'quantity': '4 pipetten', 'delivery_info': 'Gratis verzending vanaf € 49', 'available': True, 'website': 'petmarkt', 'product_link': 'https://www.petmarkt.nl/advantix-hond-10-25kg-4pipetten', 'pet': <NA>, 'sale_price': <NA>, 'category': <NA>, 'page_number': <NA>, 'product_number': <NA>, 'category_link': <NA>, 'error': <NA>}\n",
      "Returning product scraped result\n",
      "\n",
      "Going to scrape product: https://www.petmarkt.nl/advantix-hond-25-40kg-6pipetten...\n",
      "Waiting for page to load...\n",
      "Page has fully loaded.\n",
      "Waiting 3.01 seconds...\n"
     ]
    },
    {
     "name": "stderr",
     "output_type": "stream",
     "text": [
      "INFO:root:Scraping: https://www.petmarkt.nl/advantix-hond-25-40kg-4pipetten\n"
     ]
    },
    {
     "name": "stdout",
     "output_type": "stream",
     "text": [
      "Info Retrieved:\n",
      "Product 1: {'title': 'Advantix Hond - 25-40kg - 6 pipetten', 'brand': 'Advantix', 'price': '41.44', 'size': '25 - 40 kg', 'quantity': '6 pipetten', 'delivery_info': 'Gratis verzending vanaf € 49', 'available': True, 'website': 'petmarkt', 'product_link': 'https://www.petmarkt.nl/advantix-hond-25-40kg-6pipetten', 'pet': <NA>, 'sale_price': <NA>, 'category': <NA>, 'page_number': <NA>, 'product_number': <NA>, 'category_link': <NA>, 'error': <NA>}\n",
      "Returning product scraped result\n",
      "\n",
      "Going to scrape product: https://www.petmarkt.nl/advantix-hond-25-40kg-4pipetten...\n",
      "Waiting for page to load...\n",
      "Page has fully loaded.\n",
      "Waiting 3.56 seconds...\n"
     ]
    },
    {
     "name": "stderr",
     "output_type": "stream",
     "text": [
      "INFO:root:Scraping: https://www.petmarkt.nl/advantix-spot-on-hond-40-tot-60-kg-6-pipetten\n"
     ]
    },
    {
     "name": "stdout",
     "output_type": "stream",
     "text": [
      "Info Retrieved:\n",
      "Product 1: {'title': 'Advantix Hond - 25-40kg - 4 pipetten', 'brand': 'Advantix', 'price': '30.66', 'size': '25 - 40 kg', 'quantity': '4 pipetten', 'delivery_info': 'Gratis verzending vanaf € 49', 'available': True, 'website': 'petmarkt', 'product_link': 'https://www.petmarkt.nl/advantix-hond-25-40kg-4pipetten', 'pet': <NA>, 'sale_price': <NA>, 'category': <NA>, 'page_number': <NA>, 'product_number': <NA>, 'category_link': <NA>, 'error': <NA>}\n",
      "Returning product scraped result\n",
      "\n",
      "Going to scrape product: https://www.petmarkt.nl/advantix-spot-on-hond-40-tot-60-kg-6-pipetten...\n",
      "Waiting for page to load...\n",
      "Page has fully loaded.\n",
      "Waiting 2.95 seconds...\n"
     ]
    },
    {
     "name": "stderr",
     "output_type": "stream",
     "text": [
      "INFO:root:Scraping: https://www.petmarkt.nl/advantix-hond-40-60kg-4pipetten\n"
     ]
    },
    {
     "name": "stdout",
     "output_type": "stream",
     "text": [
      "Info Retrieved:\n",
      "Product 1: {'title': 'Advantix Hond - 40-60kg - 6 pipetten', 'brand': 'Advantix', 'price': '44.40', 'size': '40 - 60 kg', 'quantity': '6 pipetten', 'delivery_info': 'Gratis verzending vanaf € 49', 'available': True, 'website': 'petmarkt', 'product_link': 'https://www.petmarkt.nl/advantix-spot-on-hond-40-tot-60-kg-6-pipetten', 'pet': <NA>, 'sale_price': <NA>, 'category': <NA>, 'page_number': <NA>, 'product_number': <NA>, 'category_link': <NA>, 'error': <NA>}\n",
      "Returning product scraped result\n",
      "\n",
      "Going to scrape product: https://www.petmarkt.nl/advantix-hond-40-60kg-4pipetten...\n",
      "Waiting for page to load...\n",
      "Page has fully loaded.\n",
      "Waiting 3.47 seconds...\n"
     ]
    },
    {
     "name": "stderr",
     "output_type": "stream",
     "text": [
      "INFO:root:Scraping: https://www.petmarkt.nl/seresto-vlooienband-hond\n"
     ]
    },
    {
     "name": "stdout",
     "output_type": "stream",
     "text": [
      "Info Retrieved:\n",
      "Product 1: {'title': 'Advantix Hond - 40-60kg - 4 pipetten', 'brand': 'Advantix', 'price': '32.91', 'size': '40 - 60 kg', 'quantity': '4 pipetten', 'delivery_info': 'Gratis verzending vanaf € 49', 'available': True, 'website': 'petmarkt', 'product_link': 'https://www.petmarkt.nl/advantix-hond-40-60kg-4pipetten', 'pet': <NA>, 'sale_price': <NA>, 'category': <NA>, 'page_number': <NA>, 'product_number': <NA>, 'category_link': <NA>, 'error': <NA>}\n",
      "Returning product scraped result\n",
      "\n",
      "Going to scrape product: https://www.petmarkt.nl/seresto-vlooienband-hond...\n",
      "Waiting for page to load...\n",
      "Page has fully loaded.\n",
      "Waiting 3.48 seconds...\n"
     ]
    },
    {
     "name": "stderr",
     "output_type": "stream",
     "text": [
      "INFO:root:Scraping: https://www.petmarkt.nl/seresto-vlooienband-hond-klein-duo-pack\n"
     ]
    },
    {
     "name": "stdout",
     "output_type": "stream",
     "text": [
      "Info Retrieved:\n",
      "Product 1: {'title': 'Seresto Vlooienband Hond Klein', 'brand': 'Seresto', 'price': '31.94', 'size': '0 - 8 kg', 'quantity': <NA>, 'delivery_info': 'Gratis verzending vanaf € 49', 'available': True, 'website': 'petmarkt', 'product_link': 'https://www.petmarkt.nl/seresto-vlooienband-hond', 'pet': <NA>, 'sale_price': <NA>, 'category': <NA>, 'page_number': <NA>, 'product_number': <NA>, 'category_link': <NA>, 'error': <NA>}\n",
      "Returning product scraped result\n",
      "\n",
      "Going to scrape product: https://www.petmarkt.nl/seresto-vlooienband-hond-klein-duo-pack...\n",
      "Waiting for page to load...\n",
      "Page has fully loaded.\n",
      "Waiting 2.95 seconds...\n"
     ]
    },
    {
     "name": "stderr",
     "output_type": "stream",
     "text": [
      "INFO:root:Scraping: https://www.petmarkt.nl/seresto-vlooienband-hond-groot\n"
     ]
    },
    {
     "name": "stdout",
     "output_type": "stream",
     "text": [
      "Info Retrieved:\n",
      "Product 1: {'title': 'Seresto Vlooienband Hond Klein DUO-pack', 'brand': 'Seresto', 'price': '59.99', 'size': '0 - 8 kg DUO-pack', 'quantity': <NA>, 'delivery_info': 'Gratis verzending vanaf € 49', 'available': True, 'website': 'petmarkt', 'product_link': 'https://www.petmarkt.nl/seresto-vlooienband-hond-klein-duo-pack', 'pet': <NA>, 'sale_price': <NA>, 'category': <NA>, 'page_number': <NA>, 'product_number': <NA>, 'category_link': <NA>, 'error': <NA>}\n",
      "Returning product scraped result\n",
      "\n",
      "Going to scrape product: https://www.petmarkt.nl/seresto-vlooienband-hond-groot...\n",
      "Waiting for page to load...\n",
      "Page has fully loaded.\n",
      "Waiting 3.73 seconds...\n"
     ]
    },
    {
     "name": "stderr",
     "output_type": "stream",
     "text": [
      "INFO:root:Scraping: https://www.petmarkt.nl/seresto-vlooienband-hond-groot-duo-pack\n"
     ]
    },
    {
     "name": "stdout",
     "output_type": "stream",
     "text": [
      "Info Retrieved:\n",
      "Product 1: {'title': 'Seresto Vlooienband Hond Groot', 'brand': 'Seresto', 'price': '35.48', 'size': '8 kg - en meer', 'quantity': <NA>, 'delivery_info': 'Gratis verzending vanaf € 49', 'available': True, 'website': 'petmarkt', 'product_link': 'https://www.petmarkt.nl/seresto-vlooienband-hond-groot', 'pet': <NA>, 'sale_price': <NA>, 'category': <NA>, 'page_number': <NA>, 'product_number': <NA>, 'category_link': <NA>, 'error': <NA>}\n",
      "Returning product scraped result\n",
      "\n",
      "Going to scrape product: https://www.petmarkt.nl/seresto-vlooienband-hond-groot-duo-pack...\n",
      "Waiting for page to load...\n",
      "Page has fully loaded.\n",
      "Waiting 3.28 seconds...\n",
      "Info Retrieved:\n",
      "Product 1: {'title': 'Seresto Vlooienband Hond Groot DUO-pack', 'brand': 'Seresto', 'price': '68.33', 'size': '8 kg - en meer DUO-pack', 'quantity': <NA>, 'delivery_info': 'Gratis verzending vanaf € 49', 'available': True, 'website': 'petmarkt', 'product_link': 'https://www.petmarkt.nl/seresto-vlooienband-hond-groot-duo-pack', 'pet': <NA>, 'sale_price': <NA>, 'category': <NA>, 'page_number': <NA>, 'product_number': <NA>, 'category_link': <NA>, 'error': <NA>}\n",
      "\n",
      "Saving full result file...\n",
      "Full results saved to C:/Users/derkv/OneDrive/Documenten/Brightminds/Webscraper/scraped_data/scraped_results_full_result_23_04_2025\n"
     ]
    }
   ],
   "source": [
    "result_df = scraper.run_webscraper(website_type_dict=website_scrape_types,\n",
    "                                   max_pages=10,\n",
    "                                   skip_scraped_products=False,\n",
    "                                   skip_scraped_categories=False)"
   ]
  },
  {
   "cell_type": "code",
   "execution_count": null,
   "metadata": {},
   "outputs": [],
   "source": []
  },
  {
   "cell_type": "code",
   "execution_count": 7,
   "metadata": {},
   "outputs": [
    {
     "data": {
      "text/html": [
       "<div>\n",
       "<style scoped>\n",
       "    .dataframe tbody tr th:only-of-type {\n",
       "        vertical-align: middle;\n",
       "    }\n",
       "\n",
       "    .dataframe tbody tr th {\n",
       "        vertical-align: top;\n",
       "    }\n",
       "\n",
       "    .dataframe thead th {\n",
       "        text-align: right;\n",
       "    }\n",
       "</style>\n",
       "<table border=\"1\" class=\"dataframe\">\n",
       "  <thead>\n",
       "    <tr style=\"text-align: right;\">\n",
       "      <th></th>\n",
       "      <th>title</th>\n",
       "      <th>pet</th>\n",
       "      <th>brand</th>\n",
       "      <th>size</th>\n",
       "      <th>quantity</th>\n",
       "      <th>price</th>\n",
       "      <th>sale_price</th>\n",
       "      <th>delivery_info</th>\n",
       "      <th>available</th>\n",
       "      <th>website</th>\n",
       "      <th>category</th>\n",
       "      <th>page_number</th>\n",
       "      <th>product_number</th>\n",
       "      <th>product_link</th>\n",
       "      <th>category_link</th>\n",
       "      <th>error</th>\n",
       "    </tr>\n",
       "  </thead>\n",
       "  <tbody>\n",
       "    <tr>\n",
       "      <th>0</th>\n",
       "      <td>Milbemax Grote Kat Ontwormingstabletten</td>\n",
       "      <td>&lt;NA&gt;</td>\n",
       "      <td>MILBEMAX</td>\n",
       "      <td>&lt;NA&gt;</td>\n",
       "      <td>2 tabletten</td>\n",
       "      <td>{'1': '8,95', '2 ': '8,70', ' 3 ': '8,50'}</td>\n",
       "      <td>&lt;NA&gt;</td>\n",
       "      <td>Gratis verzending vanaf €59</td>\n",
       "      <td>&lt;NA&gt;</td>\n",
       "      <td>dierapotheker</td>\n",
       "      <td>&lt;NA&gt;</td>\n",
       "      <td>&lt;NA&gt;</td>\n",
       "      <td>&lt;NA&gt;</td>\n",
       "      <td>https://www.dierapotheker.nl/milbemax-grote-ka...</td>\n",
       "      <td>&lt;NA&gt;</td>\n",
       "      <td>&lt;NA&gt;</td>\n",
       "    </tr>\n",
       "    <tr>\n",
       "      <th>1</th>\n",
       "      <td>Milbemax Grote Kat Ontwormingstabletten</td>\n",
       "      <td>&lt;NA&gt;</td>\n",
       "      <td>MILBEMAX</td>\n",
       "      <td>&lt;NA&gt;</td>\n",
       "      <td>4 tabletten</td>\n",
       "      <td>{'1': '15,95', '2 ': '15,45', ' 3 ': '15,15'}</td>\n",
       "      <td>&lt;NA&gt;</td>\n",
       "      <td>Gratis verzending vanaf €59</td>\n",
       "      <td>&lt;NA&gt;</td>\n",
       "      <td>dierapotheker</td>\n",
       "      <td>&lt;NA&gt;</td>\n",
       "      <td>&lt;NA&gt;</td>\n",
       "      <td>&lt;NA&gt;</td>\n",
       "      <td>https://www.dierapotheker.nl/milbemax-grote-ka...</td>\n",
       "      <td>&lt;NA&gt;</td>\n",
       "      <td>&lt;NA&gt;</td>\n",
       "    </tr>\n",
       "    <tr>\n",
       "      <th>2</th>\n",
       "      <td>Milbemax Grote Kat Ontwormingstabletten</td>\n",
       "      <td>&lt;NA&gt;</td>\n",
       "      <td>MILBEMAX</td>\n",
       "      <td>&lt;NA&gt;</td>\n",
       "      <td>20 tabletten</td>\n",
       "      <td>{'1': '79,95', '2 ': '77,55', ' 3 ': '75,95'}</td>\n",
       "      <td>&lt;NA&gt;</td>\n",
       "      <td>Gratis verzending vanaf €59</td>\n",
       "      <td>&lt;NA&gt;</td>\n",
       "      <td>dierapotheker</td>\n",
       "      <td>&lt;NA&gt;</td>\n",
       "      <td>&lt;NA&gt;</td>\n",
       "      <td>&lt;NA&gt;</td>\n",
       "      <td>https://www.dierapotheker.nl/milbemax-grote-ka...</td>\n",
       "      <td>&lt;NA&gt;</td>\n",
       "      <td>&lt;NA&gt;</td>\n",
       "    </tr>\n",
       "    <tr>\n",
       "      <th>3</th>\n",
       "      <td>Milbemax Kleine Kat Ontwormingstabletten</td>\n",
       "      <td>&lt;NA&gt;</td>\n",
       "      <td>MILBEMAX</td>\n",
       "      <td>&lt;NA&gt;</td>\n",
       "      <td>2 tabletten</td>\n",
       "      <td>{'1': '5,55', '2 ': '5,40', ' 3 ': '5,25'}</td>\n",
       "      <td>&lt;NA&gt;</td>\n",
       "      <td>Gratis verzending vanaf €59</td>\n",
       "      <td>&lt;NA&gt;</td>\n",
       "      <td>dierapotheker</td>\n",
       "      <td>&lt;NA&gt;</td>\n",
       "      <td>&lt;NA&gt;</td>\n",
       "      <td>&lt;NA&gt;</td>\n",
       "      <td>https://www.dierapotheker.nl/milbemax-kleine-k...</td>\n",
       "      <td>&lt;NA&gt;</td>\n",
       "      <td>&lt;NA&gt;</td>\n",
       "    </tr>\n",
       "    <tr>\n",
       "      <th>4</th>\n",
       "      <td>Milbemax Kleine Kat Ontwormingstabletten</td>\n",
       "      <td>&lt;NA&gt;</td>\n",
       "      <td>MILBEMAX</td>\n",
       "      <td>&lt;NA&gt;</td>\n",
       "      <td>20 tabletten</td>\n",
       "      <td>{'1': '39,95', '2 ': '38,75', ' 3 ': '37,95'}</td>\n",
       "      <td>&lt;NA&gt;</td>\n",
       "      <td>Gratis verzending vanaf €59</td>\n",
       "      <td>&lt;NA&gt;</td>\n",
       "      <td>dierapotheker</td>\n",
       "      <td>&lt;NA&gt;</td>\n",
       "      <td>&lt;NA&gt;</td>\n",
       "      <td>&lt;NA&gt;</td>\n",
       "      <td>https://www.dierapotheker.nl/milbemax-kleine-k...</td>\n",
       "      <td>&lt;NA&gt;</td>\n",
       "      <td>&lt;NA&gt;</td>\n",
       "    </tr>\n",
       "  </tbody>\n",
       "</table>\n",
       "</div>"
      ],
      "text/plain": [
       "                                      title   pet     brand  size  \\\n",
       "0   Milbemax Grote Kat Ontwormingstabletten  <NA>  MILBEMAX  <NA>   \n",
       "1   Milbemax Grote Kat Ontwormingstabletten  <NA>  MILBEMAX  <NA>   \n",
       "2   Milbemax Grote Kat Ontwormingstabletten  <NA>  MILBEMAX  <NA>   \n",
       "3  Milbemax Kleine Kat Ontwormingstabletten  <NA>  MILBEMAX  <NA>   \n",
       "4  Milbemax Kleine Kat Ontwormingstabletten  <NA>  MILBEMAX  <NA>   \n",
       "\n",
       "       quantity                                          price sale_price  \\\n",
       "0   2 tabletten     {'1': '8,95', '2 ': '8,70', ' 3 ': '8,50'}       <NA>   \n",
       "1   4 tabletten  {'1': '15,95', '2 ': '15,45', ' 3 ': '15,15'}       <NA>   \n",
       "2  20 tabletten  {'1': '79,95', '2 ': '77,55', ' 3 ': '75,95'}       <NA>   \n",
       "3   2 tabletten     {'1': '5,55', '2 ': '5,40', ' 3 ': '5,25'}       <NA>   \n",
       "4  20 tabletten  {'1': '39,95', '2 ': '38,75', ' 3 ': '37,95'}       <NA>   \n",
       "\n",
       "                 delivery_info available        website category page_number  \\\n",
       "0  Gratis verzending vanaf €59      <NA>  dierapotheker     <NA>        <NA>   \n",
       "1  Gratis verzending vanaf €59      <NA>  dierapotheker     <NA>        <NA>   \n",
       "2  Gratis verzending vanaf €59      <NA>  dierapotheker     <NA>        <NA>   \n",
       "3  Gratis verzending vanaf €59      <NA>  dierapotheker     <NA>        <NA>   \n",
       "4  Gratis verzending vanaf €59      <NA>  dierapotheker     <NA>        <NA>   \n",
       "\n",
       "  product_number                                       product_link  \\\n",
       "0           <NA>  https://www.dierapotheker.nl/milbemax-grote-ka...   \n",
       "1           <NA>  https://www.dierapotheker.nl/milbemax-grote-ka...   \n",
       "2           <NA>  https://www.dierapotheker.nl/milbemax-grote-ka...   \n",
       "3           <NA>  https://www.dierapotheker.nl/milbemax-kleine-k...   \n",
       "4           <NA>  https://www.dierapotheker.nl/milbemax-kleine-k...   \n",
       "\n",
       "  category_link error  \n",
       "0          <NA>  <NA>  \n",
       "1          <NA>  <NA>  \n",
       "2          <NA>  <NA>  \n",
       "3          <NA>  <NA>  \n",
       "4          <NA>  <NA>  "
      ]
     },
     "execution_count": 7,
     "metadata": {},
     "output_type": "execute_result"
    }
   ],
   "source": [
    "result_df.head()"
   ]
  },
  {
   "cell_type": "code",
   "execution_count": 8,
   "metadata": {},
   "outputs": [
    {
     "ename": "AttributeError",
     "evalue": "'Webscraper' object has no attribute 'get'",
     "output_type": "error",
     "traceback": [
      "\u001b[31m---------------------------------------------------------------------------\u001b[39m",
      "\u001b[31mAttributeError\u001b[39m                            Traceback (most recent call last)",
      "\u001b[36mCell\u001b[39m\u001b[36m \u001b[39m\u001b[32mIn[8]\u001b[39m\u001b[32m, line 1\u001b[39m\n\u001b[32m----> \u001b[39m\u001b[32m1\u001b[39m df = \u001b[43mscraper\u001b[49m\u001b[43m.\u001b[49m\u001b[43mget\u001b[49m\n",
      "\u001b[31mAttributeError\u001b[39m: 'Webscraper' object has no attribute 'get'"
     ]
    }
   ],
   "source": [
    "df = scraper.get"
   ]
  },
  {
   "cell_type": "code",
   "execution_count": null,
   "metadata": {},
   "outputs": [],
   "source": [
    "import pandas as pd\n",
    "import requests"
   ]
  },
  {
   "cell_type": "code",
   "execution_count": null,
   "metadata": {},
   "outputs": [],
   "source": [
    "# def send_csv_to_zapier(file_path: str):\n",
    "#     webhook_url = \"https://hooks.zapier.com/hooks/catch/22208472/2egbtp9/\"\n",
    "#     with open(file_path, \"rb\") as f:\n",
    "#         files = {\"file\": f}\n",
    "#         response = requests.post(webhook_url, files=files)\n",
    "#     return response.status_code"
   ]
  },
  {
   "cell_type": "code",
   "execution_count": null,
   "metadata": {},
   "outputs": [],
   "source": [
    "# send_csv_to_zapier(\"C:/Users/derkv/OneDrive/Documenten/Brightminds\\Webscraper/scraped_data/scraped_results_full_result_23_03_2025.csv\")"
   ]
  }
 ],
 "metadata": {
  "kernelspec": {
   "display_name": "venv_webscraper",
   "language": "python",
   "name": "python3"
  },
  "language_info": {
   "codemirror_mode": {
    "name": "ipython",
    "version": 3
   },
   "file_extension": ".py",
   "mimetype": "text/x-python",
   "name": "python",
   "nbconvert_exporter": "python",
   "pygments_lexer": "ipython3",
   "version": "3.11.0"
  }
 },
 "nbformat": 4,
 "nbformat_minor": 2
}
