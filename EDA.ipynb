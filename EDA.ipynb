{
 "cells": [
  {
   "cell_type": "code",
   "execution_count": 25,
   "id": "63f3b0a4",
   "metadata": {},
   "outputs": [],
   "source": [
    "%run code/comparing/price_comparer.py"
   ]
  },
  {
   "cell_type": "code",
   "execution_count": 26,
   "id": "736050f4",
   "metadata": {},
   "outputs": [],
   "source": [
    "import sys\n",
    "import os\n",
    "\n",
    "# Ensure the Webscraper project root is in the Python path\n",
    "project_root = os.path.abspath(\".\")\n",
    "if project_root not in sys.path:\n",
    "    sys.path.insert(0, project_root)"
   ]
  },
  {
   "cell_type": "code",
   "execution_count": 27,
   "id": "29b597ba",
   "metadata": {},
   "outputs": [
    {
     "name": "stdout",
     "output_type": "stream",
     "text": [
      "c:\\Users\\derkv\\OneDrive\\Documenten\\Brightminds\\Webscraper\n"
     ]
    }
   ],
   "source": [
    "import os\n",
    "print(os.getcwd())"
   ]
  },
  {
   "cell_type": "code",
   "execution_count": 29,
   "id": "fb8b80d1",
   "metadata": {},
   "outputs": [],
   "source": [
    "new_file_path = \"C:/Users/derkv/OneDrive/Documenten/Brightminds/Webscraper/data/result_data/result_16_05_2025.xlsx\"\n",
    "old_file_path = \"C:/Users/derkv/Downloads/result_16_05_2025_modified.xlsx\""
   ]
  },
  {
   "cell_type": "code",
   "execution_count": 30,
   "id": "0d13cdd8",
   "metadata": {},
   "outputs": [
    {
     "data": {
      "text/plain": [
       "(                           product_name   pet     brand            size  \\\n",
       " 0  hond|advantix|L (25 - 40 kg)|4.0 pip  hond  advantix  L (25 - 40 kg)   \n",
       " \n",
       "    quantity_package quantity_package_unit  quantity_ordered  \\\n",
       " 0               4.0                   pip                 1   \n",
       " \n",
       "    price_hondenkattenapotheek_old  price_hondenkattenapotheek_new  \n",
       " 0                           30.06                           28.95  ,\n",
       "                            product_name   pet     brand            size  \\\n",
       " 0  hond|advantix|L (25 - 40 kg)|4.0 pip  hond  advantix  L (25 - 40 kg)   \n",
       " \n",
       "    quantity_package quantity_package_unit  quantity_ordered  \\\n",
       " 0               4.0                   pip                 2   \n",
       " \n",
       "    price_hondenkattenapotheek  price_dierapotheker  price_medpets  ...  \\\n",
       " 0                         NaN                 61.2            NaN  ...   \n",
       " \n",
       "    title_pharmacy4pets                                  url_dierapotheker  \\\n",
       " 0                  NaN  https://www.dierapotheker.nl/advantix-spot-on-...   \n",
       " \n",
       "    url_medpets  url_petmarkt  url_pharmacy4pets  \\\n",
       " 0          NaN           NaN                NaN   \n",
       " \n",
       "    is_owned_hondenkattenapotheek  is_owned_dierapotheker is_owned_medpets  \\\n",
       " 0                          False                    True            False   \n",
       " \n",
       "   is_owned_petmarkt is_owned_pharmacy4pets  \n",
       " 0             False                  False  \n",
       " \n",
       " [1 rows x 31 columns],\n",
       "        product_name   pet     brand            size  quantity_package  \\\n",
       " 0  NEW TEST PRODUCT  hond  advantix  L (25 - 40 kg)               4.0   \n",
       " \n",
       "   quantity_package_unit  quantity_ordered  price_hondenkattenapotheek  \\\n",
       " 0                   pip                 3                         NaN   \n",
       " \n",
       "    price_dierapotheker  price_medpets  ...  title_pharmacy4pets  \\\n",
       " 0                89.85            NaN  ...                  NaN   \n",
       " \n",
       "                                    url_dierapotheker  url_medpets  \\\n",
       " 0  https://www.dierapotheker.nl/advantix-spot-on-...          NaN   \n",
       " \n",
       "    url_petmarkt  url_pharmacy4pets  is_owned_hondenkattenapotheek  \\\n",
       " 0           NaN                NaN                          False   \n",
       " \n",
       "    is_owned_dierapotheker is_owned_medpets is_owned_petmarkt  \\\n",
       " 0                    True            False             False   \n",
       " \n",
       "   is_owned_pharmacy4pets  \n",
       " 0                  False  \n",
       " \n",
       " [1 rows x 31 columns])"
      ]
     },
     "execution_count": 30,
     "metadata": {},
     "output_type": "execute_result"
    }
   ],
   "source": [
    "price_comparer = PriceComparer(old_file_path, new_file_path)\n",
    "price_comparer.run()"
   ]
  },
  {
   "cell_type": "code",
   "execution_count": null,
   "id": "6b3b9cf7",
   "metadata": {},
   "outputs": [],
   "source": []
  }
 ],
 "metadata": {
  "kernelspec": {
   "display_name": "venv_webscraper",
   "language": "python",
   "name": "python3"
  },
  "language_info": {
   "codemirror_mode": {
    "name": "ipython",
    "version": 3
   },
   "file_extension": ".py",
   "mimetype": "text/x-python",
   "name": "python",
   "nbconvert_exporter": "python",
   "pygments_lexer": "ipython3",
   "version": "3.11.0"
  }
 },
 "nbformat": 4,
 "nbformat_minor": 5
}
